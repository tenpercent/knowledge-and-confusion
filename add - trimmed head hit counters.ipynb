{
 "cells": [
  {
   "cell_type": "code",
   "execution_count": 16,
   "metadata": {},
   "outputs": [],
   "source": [
    "import transformers as trf\n",
    "import numpy as np\n",
    "import torch as pt\n",
    "import pandas as pd\n",
    "import tqdm\n",
    "import json\n",
    "from collections import OrderedDict"
   ]
  },
  {
   "cell_type": "code",
   "execution_count": 21,
   "metadata": {},
   "outputs": [],
   "source": [
    "class HeadlessBert(pt.nn.Module):\n",
    "    def __init__(self, bert_ver='bert-base-uncased'):\n",
    "        super().__init__()\n",
    "        self.bert = trf.BertModel.from_pretrained(bert_ver)\n",
    "        self.cls = pt.nn.Sequential(OrderedDict([\n",
    "            ('linear', pt.nn.Linear(self.bert.config.hidden_size, self.bert.config.vocab_size, bias=False))\n",
    "        ]))\n",
    "        self.cls.linear.weight = pt.nn.Parameter(self.bert.embeddings.word_embeddings.weight.clone())\n",
    "\n",
    "    def forward(self, X):\n",
    "        bert_out, _ = self.bert(input_ids=X)\n",
    "        return self.cls(bert_out)\n",
    "class Add(pt.nn.Module):\n",
    "    def __init__(self, size):\n",
    "        super().__init__()\n",
    "        self.size = size\n",
    "        self.weight = pt.nn.Parameter(pt.zeros(size))\n",
    "    \n",
    "    def forward(self, X):\n",
    "        return self.weight + X\n",
    "\n",
    "class Scale(pt.nn.Module):\n",
    "    def __init__(self, size):\n",
    "        super().__init__()\n",
    "        self.size = size\n",
    "        self.weight = pt.nn.Parameter(pt.ones(size))\n",
    "    \n",
    "    def forward(self, X):\n",
    "        return self.weight * X\n",
    "class GeLU(pt.nn.Module):\n",
    "    def __init__(self):\n",
    "        super(GeLU, self).__init__()\n",
    "        \n",
    "    def forward(self, X):\n",
    "        return pt.nn.functional.gelu(X)\n",
    "    \n",
    "class LMHeadTrim(pt.nn.Module):\n",
    "    def __init__(self, bert_variant, trim):\n",
    "        super(LMHeadTrim, self).__init__()\n",
    "        tmp = trf.BertForMaskedLM.from_pretrained(bert_variant)\n",
    "        dense_w = pt.nn.Linear(tmp.config.hidden_size, \n",
    "                               tmp.config.hidden_size, \n",
    "                               bias=False)\n",
    "        dense_b = Add(tmp.config.hidden_size)\n",
    "        layernorm_c = pt.nn.LayerNorm(eps=tmp.config.layer_norm_eps,\n",
    "                                normalized_shape=(tmp.config.hidden_size,))\n",
    "        layernorm_w = Scale(tmp.config.hidden_size)\n",
    "        layernorm_b = Add(tmp.config.hidden_size)\n",
    "        decoder_w = pt.nn.Linear(tmp.config.hidden_size, \n",
    "                                 tmp.config.vocab_size, \n",
    "                                 bias=False)\n",
    "        decoder_b = Add(tmp.config.vocab_size)\n",
    "        with pt.no_grad():\n",
    "            dense_w.weight.copy_(tmp.cls.predictions.transform.dense.weight)\n",
    "            dense_b.weight.copy_(tmp.cls.predictions.transform.dense.bias)\n",
    "            layernorm_w.weight.copy_(tmp.cls.predictions.transform.LayerNorm.weight)\n",
    "            layernorm_b.weight.copy_(tmp.cls.predictions.transform.LayerNorm.bias)\n",
    "            decoder_w.weight.copy_(tmp.cls.predictions.decoder.weight)\n",
    "            decoder_b.weight.copy_(tmp.cls.predictions.decoder.bias)\n",
    "\n",
    "        self.seq = pt.nn.Sequential(OrderedDict(\n",
    "          [\n",
    "              ('dense_weight', dense_w),\n",
    "              ('dense_bias', dense_b),\n",
    "              ('gelu', GeLU()),\n",
    "              ('layernorm_center', layernorm_c),\n",
    "              ('layernorm_scale', layernorm_w),\n",
    "              ('layernorm_bias', layernorm_b),\n",
    "          ][:trim] +\n",
    "          [  \n",
    "              ('decoder_weight', decoder_w)\n",
    "          ]\n",
    "        ))\n",
    "        \n",
    "    def forward(self, X):\n",
    "        return self.seq(X)\n",
    "        \n",
    "class BertLMImpl(pt.nn.Module):\n",
    "    def __init__(self, trim, bert_variant='bert-base-uncased'):\n",
    "        super(BertLMImpl, self).__init__()\n",
    "        self.bert = trf.BertModel.from_pretrained(bert_variant)\n",
    "        self.head = LMHeadTrim(bert_variant, trim)\n",
    "        \n",
    "    def forward(self, X):\n",
    "        return self.head(self.bert(input_ids=X)[0])"
   ]
  },
  {
   "cell_type": "code",
   "execution_count": 3,
   "metadata": {},
   "outputs": [],
   "source": [
    "bertlm = trf.BertForMaskedLM.from_pretrained('bert-base-uncased')\n",
    "berthl = HeadlessBert()\n",
    "tkr = trf.BertTokenizer.from_pretrained('bert-base-uncased')"
   ]
  },
  {
   "cell_type": "code",
   "execution_count": 4,
   "metadata": {},
   "outputs": [],
   "source": [
    "data = []\n",
    "path_to_conceptnet = '../data/ConceptNet/'\n",
    "with open(f'{path_to_conceptnet}/test.jsonl', 'r') as f:\n",
    "    for line in f.readlines():\n",
    "        data.append(json.loads(line))"
   ]
  },
  {
   "cell_type": "code",
   "execution_count": 5,
   "metadata": {},
   "outputs": [],
   "source": [
    "def get_obj(x):\n",
    "    try:\n",
    "        return x['obj_label']\n",
    "    except:\n",
    "        print(x)\n",
    "        return None\n",
    "\n",
    "correct_ans = list(map(get_obj, data))"
   ]
  },
  {
   "cell_type": "code",
   "execution_count": 6,
   "metadata": {},
   "outputs": [],
   "source": [
    "correct_ans_tks = list(map(lambda x: tkr.convert_tokens_to_ids([x]), correct_ans))"
   ]
  },
  {
   "cell_type": "code",
   "execution_count": 7,
   "metadata": {},
   "outputs": [
    {
     "data": {
      "text/plain": [
       "[]"
      ]
     },
     "execution_count": 7,
     "metadata": {},
     "output_type": "execute_result"
    }
   ],
   "source": [
    "# DATA IS CLEAN\n",
    "[x for x in correct_ans_tks if len(x) > 1]"
   ]
  },
  {
   "cell_type": "code",
   "execution_count": 8,
   "metadata": {},
   "outputs": [],
   "source": [
    "correct_ans_tks = [x[0] for x in correct_ans_tks]"
   ]
  },
  {
   "cell_type": "code",
   "execution_count": 9,
   "metadata": {},
   "outputs": [
    {
     "name": "stderr",
     "output_type": "stream",
     "text": [
      "29774it [00:07, 3817.76it/s]\n"
     ]
    }
   ],
   "source": [
    "data_tks = list(tqdm.tqdm(map(lambda x: tkr.encode(x['masked_sentences'][0]), data)))"
   ]
  },
  {
   "cell_type": "code",
   "execution_count": 10,
   "metadata": {},
   "outputs": [],
   "source": [
    "data_tks_targets = list(map(lambda x: x.index(tkr.mask_token_id), data_tks))"
   ]
  },
  {
   "cell_type": "code",
   "execution_count": 11,
   "metadata": {},
   "outputs": [
    {
     "name": "stderr",
     "output_type": "stream",
     "text": [
      "29774it [20:51, 23.80it/s]\n"
     ]
    }
   ],
   "source": [
    "# STATS\n",
    "# COUNT ORIGINAL HITS\n",
    "h1 = 0\n",
    "h2 = 0\n",
    "h5 = 0\n",
    "h10 = 0\n",
    "h20 = 0\n",
    "h50 = 0\n",
    "h100 = 0\n",
    "total = 0\n",
    "with pt.no_grad():\n",
    "    for tk, target, ans in tqdm.tqdm(zip(data_tks, data_tks_targets, correct_ans_tks)):\n",
    "        tkm = tk.copy()\n",
    "        total += 1\n",
    "        ranks = ((-bertlm(pt.tensor(tkm).unsqueeze(0))[0][0, target]).argsort())\n",
    "        top_ranks = ranks[:100]\n",
    "        try:\n",
    "            idx = list(top_ranks).index(ans)\n",
    "        except:\n",
    "            continue\n",
    "        if 1 > idx:\n",
    "            h1 += 1\n",
    "        if 2 > idx:\n",
    "            h2 += 1\n",
    "        if 5 > idx:\n",
    "            h5 += 1\n",
    "        if 10 > idx:\n",
    "            h10 += 1\n",
    "        if 20 > idx:\n",
    "            h20 += 1\n",
    "        if 50 > idx:\n",
    "            h50 += 1\n",
    "        h100 += 1"
   ]
  },
  {
   "cell_type": "code",
   "execution_count": 12,
   "metadata": {},
   "outputs": [
    {
     "name": "stdout",
     "output_type": "stream",
     "text": [
      "H@1: 3710\n",
      "H@2: 5285\n",
      "H@5: 7743\n",
      "H@10: 9460\n",
      "H@20: 11219\n",
      "H@50: 13825\n",
      "H@100: 15843\n",
      "Total: 29774\n"
     ]
    }
   ],
   "source": [
    "print(f\"\"\"H@1: {h1}\n",
    "H@2: {h2}\n",
    "H@5: {h5}\n",
    "H@10: {h10}\n",
    "H@20: {h20}\n",
    "H@50: {h50}\n",
    "H@100: {h100}\n",
    "Total: {total}\"\"\")"
   ]
  },
  {
   "cell_type": "code",
   "execution_count": 14,
   "metadata": {},
   "outputs": [
    {
     "name": "stderr",
     "output_type": "stream",
     "text": [
      "29774it [16:49, 29.48it/s]\n"
     ]
    }
   ],
   "source": [
    "# STATS\n",
    "# COUNT ORIGINAL HITS\n",
    "h1 = 0\n",
    "h2 = 0\n",
    "h5 = 0\n",
    "h10 = 0\n",
    "h20 = 0\n",
    "h50 = 0\n",
    "h100 = 0\n",
    "total = 0\n",
    "with pt.no_grad():\n",
    "    for tk, target, ans in tqdm.tqdm(zip(data_tks, data_tks_targets, correct_ans_tks)):\n",
    "        tkm = tk.copy()\n",
    "        total += 1\n",
    "        ranks = ((-berthl(pt.tensor(tkm).unsqueeze(0))[0, target]).argsort())\n",
    "        top_ranks = ranks[:100]\n",
    "        try:\n",
    "            idx = list(top_ranks).index(ans)\n",
    "        except:\n",
    "            continue\n",
    "        if 1 > idx:\n",
    "            h1 += 1\n",
    "        if 2 > idx:\n",
    "            h2 += 1\n",
    "        if 5 > idx:\n",
    "            h5 += 1\n",
    "        if 10 > idx:\n",
    "            h10 += 1\n",
    "        if 20 > idx:\n",
    "            h20 += 1\n",
    "        if 50 > idx:\n",
    "            h50 += 1\n",
    "        h100 += 1"
   ]
  },
  {
   "cell_type": "code",
   "execution_count": 15,
   "metadata": {},
   "outputs": [
    {
     "name": "stdout",
     "output_type": "stream",
     "text": [
      "H@1: 0\n",
      "H@2: 0\n",
      "H@5: 36\n",
      "H@10: 66\n",
      "H@20: 116\n",
      "H@50: 349\n",
      "H@100: 1311\n",
      "Total: 29774\n"
     ]
    }
   ],
   "source": [
    "print(f\"\"\"H@1: {h1}\n",
    "H@2: {h2}\n",
    "H@5: {h5}\n",
    "H@10: {h10}\n",
    "H@20: {h20}\n",
    "H@50: {h50}\n",
    "H@100: {h100}\n",
    "Total: {total}\"\"\")"
   ]
  },
  {
   "cell_type": "code",
   "execution_count": 22,
   "metadata": {},
   "outputs": [
    {
     "name": "stderr",
     "output_type": "stream",
     "text": [
      "29774it [18:20, 27.05it/s]\n"
     ]
    }
   ],
   "source": [
    "bert = BertLMImpl(trim=0)\n",
    "# STATS\n",
    "# COUNT ORIGINAL HITS\n",
    "h1 = 0\n",
    "h2 = 0\n",
    "h5 = 0\n",
    "h10 = 0\n",
    "h20 = 0\n",
    "h50 = 0\n",
    "h100 = 0\n",
    "total = 0\n",
    "with pt.no_grad():\n",
    "    for tk, target, ans in tqdm.tqdm(zip(data_tks, data_tks_targets, correct_ans_tks)):\n",
    "        tkm = tk.copy()\n",
    "        total += 1\n",
    "        ranks = ((-bert(pt.tensor(tkm).unsqueeze(0))[0, target]).argsort())\n",
    "        top_ranks = ranks[:100]\n",
    "        try:\n",
    "            idx = list(top_ranks).index(ans)\n",
    "        except:\n",
    "            continue\n",
    "        if 1 > idx:\n",
    "            h1 += 1\n",
    "        if 2 > idx:\n",
    "            h2 += 1\n",
    "        if 5 > idx:\n",
    "            h5 += 1\n",
    "        if 10 > idx:\n",
    "            h10 += 1\n",
    "        if 20 > idx:\n",
    "            h20 += 1\n",
    "        if 50 > idx:\n",
    "            h50 += 1\n",
    "        h100 += 1"
   ]
  },
  {
   "cell_type": "code",
   "execution_count": 23,
   "metadata": {},
   "outputs": [
    {
     "name": "stdout",
     "output_type": "stream",
     "text": [
      "H@1: 0\n",
      "H@2: 0\n",
      "H@5: 36\n",
      "H@10: 66\n",
      "H@20: 116\n",
      "H@50: 349\n",
      "H@100: 1311\n",
      "Total: 29774\n"
     ]
    }
   ],
   "source": [
    "print(f\"\"\"H@1: {h1}\n",
    "H@2: {h2}\n",
    "H@5: {h5}\n",
    "H@10: {h10}\n",
    "H@20: {h20}\n",
    "H@50: {h50}\n",
    "H@100: {h100}\n",
    "Total: {total}\"\"\")"
   ]
  },
  {
   "cell_type": "code",
   "execution_count": 24,
   "metadata": {},
   "outputs": [
    {
     "name": "stderr",
     "output_type": "stream",
     "text": [
      "29774it [18:13, 27.23it/s]\n"
     ]
    }
   ],
   "source": [
    "bert = BertLMImpl(trim=1)\n",
    "# STATS\n",
    "# COUNT ORIGINAL HITS\n",
    "h1 = 0\n",
    "h2 = 0\n",
    "h5 = 0\n",
    "h10 = 0\n",
    "h20 = 0\n",
    "h50 = 0\n",
    "h100 = 0\n",
    "total = 0\n",
    "with pt.no_grad():\n",
    "    for tk, target, ans in tqdm.tqdm(zip(data_tks, data_tks_targets, correct_ans_tks)):\n",
    "        tkm = tk.copy()\n",
    "        total += 1\n",
    "        ranks = ((-bert(pt.tensor(tkm).unsqueeze(0))[0, target]).argsort())\n",
    "        top_ranks = ranks[:100]\n",
    "        try:\n",
    "            idx = list(top_ranks).index(ans)\n",
    "        except:\n",
    "            continue\n",
    "        if 1 > idx:\n",
    "            h1 += 1\n",
    "        if 2 > idx:\n",
    "            h2 += 1\n",
    "        if 5 > idx:\n",
    "            h5 += 1\n",
    "        if 10 > idx:\n",
    "            h10 += 1\n",
    "        if 20 > idx:\n",
    "            h20 += 1\n",
    "        if 50 > idx:\n",
    "            h50 += 1\n",
    "        h100 += 1"
   ]
  },
  {
   "cell_type": "code",
   "execution_count": 25,
   "metadata": {},
   "outputs": [
    {
     "name": "stdout",
     "output_type": "stream",
     "text": [
      "H@1: 66\n",
      "H@2: 121\n",
      "H@5: 219\n",
      "H@10: 405\n",
      "H@20: 654\n",
      "H@50: 1241\n",
      "H@100: 1927\n",
      "Total: 29774\n"
     ]
    }
   ],
   "source": [
    "print(f\"\"\"H@1: {h1}\n",
    "H@2: {h2}\n",
    "H@5: {h5}\n",
    "H@10: {h10}\n",
    "H@20: {h20}\n",
    "H@50: {h50}\n",
    "H@100: {h100}\n",
    "Total: {total}\"\"\")"
   ]
  },
  {
   "cell_type": "code",
   "execution_count": 26,
   "metadata": {},
   "outputs": [
    {
     "name": "stderr",
     "output_type": "stream",
     "text": [
      "29774it [18:05, 27.43it/s]\n"
     ]
    }
   ],
   "source": [
    "bert = BertLMImpl(trim=2)\n",
    "# STATS\n",
    "# COUNT ORIGINAL HITS\n",
    "h1 = 0\n",
    "h2 = 0\n",
    "h5 = 0\n",
    "h10 = 0\n",
    "h20 = 0\n",
    "h50 = 0\n",
    "h100 = 0\n",
    "total = 0\n",
    "with pt.no_grad():\n",
    "    for tk, target, ans in tqdm.tqdm(zip(data_tks, data_tks_targets, correct_ans_tks)):\n",
    "        tkm = tk.copy()\n",
    "        total += 1\n",
    "        ranks = ((-bert(pt.tensor(tkm).unsqueeze(0))[0, target]).argsort())\n",
    "        top_ranks = ranks[:100]\n",
    "        try:\n",
    "            idx = list(top_ranks).index(ans)\n",
    "        except:\n",
    "            continue\n",
    "        if 1 > idx:\n",
    "            h1 += 1\n",
    "        if 2 > idx:\n",
    "            h2 += 1\n",
    "        if 5 > idx:\n",
    "            h5 += 1\n",
    "        if 10 > idx:\n",
    "            h10 += 1\n",
    "        if 20 > idx:\n",
    "            h20 += 1\n",
    "        if 50 > idx:\n",
    "            h50 += 1\n",
    "        h100 += 1"
   ]
  },
  {
   "cell_type": "code",
   "execution_count": 27,
   "metadata": {},
   "outputs": [
    {
     "name": "stdout",
     "output_type": "stream",
     "text": [
      "H@1: 60\n",
      "H@2: 105\n",
      "H@5: 189\n",
      "H@10: 349\n",
      "H@20: 581\n",
      "H@50: 1147\n",
      "H@100: 1849\n",
      "Total: 29774\n"
     ]
    }
   ],
   "source": [
    "print(f\"\"\"H@1: {h1}\n",
    "H@2: {h2}\n",
    "H@5: {h5}\n",
    "H@10: {h10}\n",
    "H@20: {h20}\n",
    "H@50: {h50}\n",
    "H@100: {h100}\n",
    "Total: {total}\"\"\")"
   ]
  },
  {
   "cell_type": "code",
   "execution_count": 28,
   "metadata": {},
   "outputs": [
    {
     "name": "stderr",
     "output_type": "stream",
     "text": [
      "29774it [18:19, 27.08it/s]\n"
     ]
    }
   ],
   "source": [
    "bert = BertLMImpl(trim=3)\n",
    "# STATS\n",
    "# COUNT ORIGINAL HITS\n",
    "h1 = 0\n",
    "h2 = 0\n",
    "h5 = 0\n",
    "h10 = 0\n",
    "h20 = 0\n",
    "h50 = 0\n",
    "h100 = 0\n",
    "total = 0\n",
    "with pt.no_grad():\n",
    "    for tk, target, ans in tqdm.tqdm(zip(data_tks, data_tks_targets, correct_ans_tks)):\n",
    "        tkm = tk.copy()\n",
    "        total += 1\n",
    "        ranks = ((-bert(pt.tensor(tkm).unsqueeze(0))[0, target]).argsort())\n",
    "        top_ranks = ranks[:100]\n",
    "        try:\n",
    "            idx = list(top_ranks).index(ans)\n",
    "        except:\n",
    "            continue\n",
    "        if 1 > idx:\n",
    "            h1 += 1\n",
    "        if 2 > idx:\n",
    "            h2 += 1\n",
    "        if 5 > idx:\n",
    "            h5 += 1\n",
    "        if 10 > idx:\n",
    "            h10 += 1\n",
    "        if 20 > idx:\n",
    "            h20 += 1\n",
    "        if 50 > idx:\n",
    "            h50 += 1\n",
    "        h100 += 1"
   ]
  },
  {
   "cell_type": "code",
   "execution_count": 29,
   "metadata": {},
   "outputs": [
    {
     "name": "stdout",
     "output_type": "stream",
     "text": [
      "H@1: 4\n",
      "H@2: 12\n",
      "H@5: 593\n",
      "H@10: 978\n",
      "H@20: 1354\n",
      "H@50: 2137\n",
      "H@100: 3247\n",
      "Total: 29774\n"
     ]
    }
   ],
   "source": [
    "print(f\"\"\"H@1: {h1}\n",
    "H@2: {h2}\n",
    "H@5: {h5}\n",
    "H@10: {h10}\n",
    "H@20: {h20}\n",
    "H@50: {h50}\n",
    "H@100: {h100}\n",
    "Total: {total}\"\"\")"
   ]
  },
  {
   "cell_type": "code",
   "execution_count": 30,
   "metadata": {},
   "outputs": [
    {
     "name": "stderr",
     "output_type": "stream",
     "text": [
      "29774it [18:12, 27.26it/s]\n"
     ]
    }
   ],
   "source": [
    "bert = BertLMImpl(trim=4)\n",
    "# STATS\n",
    "# COUNT ORIGINAL HITS\n",
    "h1 = 0\n",
    "h2 = 0\n",
    "h5 = 0\n",
    "h10 = 0\n",
    "h20 = 0\n",
    "h50 = 0\n",
    "h100 = 0\n",
    "total = 0\n",
    "with pt.no_grad():\n",
    "    for tk, target, ans in tqdm.tqdm(zip(data_tks, data_tks_targets, correct_ans_tks)):\n",
    "        tkm = tk.copy()\n",
    "        total += 1\n",
    "        ranks = ((-bert(pt.tensor(tkm).unsqueeze(0))[0, target]).argsort())\n",
    "        top_ranks = ranks[:100]\n",
    "        try:\n",
    "            idx = list(top_ranks).index(ans)\n",
    "        except:\n",
    "            continue\n",
    "        if 1 > idx:\n",
    "            h1 += 1\n",
    "        if 2 > idx:\n",
    "            h2 += 1\n",
    "        if 5 > idx:\n",
    "            h5 += 1\n",
    "        if 10 > idx:\n",
    "            h10 += 1\n",
    "        if 20 > idx:\n",
    "            h20 += 1\n",
    "        if 50 > idx:\n",
    "            h50 += 1\n",
    "        h100 += 1"
   ]
  },
  {
   "cell_type": "code",
   "execution_count": 31,
   "metadata": {},
   "outputs": [
    {
     "name": "stdout",
     "output_type": "stream",
     "text": [
      "H@1: 1858\n",
      "H@2: 2571\n",
      "H@5: 3726\n",
      "H@10: 4770\n",
      "H@20: 5984\n",
      "H@50: 7776\n",
      "H@100: 9488\n",
      "Total: 29774\n"
     ]
    }
   ],
   "source": [
    "print(f\"\"\"H@1: {h1}\n",
    "H@2: {h2}\n",
    "H@5: {h5}\n",
    "H@10: {h10}\n",
    "H@20: {h20}\n",
    "H@50: {h50}\n",
    "H@100: {h100}\n",
    "Total: {total}\"\"\")"
   ]
  },
  {
   "cell_type": "code",
   "execution_count": 32,
   "metadata": {},
   "outputs": [
    {
     "name": "stderr",
     "output_type": "stream",
     "text": [
      "29774it [18:13, 27.23it/s]\n"
     ]
    }
   ],
   "source": [
    "bert = BertLMImpl(trim=5)\n",
    "# STATS\n",
    "# COUNT ORIGINAL HITS\n",
    "h1 = 0\n",
    "h2 = 0\n",
    "h5 = 0\n",
    "h10 = 0\n",
    "h20 = 0\n",
    "h50 = 0\n",
    "h100 = 0\n",
    "total = 0\n",
    "with pt.no_grad():\n",
    "    for tk, target, ans in tqdm.tqdm(zip(data_tks, data_tks_targets, correct_ans_tks)):\n",
    "        tkm = tk.copy()\n",
    "        total += 1\n",
    "        ranks = ((-bert(pt.tensor(tkm).unsqueeze(0))[0, target]).argsort())\n",
    "        top_ranks = ranks[:100]\n",
    "        try:\n",
    "            idx = list(top_ranks).index(ans)\n",
    "        except:\n",
    "            continue\n",
    "        if 1 > idx:\n",
    "            h1 += 1\n",
    "        if 2 > idx:\n",
    "            h2 += 1\n",
    "        if 5 > idx:\n",
    "            h5 += 1\n",
    "        if 10 > idx:\n",
    "            h10 += 1\n",
    "        if 20 > idx:\n",
    "            h20 += 1\n",
    "        if 50 > idx:\n",
    "            h50 += 1\n",
    "        h100 += 1"
   ]
  },
  {
   "cell_type": "code",
   "execution_count": 33,
   "metadata": {},
   "outputs": [
    {
     "name": "stdout",
     "output_type": "stream",
     "text": [
      "H@1: 3737\n",
      "H@2: 5339\n",
      "H@5: 7581\n",
      "H@10: 9437\n",
      "H@20: 11224\n",
      "H@50: 13726\n",
      "H@100: 15628\n",
      "Total: 29774\n"
     ]
    }
   ],
   "source": [
    "print(f\"\"\"H@1: {h1}\n",
    "H@2: {h2}\n",
    "H@5: {h5}\n",
    "H@10: {h10}\n",
    "H@20: {h20}\n",
    "H@50: {h50}\n",
    "H@100: {h100}\n",
    "Total: {total}\"\"\")"
   ]
  },
  {
   "cell_type": "code",
   "execution_count": 34,
   "metadata": {},
   "outputs": [
    {
     "name": "stderr",
     "output_type": "stream",
     "text": [
      "29774it [18:08, 27.34it/s]\n"
     ]
    }
   ],
   "source": [
    "bert = BertLMImpl(trim=6)\n",
    "# STATS\n",
    "# COUNT ORIGINAL HITS\n",
    "h1 = 0\n",
    "h2 = 0\n",
    "h5 = 0\n",
    "h10 = 0\n",
    "h20 = 0\n",
    "h50 = 0\n",
    "h100 = 0\n",
    "total = 0\n",
    "with pt.no_grad():\n",
    "    for tk, target, ans in tqdm.tqdm(zip(data_tks, data_tks_targets, correct_ans_tks)):\n",
    "        tkm = tk.copy()\n",
    "        total += 1\n",
    "        ranks = ((-bert(pt.tensor(tkm).unsqueeze(0))[0, target]).argsort())\n",
    "        top_ranks = ranks[:100]\n",
    "        try:\n",
    "            idx = list(top_ranks).index(ans)\n",
    "        except:\n",
    "            continue\n",
    "        if 1 > idx:\n",
    "            h1 += 1\n",
    "        if 2 > idx:\n",
    "            h2 += 1\n",
    "        if 5 > idx:\n",
    "            h5 += 1\n",
    "        if 10 > idx:\n",
    "            h10 += 1\n",
    "        if 20 > idx:\n",
    "            h20 += 1\n",
    "        if 50 > idx:\n",
    "            h50 += 1\n",
    "        h100 += 1"
   ]
  },
  {
   "cell_type": "code",
   "execution_count": 35,
   "metadata": {},
   "outputs": [
    {
     "name": "stdout",
     "output_type": "stream",
     "text": [
      "H@1: 3762\n",
      "H@2: 5359\n",
      "H@5: 7804\n",
      "H@10: 9579\n",
      "H@20: 11224\n",
      "H@50: 13862\n",
      "H@100: 15905\n",
      "Total: 29774\n"
     ]
    }
   ],
   "source": [
    "print(f\"\"\"H@1: {h1}\n",
    "H@2: {h2}\n",
    "H@5: {h5}\n",
    "H@10: {h10}\n",
    "H@20: {h20}\n",
    "H@50: {h50}\n",
    "H@100: {h100}\n",
    "Total: {total}\"\"\")"
   ]
  }
 ],
 "metadata": {
  "kernelspec": {
   "display_name": "Python 3",
   "language": "python",
   "name": "python3"
  },
  "language_info": {
   "codemirror_mode": {
    "name": "ipython",
    "version": 3
   },
   "file_extension": ".py",
   "mimetype": "text/x-python",
   "name": "python",
   "nbconvert_exporter": "python",
   "pygments_lexer": "ipython3",
   "version": "3.6.9"
  }
 },
 "nbformat": 4,
 "nbformat_minor": 2
}
