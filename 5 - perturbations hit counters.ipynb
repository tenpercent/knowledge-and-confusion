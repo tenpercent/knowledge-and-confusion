{
 "cells": [
  {
   "cell_type": "code",
   "execution_count": 1,
   "metadata": {},
   "outputs": [
    {
     "name": "stderr",
     "output_type": "stream",
     "text": [
      "Intel(R) Data Analytics Acceleration Library (Intel(R) DAAL) solvers for sklearn enabled: https://intelpython.github.io/daal4py/sklearn.html\n"
     ]
    }
   ],
   "source": [
    "import transformers as trf\n",
    "import numpy as np\n",
    "import torch as pt\n",
    "import pandas as pd\n",
    "import tqdm\n",
    "import json"
   ]
  },
  {
   "cell_type": "code",
   "execution_count": 2,
   "metadata": {},
   "outputs": [],
   "source": [
    "bert = trf.BertForMaskedLM.from_pretrained('bert-base-uncased')\n",
    "tkr = trf.BertTokenizer.from_pretrained('bert-base-uncased')"
   ]
  },
  {
   "cell_type": "code",
   "execution_count": 3,
   "metadata": {},
   "outputs": [],
   "source": [
    "data = []\n",
    "path_to_conceptnet = '../data/ConceptNet/'\n",
    "with open(f'{path_to_conceptnet}/test.jsonl', 'r') as f:\n",
    "    for line in f.readlines():\n",
    "        data.append(json.loads(line))"
   ]
  },
  {
   "cell_type": "code",
   "execution_count": 4,
   "metadata": {},
   "outputs": [
    {
     "data": {
      "text/plain": [
       "[{'sub': 'alive',\n",
       "  'obj': 'think',\n",
       "  'pred': 'HasSubevent',\n",
       "  'masked_sentences': ['One of the things you do when you are alive is [MASK].'],\n",
       "  'obj_label': 'think',\n",
       "  'uuid': 'd4f11631dde8a43beda613ec845ff7d1'},\n",
       " {'sub': 'analyse',\n",
       "  'obj': 'paralysis',\n",
       "  'pred': 'HasSubevent',\n",
       "  'masked_sentences': ['Something that might happen when you analyse something is [MASK].'],\n",
       "  'obj_label': 'paralysis',\n",
       "  'uuid': '4b0c94af3a9339e4e5a3f9cbc057fac8'}]"
      ]
     },
     "execution_count": 4,
     "metadata": {},
     "output_type": "execute_result"
    }
   ],
   "source": [
    "data[:2]"
   ]
  },
  {
   "cell_type": "code",
   "execution_count": 5,
   "metadata": {},
   "outputs": [],
   "source": [
    "def get_obj(x):\n",
    "    try:\n",
    "        return x['obj_label']\n",
    "    except:\n",
    "        print(x)\n",
    "        return None\n",
    "\n",
    "correct_ans = list(map(get_obj, data))"
   ]
  },
  {
   "cell_type": "code",
   "execution_count": 6,
   "metadata": {},
   "outputs": [],
   "source": [
    "correct_ans_tks = list(map(lambda x: tkr.convert_tokens_to_ids([x]), correct_ans))"
   ]
  },
  {
   "cell_type": "code",
   "execution_count": 7,
   "metadata": {},
   "outputs": [
    {
     "data": {
      "text/plain": [
       "[]"
      ]
     },
     "execution_count": 7,
     "metadata": {},
     "output_type": "execute_result"
    }
   ],
   "source": [
    "# DATA IS CLEAN\n",
    "[x for x in correct_ans_tks if len(x) > 1]"
   ]
  },
  {
   "cell_type": "code",
   "execution_count": 8,
   "metadata": {},
   "outputs": [],
   "source": [
    "correct_ans_tks = [x[0] for x in correct_ans_tks]"
   ]
  },
  {
   "cell_type": "code",
   "execution_count": 9,
   "metadata": {},
   "outputs": [
    {
     "name": "stderr",
     "output_type": "stream",
     "text": [
      "29774it [00:07, 4077.22it/s]\n"
     ]
    }
   ],
   "source": [
    "data_tks = list(tqdm.tqdm(map(lambda x: tkr.encode(x['masked_sentences'][0]), data)))"
   ]
  },
  {
   "cell_type": "code",
   "execution_count": 10,
   "metadata": {},
   "outputs": [],
   "source": [
    "data_tks_targets = list(map(lambda x: x.index(tkr.mask_token_id), data_tks))"
   ]
  },
  {
   "cell_type": "code",
   "execution_count": 11,
   "metadata": {},
   "outputs": [],
   "source": [
    "# ORIGINAL EXAMPLES\n",
    "# predictions = []\n",
    "# with pt.no_grad():\n",
    "#     for tk, target in tqdm.tqdm(zip(data_tks, data_tks_targets)):\n",
    "#         predictions.append((-bert(pt.tensor(tk).unsqueeze(0))[0][0, target]).argsort())\n",
    "# predictions"
   ]
  },
  {
   "cell_type": "code",
   "execution_count": 12,
   "metadata": {},
   "outputs": [
    {
     "name": "stderr",
     "output_type": "stream",
     "text": [
      "20it [00:00, 26.62it/s]"
     ]
    },
    {
     "name": "stdout",
     "output_type": "stream",
     "text": [
      "['sleep', 'think', 'cry', 'eat', 'pray']\n",
      "['wrong', 'dangerous', 'possible', 'happening', 'important']\n",
      "['dangerous', 'impossible', 'possible', 'important', 'unknown']\n",
      "['dangerous', 'impossible', 'possible', 'important', 'unknown']\n",
      "['explanation', 'idea', 'name', 'theory', 'answer']\n",
      "['worth', 'not', 'doing', 'about', 'beyond']\n",
      "['cry', 'scream', 'yell', 'talk', 'crying']\n",
      "['sleep', 'dreams', 'dream', 'dreaming', 'sleeping']\n",
      "['dangerous', 'bad', 'impossible', 'different', 'normal']\n",
      "['awake', 'asleep', 'sleep', 'sleeping', 'dead']\n",
      "['sleep', ',', 'talk', 'rest', 'eat']\n",
      "['news', 'radio', 'bell', 'call', 'alarm']\n",
      "['act', 'behave', 'run', 'move', 'look']\n",
      "['dangerous', 'forbidden', 'impossible', 'safe', 'risky']\n",
      "['it', 'them', 'that', 'this', 'water']\n",
      "['dangerous', 'forbidden', 'impossible', 'important', 'safe']\n",
      "['read', 'opened', 'bought', 'wore', 'dropped']\n",
      "['dangerous', 'forbidden', 'impossible', 'important', 'safe']\n",
      "['get', 'go', 'turn', 'walk', 'come']\n",
      "['taking', 'drawing', 'breathing', 'pumping', 'pushing']\n"
     ]
    },
    {
     "name": "stderr",
     "output_type": "stream",
     "text": [
      "\n"
     ]
    }
   ],
   "source": [
    "# EXPLORATION\n",
    "# ORIGINAL ANSWERS FOR FIRST 20 QUESTIONS\n",
    "predictions = []\n",
    "with pt.no_grad():\n",
    "    for tk, target in tqdm.tqdm(zip(data_tks, data_tks_targets[:20])):\n",
    "        predictions.append((-bert(pt.tensor(tk).unsqueeze(0))[0][0, target]).argsort())\n",
    "for ranked in predictions:\n",
    "    print(tkr.convert_ids_to_tokens(ranked[:5]))"
   ]
  },
  {
   "cell_type": "code",
   "execution_count": 13,
   "metadata": {},
   "outputs": [
    {
     "name": "stderr",
     "output_type": "stream",
     "text": [
      "20it [00:00, 25.99it/s]"
     ]
    },
    {
     "name": "stdout",
     "output_type": "stream",
     "text": [
      "['.', ';', '?', '!', '|']\n",
      "['.', ';', '?', '!', '...']\n",
      "['.', ';', '?', '!', '...']\n",
      "['.', ';', '?', '!', '...']\n",
      "['.', '?', ';', '!', '...']\n",
      "['worth', 'not', 'doing', 'about', 'like']\n",
      "['.', ';', '?', '!', ':']\n",
      "['sleep', 'dreams', 'dream', 'night', 'home']\n",
      "['.', ';', '?', '!', '...']\n",
      "['awake', 'asleep', 'sleeping', 'unconscious', 'dead']\n",
      "[',', 'be', 'know', 'go', 'die']\n",
      "['bell', 'radio', 'call', 'news', 'phone']\n",
      "['run', 'behave', 'walk', 'act', 'move']\n",
      "['.', ';', '?', '!', '...']\n",
      "['it', 'them', 'this', 'that', 'water']\n",
      "['.', ';', '?', '!', '...']\n",
      "['read', 'in', 'reading', 'from', 'bought']\n",
      "['.', ';', '?', '!', '...']\n",
      "['get', 'go', 'turn', 'come', 'walk']\n",
      "['taking', 'breathing', 'drawing', 'pumping', 'pushing']\n"
     ]
    },
    {
     "name": "stderr",
     "output_type": "stream",
     "text": [
      "\n"
     ]
    }
   ],
   "source": [
    "# EXPLORATION\n",
    "# REMOVE PERIOD IF IT IS FOUND\n",
    "predictions = []\n",
    "with pt.no_grad():\n",
    "    for tk, target in tqdm.tqdm(zip(data_tks, data_tks_targets[:20])):\n",
    "        tkm = tk.copy()\n",
    "        tkm.remove(tkr.convert_tokens_to_ids(['.'])[0])\n",
    "        predictions.append((-bert(pt.tensor(tkm).unsqueeze(0))[0][0, target]).argsort())\n",
    "for ranked in predictions:\n",
    "    print(tkr.convert_ids_to_tokens(ranked[:5]))"
   ]
  },
  {
   "cell_type": "code",
   "execution_count": 14,
   "metadata": {},
   "outputs": [
    {
     "name": "stderr",
     "output_type": "stream",
     "text": [
      "20it [00:00, 25.33it/s]"
     ]
    },
    {
     "name": "stdout",
     "output_type": "stream",
     "text": [
      "['.', '\"', 'the', ',', ')']\n",
      "['.', '\"', 'the', 'a', ')']\n",
      "['.', '\"', 'the', 'a', ')']\n",
      "['.', '\"', 'the', 'a', ')']\n",
      "['one', '.', 'story', 'way', 'start']\n",
      "['\"', '.', 'in', 'on', 'not']\n",
      "['.', '\"', 'the', 'a', ')']\n",
      "['\"', 'i', ',', '.', 'the']\n",
      "['.', '\"', 'the', ')', 'a']\n",
      "['.', '?', 'are', 'know', 'do']\n",
      "['be', 'sleep', ',', 'eat', 'say']\n",
      "['noise', 'voice', 'clock', 'one', 'voices']\n",
      "['more', '\"', ',', '.', 'not']\n",
      "['.', '\"', ')', 'the', \"'\"]\n",
      "['it', 'this', 'them', 'one', 'me']\n",
      "['.', '\"', ')', 'me', 'the']\n",
      "['.', 'in', 'have', 'with', 'are']\n",
      "['.', '\"', ')', 'me', 'the']\n",
      "['are', 'get', 'live', 'go', 'be']\n",
      "['taking', 'breathing', 'putting', 'the', 'pumping']\n"
     ]
    },
    {
     "name": "stderr",
     "output_type": "stream",
     "text": [
      "\n"
     ]
    }
   ],
   "source": [
    "# EXPLORATION\n",
    "# REMOVE SEP IF IT IS FOUND\n",
    "predictions = []\n",
    "with pt.no_grad():\n",
    "    for tk, target in tqdm.tqdm(zip(data_tks, data_tks_targets[:20])):\n",
    "        tkm = tk.copy()\n",
    "        tkm.remove(tkr.sep_token_id)\n",
    "        predictions.append((-bert(pt.tensor(tkm).unsqueeze(0))[0][0, target]).argsort())\n",
    "for ranked in predictions:\n",
    "    print(tkr.convert_ids_to_tokens(ranked[:5]))"
   ]
  },
  {
   "cell_type": "code",
   "execution_count": 15,
   "metadata": {},
   "outputs": [
    {
     "name": "stderr",
     "output_type": "stream",
     "text": [
      "20it [00:00, 26.89it/s]"
     ]
    },
    {
     "name": "stdout",
     "output_type": "stream",
     "text": [
      "['cat', 'cats', 'dog', '##cat', 'kitten']\n",
      "['cat', 'wrong', 'true', 'different', 'something']\n",
      "['wrong', 'possible', 'cat', 'not', 'different']\n",
      "['wrong', 'possible', 'cat', 'not', 'different']\n",
      "['cat', 'kitten', 'dog', 'thing', 'partner']\n",
      "['like', 'not', 'in', 'of', 'about']\n",
      "['cat', 'cats', 'dog', '##cat', 'kitten']\n",
      "['cat', 'cats', 'kitten', 'kitty', 't']\n",
      "['cat', 'cats', 'something', 'kitten', 'not']\n",
      "['cat', 'kitten', 'cats', '##cat', 'bat']\n",
      "['cat', 'sleep', 'stay', 'eat', 'come']\n",
      "['cat', 'cats', 'dog', 'kitten', 'thing']\n",
      "['cat', 'cats', 'kitten', 'not', 'out']\n",
      "['cat', 'something', 'wrong', 'gone', 'animal']\n",
      "['cat', 'kitty', 'dog', 'cats', 'kitten']\n",
      "['cat', 'nice', 'good', 'gone', 'wrong']\n",
      "['cat', 'in', 'with', 'of', '.']\n",
      "['cat', 'nice', 'good', 'gone', 'wrong']\n",
      "['cat', 'get', 'walk', 'go', 'live']\n",
      "['the', 'cat', 'breathing', 'providing', 'taking']\n"
     ]
    },
    {
     "name": "stderr",
     "output_type": "stream",
     "text": [
      "\n"
     ]
    }
   ],
   "source": [
    "# EXPLORATION\n",
    "# REPLACE MASK WITH CAT\n",
    "predictions = []\n",
    "with pt.no_grad():\n",
    "    cat_tk_id = tkr.convert_tokens_to_ids(['cat'])[0]\n",
    "    for tk, target in tqdm.tqdm(zip(data_tks, data_tks_targets[:20])):\n",
    "        tkm = tk.copy()\n",
    "        tkm[target] = cat_tk_id\n",
    "        predictions.append((-bert(pt.tensor(tkm).unsqueeze(0))[0][0, target]).argsort())\n",
    "for ranked in predictions:\n",
    "    print(tkr.convert_ids_to_tokens(ranked[:5]))"
   ]
  },
  {
   "cell_type": "code",
   "execution_count": 16,
   "metadata": {},
   "outputs": [
    {
     "name": "stderr",
     "output_type": "stream",
     "text": [
      "29774it [15:16, 32.50it/s]\n"
     ]
    }
   ],
   "source": [
    "# STATS\n",
    "# COUNT ORIGINAL HITS\n",
    "h1 = 0\n",
    "h2 = 0\n",
    "h5 = 0\n",
    "h10 = 0\n",
    "h20 = 0\n",
    "h50 = 0\n",
    "h100 = 0\n",
    "total = 0\n",
    "with pt.no_grad():\n",
    "    for tk, target, ans in tqdm.tqdm(zip(data_tks, data_tks_targets, correct_ans_tks)):\n",
    "        tkm = tk.copy()\n",
    "        total += 1\n",
    "        ranks = ((-bert(pt.tensor(tkm).unsqueeze(0))[0][0, target]).argsort())\n",
    "        top_ranks = ranks[:100]\n",
    "        try:\n",
    "            idx = list(top_ranks).index(ans)\n",
    "        except:\n",
    "            continue\n",
    "        if 1 > idx:\n",
    "            h1 += 1\n",
    "        if 2 > idx:\n",
    "            h2 += 1\n",
    "        if 5 > idx:\n",
    "            h5 += 1\n",
    "        if 10 > idx:\n",
    "            h10 += 1\n",
    "        if 20 > idx:\n",
    "            h20 += 1\n",
    "        if 50 > idx:\n",
    "            h50 += 1\n",
    "        h100 += 1"
   ]
  },
  {
   "cell_type": "code",
   "execution_count": 17,
   "metadata": {},
   "outputs": [
    {
     "name": "stdout",
     "output_type": "stream",
     "text": [
      "H@1: 3710\n",
      "H@2: 5285\n",
      "H@5: 7743\n",
      "H@10: 9460\n",
      "H@20: 11219\n",
      "H@50: 13825\n",
      "H@100: 15843\n",
      "Total: 29774\n"
     ]
    }
   ],
   "source": [
    "print(f\"\"\"H@1: {h1}\n",
    "H@2: {h2}\n",
    "H@5: {h5}\n",
    "H@10: {h10}\n",
    "H@20: {h20}\n",
    "H@50: {h50}\n",
    "H@100: {h100}\n",
    "Total: {total}\"\"\")"
   ]
  },
  {
   "cell_type": "code",
   "execution_count": 18,
   "metadata": {},
   "outputs": [],
   "source": [
    "# # STATS: RANKS OF CORRECT ANSWER IN ORIGINAL SAMPLES\n",
    "# orig_ranks = []\n",
    "# with pt.no_grad():\n",
    "#     for tk, target, ans in tqdm.tqdm(zip(data_tks, data_tks_targets, correct_ans_tks[:10])):\n",
    "#         ranks = ((-bert(pt.tensor(tk).unsqueeze(0))[0][0, target]).argsort())\n",
    "#         orig_ranks.append(np.where(ranks.numpy() == ans)[0])"
   ]
  },
  {
   "cell_type": "code",
   "execution_count": 19,
   "metadata": {},
   "outputs": [],
   "source": [
    "# orig_ranks"
   ]
  },
  {
   "cell_type": "code",
   "execution_count": 20,
   "metadata": {},
   "outputs": [
    {
     "name": "stderr",
     "output_type": "stream",
     "text": [
      "29774it [14:48, 33.51it/s]\n"
     ]
    }
   ],
   "source": [
    "# STATS\n",
    "# COUNT HITS WITH DOT REMOVED\n",
    "h1 = 0\n",
    "h2 = 0\n",
    "h5 = 0\n",
    "h10 = 0\n",
    "h20 = 0\n",
    "h50 = 0\n",
    "h100 = 0\n",
    "total = 0\n",
    "with pt.no_grad():\n",
    "    for tk, target, ans in tqdm.tqdm(zip(data_tks, data_tks_targets, correct_ans_tks)):\n",
    "        \n",
    "        tkm = tk.copy()\n",
    "        try:\n",
    "            tkm.remove(tkr.convert_tokens_to_ids(['.'])[0])\n",
    "        except:\n",
    "            continue\n",
    "        total += 1\n",
    "        ranks = ((-bert(pt.tensor(tkm).unsqueeze(0))[0][0, target]).argsort())\n",
    "        top_ranks = ranks[:100]\n",
    "        try:\n",
    "            idx = list(top_ranks).index(ans)\n",
    "        except:\n",
    "            continue\n",
    "        if 1 > idx:\n",
    "            h1 += 1\n",
    "        if 2 > idx:\n",
    "            h2 += 1\n",
    "        if 5 > idx:\n",
    "            h5 += 1\n",
    "        if 10 > idx:\n",
    "            h10 += 1\n",
    "        if 20 > idx:\n",
    "            h20 += 1\n",
    "        if 50 > idx:\n",
    "            h50 += 1\n",
    "        h100 += 1"
   ]
  },
  {
   "cell_type": "code",
   "execution_count": 21,
   "metadata": {},
   "outputs": [
    {
     "name": "stdout",
     "output_type": "stream",
     "text": [
      "H@1: 1977\n",
      "H@2: 2834\n",
      "H@5: 3969\n",
      "H@10: 5430\n",
      "H@20: 8050\n",
      "H@50: 11684\n",
      "H@100: 14011\n",
      "Total: 29746\n"
     ]
    }
   ],
   "source": [
    "print(f\"\"\"H@1: {h1}\n",
    "H@2: {h2}\n",
    "H@5: {h5}\n",
    "H@10: {h10}\n",
    "H@20: {h20}\n",
    "H@50: {h50}\n",
    "H@100: {h100}\n",
    "Total: {total}\"\"\")"
   ]
  },
  {
   "cell_type": "code",
   "execution_count": 22,
   "metadata": {},
   "outputs": [
    {
     "name": "stderr",
     "output_type": "stream",
     "text": [
      "29774it [14:04, 35.26it/s]\n"
     ]
    }
   ],
   "source": [
    "# STATS\n",
    "# COUNT HITS WITH SEP REMOVED\n",
    "h1 = 0\n",
    "h2 = 0\n",
    "h5 = 0\n",
    "h10 = 0\n",
    "h20 = 0\n",
    "h50 = 0\n",
    "h100 = 0\n",
    "total = 0\n",
    "with pt.no_grad():\n",
    "    for tk, target, ans in tqdm.tqdm(zip(data_tks, data_tks_targets, correct_ans_tks)):\n",
    "        tkm = tk.copy()\n",
    "        try:\n",
    "            tkm.remove(tkr.sep_token_id)\n",
    "        except:\n",
    "            continue\n",
    "        total += 1\n",
    "        ranks = ((-bert(pt.tensor(tkm).unsqueeze(0))[0][0, target]).argsort())\n",
    "        top_ranks = ranks[:100]\n",
    "        try:\n",
    "            idx = list(top_ranks).index(ans)\n",
    "        except:\n",
    "            continue\n",
    "        if 1 > idx:\n",
    "            h1 += 1\n",
    "        if 2 > idx:\n",
    "            h2 += 1\n",
    "        if 5 > idx:\n",
    "            h5 += 1\n",
    "        if 10 > idx:\n",
    "            h10 += 1\n",
    "        if 20 > idx:\n",
    "            h20 += 1\n",
    "        if 50 > idx:\n",
    "            h50 += 1\n",
    "        h100 += 1"
   ]
  },
  {
   "cell_type": "code",
   "execution_count": 23,
   "metadata": {},
   "outputs": [
    {
     "name": "stdout",
     "output_type": "stream",
     "text": [
      "H@1: 1009\n",
      "H@2: 1649\n",
      "H@5: 2612\n",
      "H@10: 3564\n",
      "H@20: 4632\n",
      "H@50: 6399\n",
      "H@100: 8621\n",
      "Total: 29774\n"
     ]
    }
   ],
   "source": [
    "print(f\"\"\"H@1: {h1}\n",
    "H@2: {h2}\n",
    "H@5: {h5}\n",
    "H@10: {h10}\n",
    "H@20: {h20}\n",
    "H@50: {h50}\n",
    "H@100: {h100}\n",
    "Total: {total}\"\"\")"
   ]
  },
  {
   "cell_type": "code",
   "execution_count": 24,
   "metadata": {},
   "outputs": [
    {
     "name": "stderr",
     "output_type": "stream",
     "text": [
      "90it [00:02, 33.16it/s]"
     ]
    },
    {
     "name": "stdout",
     "output_type": "stream",
     "text": [
      "[CLS] to understand the event \" sam went to climb a tree. \", it is important to know that sam could possibly [MASK] and break something. [SEP]\n"
     ]
    },
    {
     "name": "stderr",
     "output_type": "stream",
     "text": [
      "106it [00:03, 34.71it/s]"
     ]
    },
    {
     "name": "stdout",
     "output_type": "stream",
     "text": [
      "[CLS] learning a language is for communicating with people who [MASK] that language. [SEP]\n"
     ]
    },
    {
     "name": "stderr",
     "output_type": "stream",
     "text": [
      "118it [00:03, 34.72it/s]"
     ]
    },
    {
     "name": "stdout",
     "output_type": "stream",
     "text": [
      "[CLS] competing against someone requires a desire to [MASK]. [SEP]\n"
     ]
    },
    {
     "name": "stderr",
     "output_type": "stream",
     "text": [
      "162it [00:04, 33.68it/s]"
     ]
    },
    {
     "name": "stdout",
     "output_type": "stream",
     "text": [
      "[CLS] situation : hold fast to dream. for if dreams die, life is a broken - winged bird that cannot [MASK]. [SEP]\n"
     ]
    },
    {
     "name": "stderr",
     "output_type": "stream",
     "text": [
      "186it [00:05, 33.71it/s]"
     ]
    },
    {
     "name": "stdout",
     "output_type": "stream",
     "text": [
      "[CLS] something you might do while driving to work is eat, [MASK] the paper, talk on a cell phone and put on makeup all at once. [SEP]\n"
     ]
    },
    {
     "name": "stderr",
     "output_type": "stream",
     "text": [
      "242it [00:07, 33.87it/s]"
     ]
    },
    {
     "name": "stdout",
     "output_type": "stream",
     "text": [
      "[CLS] to understand the event \" raindrops [MASK] the surface of the river. \", it is important to know that when rain \" hits \" something, it is falling upon it. [SEP]\n"
     ]
    },
    {
     "name": "stderr",
     "output_type": "stream",
     "text": [
      "274it [00:08, 33.81it/s]"
     ]
    },
    {
     "name": "stdout",
     "output_type": "stream",
     "text": [
      "[CLS] to understand the event \" frank and will are friends. frank punched will. \", it is important to know that feople [MASK] each other in a fight. [SEP]\n"
     ]
    },
    {
     "name": "stderr",
     "output_type": "stream",
     "text": [
      "326it [00:09, 34.57it/s]"
     ]
    },
    {
     "name": "stdout",
     "output_type": "stream",
     "text": [
      "[CLS] something you need [MASK] do before you judge someone is observe them. [SEP]\n"
     ]
    },
    {
     "name": "stderr",
     "output_type": "stream",
     "text": [
      "366it [00:10, 31.52it/s]"
     ]
    },
    {
     "name": "stdout",
     "output_type": "stream",
     "text": [
      "[CLS] situation : there are certain pillars which have been established as the unshakeable supports of the faith of god. the mightiest of these is learning and the use of the mind, the expansion of consciousness, and [MASK] into the realities of the universe and the hidden mysteries of almighty god. to promote knowledge is thus an inescapable duty imposed on every one of the friends of god. [SEP]\n"
     ]
    },
    {
     "name": "stderr",
     "output_type": "stream",
     "text": [
      "414it [00:12, 34.88it/s]"
     ]
    },
    {
     "name": "stdout",
     "output_type": "stream",
     "text": [
      "[CLS] to understand the event \" martin is a comedian. \", it is important to know that a comedian makes people [MASK] by telling and performing funny things. [SEP]\n"
     ]
    },
    {
     "name": "stderr",
     "output_type": "stream",
     "text": [
      "478it [00:14, 34.90it/s]"
     ]
    },
    {
     "name": "stdout",
     "output_type": "stream",
     "text": [
      "[CLS] something you might do while reading a book is relax the mind and [MASK]. [SEP]\n",
      "[CLS] something you might do while relaxing is [MASK] a book. [SEP]\n"
     ]
    },
    {
     "name": "stderr",
     "output_type": "stream",
     "text": [
      "530it [00:15, 34.46it/s]"
     ]
    },
    {
     "name": "stdout",
     "output_type": "stream",
     "text": [
      "[CLS] to understand the event \" the baby cried. \", it is important to know that a baby might [MASK] because it is sick or hurt. [SEP]\n"
     ]
    },
    {
     "name": "stderr",
     "output_type": "stream",
     "text": [
      "550it [00:16, 34.67it/s]"
     ]
    },
    {
     "name": "stdout",
     "output_type": "stream",
     "text": [
      "[CLS] something that might happen as a consequence of skiing is you might [MASK] into the water. [SEP]\n"
     ]
    },
    {
     "name": "stderr",
     "output_type": "stream",
     "text": [
      "594it [00:17, 34.87it/s]"
     ]
    },
    {
     "name": "stdout",
     "output_type": "stream",
     "text": [
      "[CLS] the statement \" you would howl with laughter because you heard a good joke \" is true because a joke is often a paradoxical play of words that startles people in an unexpected way, often causing people to [MASK] at the surprise. [SEP]\n"
     ]
    },
    {
     "name": "stderr",
     "output_type": "stream",
     "text": [
      "646it [00:18, 34.35it/s]"
     ]
    },
    {
     "name": "stdout",
     "output_type": "stream",
     "text": [
      "[CLS] you would [MASK] the newspaper because you want to select a travel tour. [SEP]\n"
     ]
    },
    {
     "name": "stderr",
     "output_type": "stream",
     "text": [
      "694it [00:20, 34.78it/s]"
     ]
    },
    {
     "name": "stdout",
     "output_type": "stream",
     "text": [
      "[CLS] something that might happen while wrestling is you might accidentally slip and your clothes will [MASK] off and you'll have anal sex. [SEP]\n"
     ]
    },
    {
     "name": "stderr",
     "output_type": "stream",
     "text": [
      "802it [00:23, 35.52it/s]"
     ]
    },
    {
     "name": "stdout",
     "output_type": "stream",
     "text": [
      "[CLS] desks can be made of [MASK]. [SEP]\n"
     ]
    },
    {
     "name": "stderr",
     "output_type": "stream",
     "text": [
      "814it [00:23, 36.04it/s]"
     ]
    },
    {
     "name": "stdout",
     "output_type": "stream",
     "text": [
      "[CLS] a fabric may be made by knitting or sewing [MASK]. [SEP]\n",
      "[CLS] animals can convert oxygen and food into [MASK] dioxide and energy. [SEP]\n"
     ]
    },
    {
     "name": "stderr",
     "output_type": "stream",
     "text": [
      "826it [00:24, 34.80it/s]"
     ]
    },
    {
     "name": "stdout",
     "output_type": "stream",
     "text": [
      "[CLS] a game is a structured form of play in which there are certain [MASK] that must be followed. [SEP]\n"
     ]
    },
    {
     "name": "stderr",
     "output_type": "stream",
     "text": [
      "874it [00:25, 35.53it/s]"
     ]
    },
    {
     "name": "stdout",
     "output_type": "stream",
     "text": [
      "[CLS] situation : i believe that the manipulation of matter on the scale of atoms and [MASK] to make new technologies is a significant part of the technology landscape. [SEP]\n",
      "[CLS] an ozone molecule can consists of three oxygen [MASK]. [SEP]\n"
     ]
    },
    {
     "name": "stderr",
     "output_type": "stream",
     "text": [
      "890it [00:25, 36.44it/s]"
     ]
    },
    {
     "name": "stdout",
     "output_type": "stream",
     "text": [
      "[CLS] a pencil can be made of a piece of lead encased in [MASK]. [SEP]\n"
     ]
    },
    {
     "name": "stderr",
     "output_type": "stream",
     "text": [
      "934it [00:27, 35.30it/s]"
     ]
    },
    {
     "name": "stdout",
     "output_type": "stream",
     "text": [
      "[CLS] a skyscraper can be made of [MASK] and glass. [SEP]\n"
     ]
    },
    {
     "name": "stderr",
     "output_type": "stream",
     "text": [
      "1026it [00:29, 33.90it/s]"
     ]
    },
    {
     "name": "stdout",
     "output_type": "stream",
     "text": [
      "[CLS] chlorophyll combine carbon dioxide and [MASK] and sunlight to produce sugar and oxygen. [SEP]\n",
      "[CLS] the first thing you [MASK] when you clean clothing is make sure that nothing is in the pockets. [SEP]\n",
      "[CLS] to understand the event \" emily gets paid to clean the kitchen. emily cleaned the kitchen. \", it is important to know that emily might use the money to buy a dress or [MASK] her rent. [SEP]\n"
     ]
    },
    {
     "name": "stderr",
     "output_type": "stream",
     "text": [
      "1174it [00:33, 35.89it/s]"
     ]
    },
    {
     "name": "stdout",
     "output_type": "stream",
     "text": [
      "[CLS] the first thing you [MASK] when you sit on a chair is fart. [SEP]\n"
     ]
    },
    {
     "name": "stderr",
     "output_type": "stream",
     "text": [
      "1182it [00:34, 36.05it/s]"
     ]
    },
    {
     "name": "stdout",
     "output_type": "stream",
     "text": [
      "[CLS] the first thing you [MASK] when you fence is being very cautios. [SEP]\n"
     ]
    },
    {
     "name": "stderr",
     "output_type": "stream",
     "text": [
      "1310it [00:37, 35.80it/s]"
     ]
    },
    {
     "name": "stdout",
     "output_type": "stream",
     "text": [
      "[CLS] something you might do while learning is pay [MASK] to the teacher. [SEP]\n",
      "[CLS] learning about a subject requires [MASK], persistence, and time. [SEP]\n"
     ]
    },
    {
     "name": "stderr",
     "output_type": "stream",
     "text": [
      "1374it [00:39, 33.84it/s]"
     ]
    },
    {
     "name": "stdout",
     "output_type": "stream",
     "text": [
      "[CLS] the statement \" lisa knelt down to pray. \" is true because some people [MASK] in a deity. [SEP]\n"
     ]
    },
    {
     "name": "stderr",
     "output_type": "stream",
     "text": [
      "1398it [00:40, 35.42it/s]"
     ]
    },
    {
     "name": "stdout",
     "output_type": "stream",
     "text": [
      "[CLS] situation : i punch hard and [MASK]. [SEP]\n",
      "[CLS] you are likely to [MASK] a paper punch in a drawer. [SEP]\n"
     ]
    },
    {
     "name": "stderr",
     "output_type": "stream",
     "text": [
      "1446it [00:41, 33.49it/s]"
     ]
    },
    {
     "name": "stdout",
     "output_type": "stream",
     "text": [
      "[CLS] if you want to give a gift then you should [MASK] to remember what the person might want. [SEP]\n",
      "[CLS] the first thing you [MASK] when you reproduce is copulate. [SEP]\n"
     ]
    },
    {
     "name": "stderr",
     "output_type": "stream",
     "text": [
      "1470it [00:42, 35.19it/s]"
     ]
    },
    {
     "name": "stdout",
     "output_type": "stream",
     "text": [
      "[CLS] the first thing you [MASK] when you take a bath is run water in the tub. [SEP]\n"
     ]
    },
    {
     "name": "stderr",
     "output_type": "stream",
     "text": [
      "1490it [00:42, 34.94it/s]"
     ]
    },
    {
     "name": "stdout",
     "output_type": "stream",
     "text": [
      "[CLS] to hum along means that one makes long \" singing \" [MASK] from the mouth, without actual words, and participates in the musical event by doing so. [SEP]\n"
     ]
    },
    {
     "name": "stderr",
     "output_type": "stream",
     "text": [
      "1498it [00:43, 33.18it/s]"
     ]
    },
    {
     "name": "stdout",
     "output_type": "stream",
     "text": [
      "[CLS] the statement \" a bed is for napping. \" is true because beds are [MASK] and people normally sleep in them. [SEP]\n"
     ]
    },
    {
     "name": "stderr",
     "output_type": "stream",
     "text": [
      "1542it [00:44, 35.77it/s]"
     ]
    },
    {
     "name": "stdout",
     "output_type": "stream",
     "text": [
      "[CLS] something you need to [MASK] before you surprise someone is sneak up behind them. [SEP]\n",
      "[CLS] if you want to surprise someone then you should [MASK] behind the door. [SEP]\n"
     ]
    },
    {
     "name": "stderr",
     "output_type": "stream",
     "text": [
      "1558it [00:44, 33.36it/s]"
     ]
    },
    {
     "name": "stdout",
     "output_type": "stream",
     "text": [
      "[CLS] talking requires opening your [MASK] and breathing out over a tongue shaped in different ways for different sounds. [SEP]\n"
     ]
    },
    {
     "name": "stderr",
     "output_type": "stream",
     "text": [
      "1574it [00:45, 32.85it/s]"
     ]
    },
    {
     "name": "stdout",
     "output_type": "stream",
     "text": [
      "[CLS] something you might [MASK] while working is think about the clouds. [SEP]\n"
     ]
    },
    {
     "name": "stderr",
     "output_type": "stream",
     "text": [
      "1602it [00:46, 35.79it/s]"
     ]
    },
    {
     "name": "stdout",
     "output_type": "stream",
     "text": [
      "[CLS] to understand the event \" penny took a math test. \", it is important to know that many people [MASK] math is boring. [SEP]\n"
     ]
    },
    {
     "name": "stderr",
     "output_type": "stream",
     "text": [
      "1638it [00:47, 34.16it/s]"
     ]
    },
    {
     "name": "stdout",
     "output_type": "stream",
     "text": [
      "[CLS] wrestling is for increasing [MASK]. [SEP]\n"
     ]
    },
    {
     "name": "stderr",
     "output_type": "stream",
     "text": [
      "1658it [00:47, 33.85it/s]"
     ]
    },
    {
     "name": "stdout",
     "output_type": "stream",
     "text": [
      "[CLS] the statement \" people usually become tired after being awake for 16 hours \" is true because people require an average of 8 hours sleep every 24 hours in order [MASK] remain alert and healthy. [SEP]\n",
      "[CLS] you would buy fresh fruits and vegetables because they taste [MASK] than canned fruit and vegetables. [SEP]\n"
     ]
    },
    {
     "name": "stderr",
     "output_type": "stream",
     "text": [
      "1690it [00:48, 33.68it/s]"
     ]
    },
    {
     "name": "stdout",
     "output_type": "stream",
     "text": [
      "[CLS] something that might happen when you contemplate is come up with an [MASK] to a question. [SEP]\n"
     ]
    },
    {
     "name": "stderr",
     "output_type": "stream",
     "text": [
      "1722it [00:49, 34.80it/s]"
     ]
    },
    {
     "name": "stdout",
     "output_type": "stream",
     "text": [
      "[CLS] if you want to [MASK] the undersea you can learn how to scuba dive. [SEP]\n"
     ]
    },
    {
     "name": "stderr",
     "output_type": "stream",
     "text": [
      "1734it [00:49, 33.34it/s]"
     ]
    },
    {
     "name": "stdout",
     "output_type": "stream",
     "text": [
      "[CLS] all animals need to eat in order to [MASK]. [SEP]\n",
      "[CLS] something that might happen when you entertain someone is they might [MASK] you more. [SEP]\n"
     ]
    },
    {
     "name": "stderr",
     "output_type": "stream",
     "text": [
      "1770it [00:50, 34.53it/s]"
     ]
    },
    {
     "name": "stdout",
     "output_type": "stream",
     "text": [
      "[CLS] you would forgive someone because you want something [MASK] them. [SEP]\n",
      "[CLS] you would forgive someone because you [MASK] them and realize people make mistakes. [SEP]\n"
     ]
    },
    {
     "name": "stderr",
     "output_type": "stream",
     "text": [
      "1778it [00:51, 33.94it/s]"
     ]
    },
    {
     "name": "stdout",
     "output_type": "stream",
     "text": [
      "[CLS] something you [MASK] to do before you pay by credit card is get the card out of your wallet. [SEP]\n"
     ]
    },
    {
     "name": "stderr",
     "output_type": "stream",
     "text": [
      "1830it [00:52, 29.49it/s]"
     ]
    },
    {
     "name": "stdout",
     "output_type": "stream",
     "text": [
      "[CLS] the statement \" a bed is usually to lie on and sleep \" helps answer the question \" where might a person [MASK] some rest? \". [SEP]\n",
      "[CLS] the statement \" a whale is a mammal that looks [MASK] an enormous fish \" is true because whales evolved to live in the sea. [SEP]\n"
     ]
    },
    {
     "name": "stderr",
     "output_type": "stream",
     "text": [
      "1838it [00:53, 31.94it/s]"
     ]
    },
    {
     "name": "stdout",
     "output_type": "stream",
     "text": [
      "[CLS] john was in [MASK] with mary and decided to ask her to marry him. [SEP]\n"
     ]
    },
    {
     "name": "stderr",
     "output_type": "stream",
     "text": [
      "1858it [00:53, 33.47it/s]"
     ]
    },
    {
     "name": "stdout",
     "output_type": "stream",
     "text": [
      "[CLS] you would pretend because you were [MASK] a game or entertaining a wild idea. [SEP]\n"
     ]
    },
    {
     "name": "stderr",
     "output_type": "stream",
     "text": [
      "1894it [00:54, 30.90it/s]"
     ]
    },
    {
     "name": "stdout",
     "output_type": "stream",
     "text": [
      "[CLS] you can buy something to [MASK] from grocer shop. [SEP]\n"
     ]
    },
    {
     "name": "stderr",
     "output_type": "stream",
     "text": [
      "1962it [00:56, 33.18it/s]"
     ]
    },
    {
     "name": "stdout",
     "output_type": "stream",
     "text": [
      "[CLS] another way to [MASK] \" don't talk to yourself in company \" is \" talking to yourself in company is something you should not do \". [SEP]\n"
     ]
    },
    {
     "name": "stderr",
     "output_type": "stream",
     "text": [
      "2030it [00:58, 33.78it/s]"
     ]
    },
    {
     "name": "stdout",
     "output_type": "stream",
     "text": [
      "[CLS] the sun is used for helping plants convert carbon dioxide and [MASK] to sugar and oxygen. [SEP]\n"
     ]
    },
    {
     "name": "stderr",
     "output_type": "stream",
     "text": [
      "2114it [01:01, 34.21it/s]"
     ]
    },
    {
     "name": "stdout",
     "output_type": "stream",
     "text": [
      "[CLS] you can [MASK] a typewriter keyboard to type words on paper. [SEP]\n"
     ]
    },
    {
     "name": "stderr",
     "output_type": "stream",
     "text": [
      "2774it [01:20, 34.31it/s]"
     ]
    },
    {
     "name": "stdout",
     "output_type": "stream",
     "text": [
      "[CLS] you are likely to find a mailbox in the front [MASK]. [SEP]\n"
     ]
    },
    {
     "name": "stderr",
     "output_type": "stream",
     "text": [
      "2806it [01:21, 34.17it/s]"
     ]
    },
    {
     "name": "stdout",
     "output_type": "stream",
     "text": [
      "[CLS] to understand the event \" buffy drove a wooden stake into the vampires heart. \", it is important to know that a heart is an organ which pumps blood through an organism's circulatory [MASK]. [SEP]\n"
     ]
    },
    {
     "name": "stderr",
     "output_type": "stream",
     "text": [
      "2834it [01:21, 34.82it/s]"
     ]
    },
    {
     "name": "stdout",
     "output_type": "stream",
     "text": [
      "[CLS] you are likely to find a sideboard in the dining [MASK]. [SEP]\n",
      "[CLS] most garbage [MASK] be recycled if recycling facilities are available. [SEP]\n"
     ]
    },
    {
     "name": "stderr",
     "output_type": "stream",
     "text": [
      "2854it [01:22, 29.26it/s]"
     ]
    },
    {
     "name": "stdout",
     "output_type": "stream",
     "text": [
      "[CLS] the fact \" if you want to eat vegetables then you should buy some vegetables and wash them. \" is illustrated with the story : 1. i wanted to eat some zucchini with my pasta. 2. i went to the store and bought some zucchini. 3. i took the zucchini home and washed it in the sink to remove dirt, bacteria and pesticides. 4. i chopped up the zucchini and put it in a pot of boiling [MASK] with some pasta shells. 5. when the zucchini and the pasta were soft, i took them out, added some sauce, mixed it all together, and ate it. [SEP]\n"
     ]
    },
    {
     "name": "stderr",
     "output_type": "stream",
     "text": [
      "2886it [01:23, 31.92it/s]"
     ]
    },
    {
     "name": "stdout",
     "output_type": "stream",
     "text": [
      "[CLS] the fact \" information can be stored many ways \" is illustrated with the story : 1. linda obtained some new information. 2. she wanted to [MASK] it for future reference. 3. she typed the information into a computer and saved it on a disk. 4. she wrote down the information on a piece of paper and filed it in a drawer. 5. she told the information to a friend and asked him to remember it. [SEP]\n"
     ]
    },
    {
     "name": "stderr",
     "output_type": "stream",
     "text": [
      "2934it [01:25, 33.92it/s]"
     ]
    },
    {
     "name": "stdout",
     "output_type": "stream",
     "text": [
      "[CLS] fayetteville is the name of a city in the [MASK] of north carolina. [SEP]\n"
     ]
    },
    {
     "name": "stderr",
     "output_type": "stream",
     "text": [
      "3034it [01:27, 34.42it/s]"
     ]
    },
    {
     "name": "stdout",
     "output_type": "stream",
     "text": [
      "[CLS] something you find at the [MASK] of two streets is a lamp post. [SEP]\n"
     ]
    },
    {
     "name": "stderr",
     "output_type": "stream",
     "text": [
      "3110it [01:30, 34.86it/s]"
     ]
    },
    {
     "name": "stdout",
     "output_type": "stream",
     "text": [
      "[CLS] aliens come from outer [MASK], or other countries. [SEP]\n"
     ]
    },
    {
     "name": "stderr",
     "output_type": "stream",
     "text": [
      "3170it [01:31, 34.53it/s]"
     ]
    },
    {
     "name": "stdout",
     "output_type": "stream",
     "text": [
      "[CLS] you are likely to find a grocer in the grocery [MASK]. [SEP]\n"
     ]
    },
    {
     "name": "stderr",
     "output_type": "stream",
     "text": [
      "3266it [01:34, 35.21it/s]"
     ]
    },
    {
     "name": "stdout",
     "output_type": "stream",
     "text": [
      "[CLS] hawaii volcanoes is a national [MASK] in hawaii with a spectacular volcanic area and luxuriant vegetation at lower levels. [SEP]\n"
     ]
    },
    {
     "name": "stderr",
     "output_type": "stream",
     "text": [
      "3302it [01:35, 34.55it/s]"
     ]
    },
    {
     "name": "stdout",
     "output_type": "stream",
     "text": [
      "[CLS] a bean is for anything a vegetable [MASK] be used for. [SEP]\n"
     ]
    },
    {
     "name": "stderr",
     "output_type": "stream",
     "text": [
      "3390it [01:38, 33.98it/s]"
     ]
    },
    {
     "name": "stdout",
     "output_type": "stream",
     "text": [
      "[CLS] a quasar is a distant energy source in [MASK] which gives off large amounts of radiation. [SEP]\n"
     ]
    },
    {
     "name": "stderr",
     "output_type": "stream",
     "text": [
      "3506it [01:41, 32.87it/s]"
     ]
    },
    {
     "name": "stdout",
     "output_type": "stream",
     "text": [
      "[CLS] a street is a public way or thoroughfare in a [MASK] or town. [SEP]\n"
     ]
    },
    {
     "name": "stderr",
     "output_type": "stream",
     "text": [
      "3714it [01:47, 32.23it/s]"
     ]
    },
    {
     "name": "stdout",
     "output_type": "stream",
     "text": [
      "[CLS] the cambridge agreement was that the puritan stockholders of the massachusetts bay company agreed to emigrate to new england on the condition that they would have [MASK] of the government of the colony. [SEP]\n"
     ]
    },
    {
     "name": "stderr",
     "output_type": "stream",
     "text": [
      "3798it [01:50, 34.44it/s]"
     ]
    },
    {
     "name": "stdout",
     "output_type": "stream",
     "text": [
      "[CLS] if you [MASK] at walmart, the clerk will put the items you buy in bags to carry them home in. [SEP]\n"
     ]
    },
    {
     "name": "stderr",
     "output_type": "stream",
     "text": [
      "3806it [01:50, 34.49it/s]"
     ]
    },
    {
     "name": "stdout",
     "output_type": "stream",
     "text": [
      "[CLS] white - collar workers do clerical or knowledge [MASK]. [SEP]\n"
     ]
    },
    {
     "name": "stderr",
     "output_type": "stream",
     "text": [
      "4014it [01:56, 34.37it/s]"
     ]
    },
    {
     "name": "stdout",
     "output_type": "stream",
     "text": [
      "[CLS] to understand the event \" dwight apologized to anne. \", it is important to know that an apology is when you ask someone to [MASK] you and show regret for your actions. [SEP]\n"
     ]
    },
    {
     "name": "stderr",
     "output_type": "stream",
     "text": [
      "4054it [01:57, 34.78it/s]"
     ]
    },
    {
     "name": "stdout",
     "output_type": "stream",
     "text": [
      "[CLS] commercials would make you want to [MASK] lunch. [SEP]\n",
      "[CLS] creativity would make you want to [MASK] a story. [SEP]\n"
     ]
    },
    {
     "name": "stderr",
     "output_type": "stream",
     "text": [
      "4086it [01:58, 35.38it/s]"
     ]
    },
    {
     "name": "stdout",
     "output_type": "stream",
     "text": [
      "[CLS] exhaustion would make you want to [MASK]. [SEP]\n"
     ]
    },
    {
     "name": "stderr",
     "output_type": "stream",
     "text": [
      "4094it [01:58, 34.83it/s]"
     ]
    },
    {
     "name": "stdout",
     "output_type": "stream",
     "text": [
      "[CLS] the statement \" a person wants to [MASK] \" is true because after being awake for about 16 hours, a person feels fatigue, and needs to rest. [SEP]\n"
     ]
    },
    {
     "name": "stderr",
     "output_type": "stream",
     "text": [
      "4114it [01:59, 34.45it/s]"
     ]
    },
    {
     "name": "stdout",
     "output_type": "stream",
     "text": [
      "[CLS] the statement \" in the event \" billy is a soccer player. billy scored a goal. \", something that changed was billy's team won the soccer game \" helps answer the question \" how do you [MASK] points in a soccer game? \". [SEP]\n"
     ]
    },
    {
     "name": "stderr",
     "output_type": "stream",
     "text": [
      "4130it [01:59, 35.02it/s]"
     ]
    },
    {
     "name": "stdout",
     "output_type": "stream",
     "text": [
      "[CLS] ignorance would make you want to [MASK] something new. [SEP]\n"
     ]
    },
    {
     "name": "stderr",
     "output_type": "stream",
     "text": [
      "4162it [02:00, 33.60it/s]"
     ]
    },
    {
     "name": "stdout",
     "output_type": "stream",
     "text": [
      "[CLS] you might like to [MASK] some money on food. [SEP]\n"
     ]
    },
    {
     "name": "stderr",
     "output_type": "stream",
     "text": [
      "4170it [02:01, 33.70it/s]"
     ]
    },
    {
     "name": "stdout",
     "output_type": "stream",
     "text": [
      "[CLS] if you want to relax then you should [MASK] to music. [SEP]\n"
     ]
    },
    {
     "name": "stderr",
     "output_type": "stream",
     "text": [
      "4202it [02:01, 34.96it/s]"
     ]
    },
    {
     "name": "stdout",
     "output_type": "stream",
     "text": [
      "[CLS] you may not [MASK] about reading while you are enjoying the fresh air. [SEP]\n"
     ]
    },
    {
     "name": "stderr",
     "output_type": "stream",
     "text": [
      "4242it [02:03, 35.54it/s]"
     ]
    },
    {
     "name": "stdout",
     "output_type": "stream",
     "text": [
      "[CLS] the vengeance would make you want to [MASK] someone. [SEP]\n"
     ]
    },
    {
     "name": "stderr",
     "output_type": "stream",
     "text": [
      "4418it [02:08, 35.79it/s]"
     ]
    },
    {
     "name": "stdout",
     "output_type": "stream",
     "text": [
      "[CLS] a bronchoscope is an [MASK] used in hospitals. [SEP]\n"
     ]
    },
    {
     "name": "stderr",
     "output_type": "stream",
     "text": [
      "4602it [02:13, 36.92it/s]"
     ]
    },
    {
     "name": "stdout",
     "output_type": "stream",
     "text": [
      "[CLS] mastercard is a credit [MASK] company. [SEP]\n"
     ]
    },
    {
     "name": "stderr",
     "output_type": "stream",
     "text": [
      "4642it [02:14, 35.53it/s]"
     ]
    },
    {
     "name": "stdout",
     "output_type": "stream",
     "text": [
      "[CLS] capital reef is a national park in utah with colored sedimentary [MASK] formations in high, narrow gorges. [SEP]\n"
     ]
    },
    {
     "name": "stderr",
     "output_type": "stream",
     "text": [
      "4654it [02:14, 33.83it/s]"
     ]
    },
    {
     "name": "stdout",
     "output_type": "stream",
     "text": [
      "[CLS] a dioptometer is an [MASK] used to measure eye refraction. [SEP]\n"
     ]
    },
    {
     "name": "stderr",
     "output_type": "stream",
     "text": [
      "4714it [02:16, 35.85it/s]"
     ]
    },
    {
     "name": "stdout",
     "output_type": "stream",
     "text": [
      "[CLS] the [MASK] and symptoms of carbon monoxide poisoning include headache, nausea, weakness, dizziness, mental confusion, hallucinations, and cyanosis. [SEP]\n"
     ]
    },
    {
     "name": "stderr",
     "output_type": "stream",
     "text": [
      "4810it [02:19, 35.58it/s]"
     ]
    },
    {
     "name": "stdout",
     "output_type": "stream",
     "text": [
      "[CLS] picture description : a rollercoaster is often found in an [MASK] park. roller coasters feel dangerous, but only rarely is anyone injured while riding one. [SEP]\n"
     ]
    },
    {
     "name": "stderr",
     "output_type": "stream",
     "text": [
      "4822it [02:19, 34.20it/s]"
     ]
    },
    {
     "name": "stdout",
     "output_type": "stream",
     "text": [
      "[CLS] to understand the event \" sally drove her parents to the mall. \", it is important to know that a mall is a connected set of [MASK] containing many types of retail stores. [SEP]\n"
     ]
    },
    {
     "name": "stderr",
     "output_type": "stream",
     "text": [
      "4838it [02:20, 31.06it/s]"
     ]
    },
    {
     "name": "stdout",
     "output_type": "stream",
     "text": [
      "[CLS] you are [MASK] likely to find a small dog on or in the forest. [SEP]\n"
     ]
    },
    {
     "name": "stderr",
     "output_type": "stream",
     "text": [
      "4854it [02:20, 32.34it/s]"
     ]
    },
    {
     "name": "stdout",
     "output_type": "stream",
     "text": [
      "[CLS] calcium is an [MASK] required to make strong bones. [SEP]\n"
     ]
    },
    {
     "name": "stderr",
     "output_type": "stream",
     "text": [
      "4922it [02:22, 35.31it/s]"
     ]
    },
    {
     "name": "stdout",
     "output_type": "stream",
     "text": [
      "[CLS] linux is [MASK] liked by it educators at universities. [SEP]\n",
      "[CLS] picture description : these are the tuning pegs for a guitar. a guitar is a type of musical instrument. the guitar produces sounds by plucking or striking stretched strings of metal, nylon or other [MASK]. the tuning pegs allow the user to adjust the tension on the strings, and thereby set them at various pitch levels, or sound frequency values. [SEP]\n"
     ]
    },
    {
     "name": "stderr",
     "output_type": "stream",
     "text": [
      "4942it [02:23, 32.62it/s]"
     ]
    },
    {
     "name": "stdout",
     "output_type": "stream",
     "text": [
      "[CLS] architecture is the art and [MASK] of designing and erecting buildings. [SEP]\n"
     ]
    },
    {
     "name": "stderr",
     "output_type": "stream",
     "text": [
      "5018it [02:25, 36.58it/s]"
     ]
    },
    {
     "name": "stdout",
     "output_type": "stream",
     "text": [
      "[CLS] unix is a type of operating [MASK]. [SEP]\n"
     ]
    },
    {
     "name": "stderr",
     "output_type": "stream",
     "text": [
      "5058it [02:26, 35.94it/s]"
     ]
    },
    {
     "name": "stdout",
     "output_type": "stream",
     "text": [
      "[CLS] human beings do [MASK] have wings. [SEP]\n"
     ]
    },
    {
     "name": "stderr",
     "output_type": "stream",
     "text": [
      "5082it [02:27, 34.75it/s]"
     ]
    },
    {
     "name": "stdout",
     "output_type": "stream",
     "text": [
      "[CLS] oligodendrocytes are [MASK] that produce the insulating myelin sheath. [SEP]\n"
     ]
    },
    {
     "name": "stderr",
     "output_type": "stream",
     "text": [
      "5094it [02:27, 35.52it/s]"
     ]
    },
    {
     "name": "stdout",
     "output_type": "stream",
     "text": [
      "[CLS] miata is the name of a car manufactured by the [MASK], \" mazda \". [SEP]\n"
     ]
    },
    {
     "name": "stderr",
     "output_type": "stream",
     "text": [
      "5146it [02:28, 34.00it/s]"
     ]
    },
    {
     "name": "stdout",
     "output_type": "stream",
     "text": [
      "[CLS] the [MASK] \" space \" has several different meanings. one is the blank alphanumeric character. another is a distance between two physical objects. another is a mathematical abstraction. finally, \" space \" can denote the part of the universe, that is, most of it, which lies outside the earth's atmosphere. [SEP]\n"
     ]
    },
    {
     "name": "stderr",
     "output_type": "stream",
     "text": [
      "5166it [02:29, 35.70it/s]"
     ]
    },
    {
     "name": "stdout",
     "output_type": "stream",
     "text": [
      "[CLS] rugby is a [MASK] played on horseback. [SEP]\n"
     ]
    },
    {
     "name": "stderr",
     "output_type": "stream",
     "text": [
      "5194it [02:30, 33.03it/s]"
     ]
    },
    {
     "name": "stdout",
     "output_type": "stream",
     "text": [
      "[CLS] puberty is a gradual [MASK] of sexual development. [SEP]\n"
     ]
    },
    {
     "name": "stderr",
     "output_type": "stream",
     "text": [
      "5274it [02:32, 36.10it/s]"
     ]
    },
    {
     "name": "stdout",
     "output_type": "stream",
     "text": [
      "[CLS] barbecue is a method of [MASK]. [SEP]\n"
     ]
    },
    {
     "name": "stderr",
     "output_type": "stream",
     "text": [
      "5294it [02:33, 36.26it/s]"
     ]
    },
    {
     "name": "stdout",
     "output_type": "stream",
     "text": [
      "[CLS] persian is one variety of [MASK]. [SEP]\n"
     ]
    },
    {
     "name": "stderr",
     "output_type": "stream",
     "text": [
      "5314it [02:33, 34.57it/s]"
     ]
    },
    {
     "name": "stdout",
     "output_type": "stream",
     "text": [
      "[CLS] a bomb is an [MASK] designed to explode. [SEP]\n",
      "[CLS] dictionaries are [MASK] that tell the meanings of lots of words. [SEP]\n",
      "[CLS] picture description : an abstract ( and inaccurate ) graphic [MASK] of written music. [SEP]\n"
     ]
    },
    {
     "name": "stderr",
     "output_type": "stream",
     "text": [
      "5378it [02:35, 32.82it/s]"
     ]
    },
    {
     "name": "stdout",
     "output_type": "stream",
     "text": [
      "[CLS] neko is the japanese word for [MASK]. [SEP]\n",
      "[CLS] the statement \" lettuce is a leafy vegetable that is good in salads \" is true because salads are [MASK] that is usually made of lots of vegetables. [SEP]\n"
     ]
    },
    {
     "name": "stderr",
     "output_type": "stream",
     "text": [
      "5434it [02:37, 35.77it/s]"
     ]
    },
    {
     "name": "stdout",
     "output_type": "stream",
     "text": [
      "[CLS] feelings are [MASK] based on reason. [SEP]\n",
      "[CLS] forests are [MASK] found in cities. [SEP]\n"
     ]
    },
    {
     "name": "stderr",
     "output_type": "stream",
     "text": [
      "5514it [02:39, 35.94it/s]"
     ]
    },
    {
     "name": "stdout",
     "output_type": "stream",
     "text": [
      "[CLS] a stick is used to play a [MASK] called hockey. [SEP]\n"
     ]
    },
    {
     "name": "stderr",
     "output_type": "stream",
     "text": [
      "5554it [02:40, 35.30it/s]"
     ]
    },
    {
     "name": "stdout",
     "output_type": "stream",
     "text": [
      "[CLS] the statement \" photography is the art or process of producing [MASK] on light - sensitive surfaces. \" is true because photography is the taking and processing of photographs. [SEP]\n",
      "[CLS] the statement \" lawyers defend criminals in court. \" is true because lawyers represent [MASK] who are dealing with the courts. [SEP]\n"
     ]
    },
    {
     "name": "stderr",
     "output_type": "stream",
     "text": [
      "5702it [02:44, 35.87it/s]"
     ]
    },
    {
     "name": "stdout",
     "output_type": "stream",
     "text": [
      "[CLS] people can often put garbage is in sacks and [MASK]. [SEP]\n"
     ]
    },
    {
     "name": "stderr",
     "output_type": "stream",
     "text": [
      "5710it [02:45, 34.47it/s]"
     ]
    },
    {
     "name": "stdout",
     "output_type": "stream",
     "text": [
      "[CLS] a sweater [MASK] a shoe are both articles of clothing. [SEP]\n"
     ]
    },
    {
     "name": "stderr",
     "output_type": "stream",
     "text": [
      "5778it [02:46, 35.36it/s]"
     ]
    },
    {
     "name": "stdout",
     "output_type": "stream",
     "text": [
      "[CLS] a church is a [MASK] where people of a certain religion meet to worship. [SEP]\n"
     ]
    },
    {
     "name": "stderr",
     "output_type": "stream",
     "text": [
      "5790it [02:47, 35.05it/s]"
     ]
    },
    {
     "name": "stdout",
     "output_type": "stream",
     "text": [
      "[CLS] a saeculum is a length of [MASK] roughly equal to the lifetime of a person, or about 90 years. [SEP]\n"
     ]
    },
    {
     "name": "stderr",
     "output_type": "stream",
     "text": [
      "5818it [02:48, 34.65it/s]"
     ]
    },
    {
     "name": "stdout",
     "output_type": "stream",
     "text": [
      "[CLS] situation : the two biggest sellers in any bookstore are the cookbooks and the diet books. the cookbooks tell you how to prepare the food, and the diet books tell you how [MASK] to eat any of it! [SEP]\n"
     ]
    },
    {
     "name": "stderr",
     "output_type": "stream",
     "text": [
      "5886it [02:50, 35.56it/s]"
     ]
    },
    {
     "name": "stdout",
     "output_type": "stream",
     "text": [
      "[CLS] the statement \" juries are often sequestered during long trials. \" is true because juries are often sequestered so they are [MASK] influenced by the opinions of their friends and families. [SEP]\n"
     ]
    },
    {
     "name": "stderr",
     "output_type": "stream",
     "text": [
      "5958it [02:52, 35.29it/s]"
     ]
    },
    {
     "name": "stdout",
     "output_type": "stream",
     "text": [
      "[CLS] an emetic is an [MASK] used to induce vomiting. [SEP]\n"
     ]
    },
    {
     "name": "stderr",
     "output_type": "stream",
     "text": [
      "5990it [02:52, 35.56it/s]"
     ]
    },
    {
     "name": "stdout",
     "output_type": "stream",
     "text": [
      "[CLS] anthrax is a deadly bacterial [MASK] spread by spores. [SEP]\n"
     ]
    },
    {
     "name": "stderr",
     "output_type": "stream",
     "text": [
      "6010it [02:53, 31.96it/s]"
     ]
    },
    {
     "name": "stdout",
     "output_type": "stream",
     "text": [
      "[CLS] picture description : a beautiful, artistic picture of a common pitcher, used for storeing and pouring liquids. the [MASK] of the pitcher itself if a rich, deep blue and it contrasts with a reddish brown, concrete like background. the front of the pitcher is not solid blue, but rather a reflection of light and objects, perhaps a branch from a tree and clouds. the reflection is vague enough to be many different things, but with enough form to suggest clouds and a skyline.. [SEP]\n"
     ]
    },
    {
     "name": "stderr",
     "output_type": "stream",
     "text": [
      "6022it [02:53, 34.59it/s]"
     ]
    },
    {
     "name": "stdout",
     "output_type": "stream",
     "text": [
      "[CLS] tuition is a [MASK] charged by institutes of higher education. [SEP]\n"
     ]
    },
    {
     "name": "stderr",
     "output_type": "stream",
     "text": [
      "6050it [02:54, 33.04it/s]"
     ]
    },
    {
     "name": "stdout",
     "output_type": "stream",
     "text": [
      "[CLS] daffodils, like all [MASK], can bloom. [SEP]\n"
     ]
    },
    {
     "name": "stderr",
     "output_type": "stream",
     "text": [
      "6074it [02:55, 35.22it/s]"
     ]
    },
    {
     "name": "stdout",
     "output_type": "stream",
     "text": [
      "[CLS] the first [MASK] you do when you meet a friend is shake hands. [SEP]\n"
     ]
    },
    {
     "name": "stderr",
     "output_type": "stream",
     "text": [
      "6166it [02:58, 34.46it/s]"
     ]
    },
    {
     "name": "stdout",
     "output_type": "stream",
     "text": [
      "[CLS] canoeing is an [MASK] that may be performed while camping. [SEP]\n"
     ]
    },
    {
     "name": "stderr",
     "output_type": "stream",
     "text": [
      "6178it [02:58, 34.24it/s]"
     ]
    },
    {
     "name": "stdout",
     "output_type": "stream",
     "text": [
      "[CLS] a firebomb is a [MASK] for causing an explosion and fire, intended to destroy or damage objects or people where it explodes. [SEP]\n"
     ]
    },
    {
     "name": "stderr",
     "output_type": "stream",
     "text": [
      "6250it [03:00, 35.34it/s]"
     ]
    },
    {
     "name": "stdout",
     "output_type": "stream",
     "text": [
      "[CLS] objectivism is a [MASK] proposed by ayn rand. [SEP]\n"
     ]
    },
    {
     "name": "stderr",
     "output_type": "stream",
     "text": [
      "6262it [03:00, 35.00it/s]"
     ]
    },
    {
     "name": "stdout",
     "output_type": "stream",
     "text": [
      "[CLS] another way to say \" many animal are kept in cages \" is \" a large amount of animals are [MASK] to an existence within a cage. \". [SEP]\n",
      "[CLS] another way to say \" blood loss can kill an animal \" is \" animals can [MASK] from loss of blood \". [SEP]\n"
     ]
    },
    {
     "name": "stderr",
     "output_type": "stream",
     "text": [
      "6286it [03:01, 34.01it/s]"
     ]
    },
    {
     "name": "stdout",
     "output_type": "stream",
     "text": [
      "[CLS] you would fight war because an army has [MASK] your country. [SEP]\n"
     ]
    },
    {
     "name": "stderr",
     "output_type": "stream",
     "text": [
      "6302it [03:01, 33.72it/s]"
     ]
    },
    {
     "name": "stdout",
     "output_type": "stream",
     "text": [
      "[CLS] my friend brought me a pointsietta plant. it was very [MASK] outside shen whe brought it. the leaves on the plant are culring and drying. i think the plant may be dying.. [SEP]\n"
     ]
    },
    {
     "name": "stderr",
     "output_type": "stream",
     "text": [
      "6342it [03:03, 33.95it/s]"
     ]
    },
    {
     "name": "stdout",
     "output_type": "stream",
     "text": [
      "[CLS] one impairment a person might have is rheumatoid [MASK]. [SEP]\n"
     ]
    },
    {
     "name": "stderr",
     "output_type": "stream",
     "text": [
      "6370it [03:03, 35.19it/s]"
     ]
    },
    {
     "name": "stdout",
     "output_type": "stream",
     "text": [
      "[CLS] to understand the event \" lucy fell and [MASK] her arm. \", it is important to know that lucy is a person. [SEP]\n"
     ]
    },
    {
     "name": "stderr",
     "output_type": "stream",
     "text": [
      "6418it [03:05, 34.85it/s]"
     ]
    },
    {
     "name": "stdout",
     "output_type": "stream",
     "text": [
      "[CLS] if you want to give assistance then you should first ask the other person if they'[MASK] like to receive assistance. [SEP]\n"
     ]
    },
    {
     "name": "stderr",
     "output_type": "stream",
     "text": [
      "6462it [03:06, 33.53it/s]"
     ]
    },
    {
     "name": "stdout",
     "output_type": "stream",
     "text": [
      "[CLS] one impairment a person might have is mood [MASK]. [SEP]\n"
     ]
    },
    {
     "name": "stderr",
     "output_type": "stream",
     "text": [
      "6470it [03:06, 33.49it/s]"
     ]
    },
    {
     "name": "stdout",
     "output_type": "stream",
     "text": [
      "[CLS] a person doesn't want to be [MASK] into the military. [SEP]\n"
     ]
    },
    {
     "name": "stderr",
     "output_type": "stream",
     "text": [
      "6518it [03:08, 34.07it/s]"
     ]
    },
    {
     "name": "stdout",
     "output_type": "stream",
     "text": [
      "[CLS] a right is said to accrue when it vests in a person, especially when it does so gradually or without his active intervention, e. [MASK]. by lapse of time, or by the determination of a preceding right. [SEP]\n"
     ]
    },
    {
     "name": "stderr",
     "output_type": "stream",
     "text": [
      "6542it [03:08, 33.78it/s]"
     ]
    },
    {
     "name": "stdout",
     "output_type": "stream",
     "text": [
      "[CLS] sometimes a person wears dark glasses to [MASK] their eyes from the view of others. [SEP]\n"
     ]
    },
    {
     "name": "stderr",
     "output_type": "stream",
     "text": [
      "6598it [03:10, 31.70it/s]"
     ]
    },
    {
     "name": "stdout",
     "output_type": "stream",
     "text": [
      "[CLS] the statement \" a person doesn't want to [MASK] to bad music \" helps answer the question \" why do people spend time looking through so many cd's in a record store when they could buy the first they lay their hands on, they all look pretty much the same? \". [SEP]\n"
     ]
    },
    {
     "name": "stderr",
     "output_type": "stream",
     "text": [
      "6686it [03:13, 34.64it/s]"
     ]
    },
    {
     "name": "stdout",
     "output_type": "stream",
     "text": [
      "[CLS] to understand the event \" george [MASK] mary down the stairs. mary pulled george down the stairs with her. \", it is important to know that pushing a person down stairs is dangerous and wrong. [SEP]\n"
     ]
    },
    {
     "name": "stderr",
     "output_type": "stream",
     "text": [
      "6694it [03:13, 30.34it/s]"
     ]
    },
    {
     "name": "stdout",
     "output_type": "stream",
     "text": [
      "[CLS] the fact \" a person may be necessary to do your job at all. \" is illustrated with the story : 1. i was fired from my customer service job2. management [MASK] me with a red robot. 3. the red robot crushed customers instead of servicing them. 4. customers complained to management. 5. management hired me back. [SEP]\n"
     ]
    },
    {
     "name": "stderr",
     "output_type": "stream",
     "text": [
      "6726it [03:14, 34.84it/s]"
     ]
    },
    {
     "name": "stdout",
     "output_type": "stream",
     "text": [
      "[CLS] rotten organic matter often emits odors that are offensive to a person's sense of [MASK]. [SEP]\n"
     ]
    },
    {
     "name": "stderr",
     "output_type": "stream",
     "text": [
      "6818it [03:17, 34.96it/s]"
     ]
    },
    {
     "name": "stdout",
     "output_type": "stream",
     "text": [
      "[CLS] to understand the event \" the plant withered and died. \", it is important to know that without food, water, air, and sunlight, plants will [MASK]. [SEP]\n"
     ]
    },
    {
     "name": "stderr",
     "output_type": "stream",
     "text": [
      "6830it [03:17, 35.47it/s]"
     ]
    },
    {
     "name": "stdout",
     "output_type": "stream",
     "text": [
      "[CLS] to understand the event \" the soldier died on the battlefield. \", it is important to know that when soldiers [MASK] they stop fighting. [SEP]\n"
     ]
    },
    {
     "name": "stderr",
     "output_type": "stream",
     "text": [
      "6870it [03:18, 35.88it/s]"
     ]
    },
    {
     "name": "stdout",
     "output_type": "stream",
     "text": [
      "[CLS] a writing instrument is for cats to [MASK] with. [SEP]\n"
     ]
    },
    {
     "name": "stderr",
     "output_type": "stream",
     "text": [
      "6902it [03:19, 33.08it/s]"
     ]
    },
    {
     "name": "stdout",
     "output_type": "stream",
     "text": [
      "[CLS] to understand the event \" the dog ate our dinner. \", it is important to know that more food must be prepared for us to [MASK]. [SEP]\n",
      "[CLS] to understand the event \" dean played fetch with fluffy. \", it is important to know that people [MASK] fetch with dogs by throwing an object and encouraging the dog to retrieve it. [SEP]\n"
     ]
    },
    {
     "name": "stderr",
     "output_type": "stream",
     "text": [
      "6910it [03:19, 34.55it/s]"
     ]
    },
    {
     "name": "stdout",
     "output_type": "stream",
     "text": [
      "[CLS] to understand the event \" the dog ran away. \", it is important to know that dogs may [MASK] when they are frightened. [SEP]\n",
      "[CLS] everybody wants to be a [MASK]. [SEP]\n"
     ]
    },
    {
     "name": "stderr",
     "output_type": "stream",
     "text": [
      "6938it [03:20, 34.66it/s]"
     ]
    },
    {
     "name": "stdout",
     "output_type": "stream",
     "text": [
      "[CLS] we [MASK] in a time where there is a reign of quantiy over quality. thus humanity has lost its center. [SEP]\n"
     ]
    },
    {
     "name": "stderr",
     "output_type": "stream",
     "text": [
      "6954it [03:20, 35.63it/s]"
     ]
    },
    {
     "name": "stdout",
     "output_type": "stream",
     "text": [
      "[CLS] to understand the event \" colby's dad was a fireman. colby wanted to [MASK] up to be just like him. \", it is important to know that colby's dad was probably save at leas one life. [SEP]\n"
     ]
    },
    {
     "name": "stderr",
     "output_type": "stream",
     "text": [
      "6974it [03:21, 35.06it/s]"
     ]
    },
    {
     "name": "stdout",
     "output_type": "stream",
     "text": [
      "[CLS] the statement \" a race can be refered to as a contest. \" is true because two or more people [MASK] to see who can run the fastest. [SEP]\n",
      "[CLS] the statement \" most people will become anrgry if another person hits or slaps them \" is true because being hit or [MASK] is not only painful, but also insulting. [SEP]\n"
     ]
    },
    {
     "name": "stderr",
     "output_type": "stream",
     "text": [
      "6982it [03:21, 34.09it/s]"
     ]
    },
    {
     "name": "stdout",
     "output_type": "stream",
     "text": [
      "[CLS] the statement \" you are likely to find water in a swimming pool. \" is true because people can [MASK] in water. [SEP]\n",
      "[CLS] another way to say \" a person can thank god \" is \" god can be [MASK] by people. \". [SEP]\n"
     ]
    },
    {
     "name": "stderr",
     "output_type": "stream",
     "text": [
      "6990it [03:22, 33.51it/s]"
     ]
    },
    {
     "name": "stdout",
     "output_type": "stream",
     "text": [
      "[CLS] if everyone [MASK] just one person to their carpool, the nationwide gasoline savings would amount to more than 33 million gallons of gasoline each day, enough to drive a car around the world 34, 000 times. [SEP]\n"
     ]
    },
    {
     "name": "stderr",
     "output_type": "stream",
     "text": [
      "7010it [03:22, 34.05it/s]"
     ]
    },
    {
     "name": "stdout",
     "output_type": "stream",
     "text": [
      "[CLS] a person wants to [MASK] appealing. [SEP]\n",
      "[CLS] therianthropy is the [MASK] that a person has a spiritual, emotional, or mental connection with an animal. [SEP]\n"
     ]
    },
    {
     "name": "stderr",
     "output_type": "stream",
     "text": [
      "7030it [03:23, 34.73it/s]"
     ]
    },
    {
     "name": "stdout",
     "output_type": "stream",
     "text": [
      "[CLS] to understand the event \" it was mary's birthday. she got presents from her friends. \", it is important to know that a birthday is [MASK] on the day the person was born.. [SEP]\n"
     ]
    },
    {
     "name": "stderr",
     "output_type": "stream",
     "text": [
      "7130it [03:26, 31.31it/s]"
     ]
    },
    {
     "name": "stdout",
     "output_type": "stream",
     "text": [
      "[CLS] to understand the event \" dan drove a car to the grocery store to [MASK] some peanut butter. \", it is important to know that each person who buys a car gets a key that does not fit other cars. [SEP]\n"
     ]
    },
    {
     "name": "stderr",
     "output_type": "stream",
     "text": [
      "7186it [03:27, 35.00it/s]"
     ]
    },
    {
     "name": "stdout",
     "output_type": "stream",
     "text": [
      "[CLS] a person who plays a piano is [MASK] as a pianist. [SEP]\n"
     ]
    },
    {
     "name": "stderr",
     "output_type": "stream",
     "text": [
      "7246it [03:29, 34.10it/s]"
     ]
    },
    {
     "name": "stdout",
     "output_type": "stream",
     "text": [
      "[CLS] to understand the event \" joe plays the trumpet. joe gave a music lesson. \", it is important to know that a person must know how to [MASK] an instrument well in order to give a music lesson. [SEP]\n"
     ]
    },
    {
     "name": "stderr",
     "output_type": "stream",
     "text": [
      "7306it [03:31, 35.12it/s]"
     ]
    },
    {
     "name": "stdout",
     "output_type": "stream",
     "text": [
      "[CLS] a person doesn't want to lose all of their teeth, especially not within the [MASK] of a few minutes. [SEP]\n"
     ]
    },
    {
     "name": "stderr",
     "output_type": "stream",
     "text": [
      "7346it [03:32, 33.14it/s]"
     ]
    },
    {
     "name": "stdout",
     "output_type": "stream",
     "text": [
      "[CLS] the story \" loving another \" has the step \" i've been particularly interested in another person for a long [MASK]. \". [SEP]\n"
     ]
    },
    {
     "name": "stderr",
     "output_type": "stream",
     "text": [
      "7370it [03:33, 34.01it/s]"
     ]
    },
    {
     "name": "stdout",
     "output_type": "stream",
     "text": [
      "[CLS] a politician wants to be re - [MASK]. [SEP]\n",
      "[CLS] the statement \" harbor pilots can shore large ships \" helps [MASK] the question \" who can shore large ships? \". [SEP]\n"
     ]
    },
    {
     "name": "stderr",
     "output_type": "stream",
     "text": [
      "7386it [03:33, 36.42it/s]"
     ]
    },
    {
     "name": "stdout",
     "output_type": "stream",
     "text": [
      "[CLS] a shark wants to [MASK] you. [SEP]\n",
      "[CLS] pot smokers must [MASK] pot in secret to avoid being arrested. [SEP]\n"
     ]
    },
    {
     "name": "stderr",
     "output_type": "stream",
     "text": [
      "7398it [03:33, 36.74it/s]"
     ]
    },
    {
     "name": "stdout",
     "output_type": "stream",
     "text": [
      "[CLS] to understand the event \" jane taught a class on boating. \", it is important to know that students [MASK] from teachers. [SEP]\n"
     ]
    },
    {
     "name": "stderr",
     "output_type": "stream",
     "text": [
      "7418it [03:34, 34.95it/s]"
     ]
    },
    {
     "name": "stdout",
     "output_type": "stream",
     "text": [
      "[CLS] to understand the event \" my son was going to be married on saturday. he decided not to get married a few days before the wedding. \", it is important to know that his or her son had found an adult female person and at one point had agreed to [MASK] this person. [SEP]\n"
     ]
    },
    {
     "name": "stderr",
     "output_type": "stream",
     "text": [
      "7454it [03:35, 33.61it/s]"
     ]
    },
    {
     "name": "stdout",
     "output_type": "stream",
     "text": [
      "[CLS] the statement \" another way to [MASK] \" a writer writes a book. \" is \" books are written by writers \" \" is true because anyone who writes a book is called a writer. [SEP]\n",
      "[CLS] the statement \" sometimes running in a marathon causes fatigue collapse \" helps answer the question \" people in marathons run for long distances to [MASK] to be the first to cross a ribbon. this effort can cause most anyone to collapse onto the ground from fatigue. \". [SEP]\n"
     ]
    },
    {
     "name": "stderr",
     "output_type": "stream",
     "text": [
      "7502it [03:36, 35.44it/s]"
     ]
    },
    {
     "name": "stdout",
     "output_type": "stream",
     "text": [
      "[CLS] to understand the event \" a bird flew onto a branch. \", it is important to know that relatively small birds can [MASK] on the branch of a tree. [SEP]\n"
     ]
    },
    {
     "name": "stderr",
     "output_type": "stream",
     "text": [
      "7522it [03:37, 35.40it/s]"
     ]
    },
    {
     "name": "stdout",
     "output_type": "stream",
     "text": [
      "[CLS] the buddha can [MASK] anything. [SEP]\n",
      "[CLS] a cannon is a big heavy gun used to fire a projectile at a large [MASK] such as a ship, vehicle or building. [SEP]\n"
     ]
    },
    {
     "name": "stderr",
     "output_type": "stream",
     "text": [
      "7554it [03:38, 36.82it/s]"
     ]
    },
    {
     "name": "stdout",
     "output_type": "stream",
     "text": [
      "[CLS] without oxygen brain cells will [MASK] in minutes. [SEP]\n"
     ]
    },
    {
     "name": "stderr",
     "output_type": "stream",
     "text": [
      "7562it [03:38, 34.58it/s]"
     ]
    },
    {
     "name": "stdout",
     "output_type": "stream",
     "text": [
      "[CLS] a lot of children like to [MASK] on a curb like a balance beam. [SEP]\n"
     ]
    },
    {
     "name": "stderr",
     "output_type": "stream",
     "text": [
      "7582it [03:39, 35.88it/s]"
     ]
    },
    {
     "name": "stdout",
     "output_type": "stream",
     "text": [
      "[CLS] a person doesn't want clothes that don't [MASK]. [SEP]\n"
     ]
    },
    {
     "name": "stderr",
     "output_type": "stream",
     "text": [
      "7590it [03:39, 34.35it/s]"
     ]
    },
    {
     "name": "stdout",
     "output_type": "stream",
     "text": [
      "[CLS] one of the things you [MASK] when you fix a computer is take off the cover. [SEP]\n"
     ]
    },
    {
     "name": "stderr",
     "output_type": "stream",
     "text": [
      "7622it [03:40, 34.91it/s]"
     ]
    },
    {
     "name": "stdout",
     "output_type": "stream",
     "text": [
      "[CLS] to understand the event \" the dog ran away. \", it is important to know that dogs may [MASK] when they are frightened. [SEP]\n"
     ]
    },
    {
     "name": "stderr",
     "output_type": "stream",
     "text": [
      "7642it [03:40, 34.08it/s]"
     ]
    },
    {
     "name": "stdout",
     "output_type": "stream",
     "text": [
      "[CLS] to understand the event \" dolphins played in front of the ship. \", it is important to know that you need water to [MASK]. [SEP]\n"
     ]
    },
    {
     "name": "stderr",
     "output_type": "stream",
     "text": [
      "7670it [03:41, 33.46it/s]"
     ]
    },
    {
     "name": "stdout",
     "output_type": "stream",
     "text": [
      "[CLS] the statement \" to understand the event \" alice is a freshman at boston university. alice decided to major in mechanical engineering. \", it is important to know that engineers [MASK] and build many things \" helps answer the question \" why is alice an engineering major? \". [SEP]\n",
      "[CLS] you can try to [MASK] from what everyone is telling you. [SEP]\n"
     ]
    },
    {
     "name": "stderr",
     "output_type": "stream",
     "text": [
      "7694it [03:42, 34.93it/s]"
     ]
    },
    {
     "name": "stdout",
     "output_type": "stream",
     "text": [
      "[CLS] something that might happen as a consequence of starting a fire is a building might [MASK] down. [SEP]\n"
     ]
    },
    {
     "name": "stderr",
     "output_type": "stream",
     "text": [
      "7718it [03:42, 34.81it/s]"
     ]
    },
    {
     "name": "stdout",
     "output_type": "stream",
     "text": [
      "[CLS] a friend is someone you [MASK] and confide in. [SEP]\n"
     ]
    },
    {
     "name": "stderr",
     "output_type": "stream",
     "text": [
      "7746it [03:43, 36.81it/s]"
     ]
    },
    {
     "name": "stdout",
     "output_type": "stream",
     "text": [
      "[CLS] a grenade can [MASK] someone. [SEP]\n"
     ]
    },
    {
     "name": "stderr",
     "output_type": "stream",
     "text": [
      "7766it [03:44, 36.66it/s]"
     ]
    },
    {
     "name": "stdout",
     "output_type": "stream",
     "text": [
      "[CLS] something that might happen while scoring a home run is your heart will [MASK] faster. [SEP]\n"
     ]
    },
    {
     "name": "stderr",
     "output_type": "stream",
     "text": [
      "7794it [03:45, 35.33it/s]"
     ]
    },
    {
     "name": "stdout",
     "output_type": "stream",
     "text": [
      "[CLS] humans have a finite lifespan and then they [MASK]. [SEP]\n"
     ]
    },
    {
     "name": "stderr",
     "output_type": "stream",
     "text": [
      "7806it [03:45, 34.81it/s]"
     ]
    },
    {
     "name": "stdout",
     "output_type": "stream",
     "text": [
      "[CLS] will humans eat each other when we [MASK] out of oil?. [SEP]\n",
      "[CLS] that humans and other apes [MASK] a common ancestor is as much a scientific fact as that the earth revolves around the sun. [SEP]\n"
     ]
    },
    {
     "name": "stderr",
     "output_type": "stream",
     "text": [
      "7838it [03:46, 35.67it/s]"
     ]
    },
    {
     "name": "stdout",
     "output_type": "stream",
     "text": [
      "[CLS] another way to say \" kangaroos can jump high \" is \" an ability of the kangaroo is its ability to [MASK] to great heights \". [SEP]\n"
     ]
    },
    {
     "name": "stderr",
     "output_type": "stream",
     "text": [
      "7866it [03:47, 35.03it/s]"
     ]
    },
    {
     "name": "stdout",
     "output_type": "stream",
     "text": [
      "[CLS] a lock is designed so that only a particular key will [MASK] it. [SEP]\n"
     ]
    },
    {
     "name": "stderr",
     "output_type": "stream",
     "text": [
      "7878it [03:47, 35.70it/s]"
     ]
    },
    {
     "name": "stdout",
     "output_type": "stream",
     "text": [
      "[CLS] to understand the event \" dwight fell out of the airplane. \", it is important to know that airplanes are machines that can [MASK]. [SEP]\n"
     ]
    },
    {
     "name": "stderr",
     "output_type": "stream",
     "text": [
      "7902it [03:48, 35.29it/s]"
     ]
    },
    {
     "name": "stdout",
     "output_type": "stream",
     "text": [
      "[CLS] to understand the event \" gina is a murderer. \", it is important to know that to murder is to [MASK] a person. [SEP]\n"
     ]
    },
    {
     "name": "stderr",
     "output_type": "stream",
     "text": [
      "7946it [03:49, 35.09it/s]"
     ]
    },
    {
     "name": "stdout",
     "output_type": "stream",
     "text": [
      "[CLS] many sane people [MASK] in fairies. [SEP]\n"
     ]
    },
    {
     "name": "stderr",
     "output_type": "stream",
     "text": [
      "7958it [03:49, 33.78it/s]"
     ]
    },
    {
     "name": "stdout",
     "output_type": "stream",
     "text": [
      "[CLS] why is it that some people have to [MASK] through hoops to enjoy sex? [SEP]\n"
     ]
    },
    {
     "name": "stderr",
     "output_type": "stream",
     "text": [
      "7966it [03:49, 33.35it/s]"
     ]
    },
    {
     "name": "stdout",
     "output_type": "stream",
     "text": [
      "[CLS] the statement \" something you find in church is songbooks \" is true because you find people who [MASK] in church. [SEP]\n"
     ]
    },
    {
     "name": "stderr",
     "output_type": "stream",
     "text": [
      "7998it [03:50, 36.11it/s]"
     ]
    },
    {
     "name": "stdout",
     "output_type": "stream",
     "text": [
      "[CLS] planes although heavier than air can still [MASK]. [SEP]\n"
     ]
    },
    {
     "name": "stderr",
     "output_type": "stream",
     "text": [
      "8014it [03:51, 35.95it/s]"
     ]
    },
    {
     "name": "stdout",
     "output_type": "stream",
     "text": [
      "[CLS] prices may [MASK]. [SEP]\n"
     ]
    },
    {
     "name": "stderr",
     "output_type": "stream",
     "text": [
      "8106it [03:53, 35.06it/s]"
     ]
    },
    {
     "name": "stdout",
     "output_type": "stream",
     "text": [
      "[CLS] to understand the event \" sara felt feverish. \", it is important to know that a fever is an [MASK] in body temperature usually caused by an infection. [SEP]\n",
      "[CLS] to understand the event \" a thief stole mary's diamonds. \", it is important to know that thieves [MASK] valuable items. [SEP]\n",
      "[CLS] it would be unlikely for a tiger to [MASK] a banana. [SEP]\n"
     ]
    },
    {
     "name": "stderr",
     "output_type": "stream",
     "text": [
      "8134it [03:54, 30.22it/s]"
     ]
    },
    {
     "name": "stdout",
     "output_type": "stream",
     "text": [
      "[CLS] to understand the event \" humbert loved lolita. lolita was twelve years old. \", it is important to know that at 12 years old, lolita is too young to [MASK] involved in a love affair. [SEP]\n"
     ]
    },
    {
     "name": "stderr",
     "output_type": "stream",
     "text": [
      "8166it [03:55, 35.75it/s]"
     ]
    },
    {
     "name": "stdout",
     "output_type": "stream",
     "text": [
      "[CLS] it is often impossible to [MASK] the experience of depression to someone who has never been there. [SEP]\n",
      "[CLS] a statement'dinner is a meal eaten in the evening'helps answer the question'what does the word'dinner'[MASK]? '. [SEP]\n"
     ]
    },
    {
     "name": "stderr",
     "output_type": "stream",
     "text": [
      "8178it [03:55, 34.56it/s]"
     ]
    },
    {
     "name": "stdout",
     "output_type": "stream",
     "text": [
      "[CLS] a gunshot wound can [MASK] a man. [SEP]\n"
     ]
    },
    {
     "name": "stderr",
     "output_type": "stream",
     "text": [
      "8262it [03:58, 33.77it/s]"
     ]
    },
    {
     "name": "stdout",
     "output_type": "stream",
     "text": [
      "[CLS] the [MASK] \" space \" has several different meanings. one is the blank alphanumeric character. another is a distance between two physical objects. another is a mathematical abstraction. finally, \" space \" can denote the part of the universe, that is, most of it, which lies outside the earth's atmosphere. [SEP]\n"
     ]
    },
    {
     "name": "stderr",
     "output_type": "stream",
     "text": [
      "8574it [04:07, 35.11it/s]"
     ]
    },
    {
     "name": "stdout",
     "output_type": "stream",
     "text": [
      "[CLS] another way to say \" a pit is part of an [MASK] \" is \" olives are pitted. \". [SEP]\n"
     ]
    },
    {
     "name": "stderr",
     "output_type": "stream",
     "text": [
      "8598it [04:08, 34.05it/s]"
     ]
    },
    {
     "name": "stdout",
     "output_type": "stream",
     "text": [
      "[CLS] wedding ceremonies are rooted in tradition, [MASK] and religion. [SEP]\n"
     ]
    },
    {
     "name": "stderr",
     "output_type": "stream",
     "text": [
      "8682it [04:10, 35.95it/s]"
     ]
    },
    {
     "name": "stdout",
     "output_type": "stream",
     "text": [
      "[CLS] jelly is a clear mixture with fruit [MASK] and sugar. [SEP]\n"
     ]
    },
    {
     "name": "stderr",
     "output_type": "stream",
     "text": [
      "8694it [04:10, 35.92it/s]"
     ]
    },
    {
     "name": "stdout",
     "output_type": "stream",
     "text": [
      "[CLS] it annoys a [MASK] when you pull its tail. [SEP]\n"
     ]
    },
    {
     "name": "stderr",
     "output_type": "stream",
     "text": [
      "8802it [04:13, 34.88it/s]"
     ]
    },
    {
     "name": "stdout",
     "output_type": "stream",
     "text": [
      "[CLS] another way to say \" knives are used to [MASK] an apple. \" is \" apples can be peeled by knives \". [SEP]\n",
      "[CLS] another way to say \" knives are used to [MASK] an apple. \" is \" apples can be peeled by knives \". [SEP]\n"
     ]
    },
    {
     "name": "stderr",
     "output_type": "stream",
     "text": [
      "8818it [04:14, 34.77it/s]"
     ]
    },
    {
     "name": "stdout",
     "output_type": "stream",
     "text": [
      "[CLS] atoms are made of [MASK], protons, and neutrons. [SEP]\n"
     ]
    },
    {
     "name": "stderr",
     "output_type": "stream",
     "text": [
      "8870it [04:15, 30.91it/s]"
     ]
    },
    {
     "name": "stdout",
     "output_type": "stream",
     "text": [
      "[CLS] when the blood has too much [MASK] and too little sodium, the brain swells and pushes against the skull. [SEP]\n"
     ]
    },
    {
     "name": "stderr",
     "output_type": "stream",
     "text": [
      "8902it [04:16, 35.19it/s]"
     ]
    },
    {
     "name": "stdout",
     "output_type": "stream",
     "text": [
      "[CLS] to understand the event \" the butterfly landed on the flower. \", it is important to know that butterflies have [MASK]. [SEP]\n"
     ]
    },
    {
     "name": "stderr",
     "output_type": "stream",
     "text": [
      "8918it [04:17, 34.66it/s]"
     ]
    },
    {
     "name": "stdout",
     "output_type": "stream",
     "text": [
      "[CLS] situation : i hear the rain drops tapping the [MASK] of my car. [SEP]\n"
     ]
    },
    {
     "name": "stderr",
     "output_type": "stream",
     "text": [
      "8958it [04:18, 34.73it/s]"
     ]
    },
    {
     "name": "stdout",
     "output_type": "stream",
     "text": [
      "[CLS] a typical chair has four [MASK]. [SEP]\n",
      "[CLS] you can use cheese to enhance the [MASK] of a hot dog. [SEP]\n"
     ]
    },
    {
     "name": "stderr",
     "output_type": "stream",
     "text": [
      "9334it [04:29, 34.29it/s]"
     ]
    },
    {
     "name": "stdout",
     "output_type": "stream",
     "text": [
      "[CLS] an eatery is where people [MASK]. [SEP]\n"
     ]
    },
    {
     "name": "stderr",
     "output_type": "stream",
     "text": [
      "9346it [04:29, 34.40it/s]"
     ]
    },
    {
     "name": "stdout",
     "output_type": "stream",
     "text": [
      "[CLS] people enter into a social contract when they agree to define and limit the [MASK] and duties of one another. [SEP]\n",
      "[CLS] another way to say \" a person [MASK] to be fulfilled. \" is \" fulfillment is desired by people \". [SEP]\n"
     ]
    },
    {
     "name": "stderr",
     "output_type": "stream",
     "text": [
      "9378it [04:30, 36.26it/s]"
     ]
    },
    {
     "name": "stdout",
     "output_type": "stream",
     "text": [
      "[CLS] a pool is a man made body of [MASK]. [SEP]\n"
     ]
    },
    {
     "name": "stderr",
     "output_type": "stream",
     "text": [
      "9422it [04:31, 34.87it/s]"
     ]
    },
    {
     "name": "stdout",
     "output_type": "stream",
     "text": [
      "[CLS] the statement \" a sentence is a group of [MASK] that is a statement, question, exclamation, or command \" helps answer the question \" what is a sentance \". [SEP]\n"
     ]
    },
    {
     "name": "stderr",
     "output_type": "stream",
     "text": [
      "9474it [04:33, 34.47it/s]"
     ]
    },
    {
     "name": "stdout",
     "output_type": "stream",
     "text": [
      "[CLS] one of the [MASK] you do when you play sport is choose teams. [SEP]\n",
      "[CLS] the term supervolcano has no specifically defined scientific [MASK]. [SEP]\n"
     ]
    },
    {
     "name": "stderr",
     "output_type": "stream",
     "text": [
      "9502it [04:34, 35.21it/s]"
     ]
    },
    {
     "name": "stdout",
     "output_type": "stream",
     "text": [
      "[CLS] another way to say \" a tricycle has three [MASK] \" is \" tricycles are three - wheeled. \". [SEP]\n"
     ]
    },
    {
     "name": "stderr",
     "output_type": "stream",
     "text": [
      "9606it [04:37, 35.67it/s]"
     ]
    },
    {
     "name": "stdout",
     "output_type": "stream",
     "text": [
      "[CLS] you can use an eyeglasses to [MASK] better. [SEP]\n"
     ]
    },
    {
     "name": "stderr",
     "output_type": "stream",
     "text": [
      "9618it [04:37, 35.29it/s]"
     ]
    },
    {
     "name": "stdout",
     "output_type": "stream",
     "text": [
      "[CLS] a motorway is an avenue along which motorcars can [MASK]. [SEP]\n"
     ]
    },
    {
     "name": "stderr",
     "output_type": "stream",
     "text": [
      "9634it [04:37, 35.09it/s]"
     ]
    },
    {
     "name": "stdout",
     "output_type": "stream",
     "text": [
      "[CLS] to understand the event \" mary baked some cookies for her children to [MASK] after school. \", it is important to know that children attend school to learn. [SEP]\n"
     ]
    },
    {
     "name": "stderr",
     "output_type": "stream",
     "text": [
      "9718it [04:40, 35.10it/s]"
     ]
    },
    {
     "name": "stdout",
     "output_type": "stream",
     "text": [
      "[CLS] you can use a dining table to [MASK]. [SEP]\n"
     ]
    },
    {
     "name": "stderr",
     "output_type": "stream",
     "text": [
      "9730it [04:40, 35.69it/s]"
     ]
    },
    {
     "name": "stdout",
     "output_type": "stream",
     "text": [
      "[CLS] talking requires [MASK] from your mouth. [SEP]\n",
      "[CLS] the fact \" literature is for reading \" is illustrated with the story : 1. people needs entertainment. 2. reading is one of the traditional leisure activity. 3. reading will keep us informed and wise. 4. it is great fun to read literature, especially those written by great authors like shakespeare. 5. reading literature can [MASK] people about life. [SEP]\n"
     ]
    },
    {
     "name": "stderr",
     "output_type": "stream",
     "text": [
      "9750it [04:41, 35.72it/s]"
     ]
    },
    {
     "name": "stdout",
     "output_type": "stream",
     "text": [
      "[CLS] a sink is used for [MASK] the dishes. [SEP]\n"
     ]
    },
    {
     "name": "stderr",
     "output_type": "stream",
     "text": [
      "9786it [04:42, 36.10it/s]"
     ]
    },
    {
     "name": "stdout",
     "output_type": "stream",
     "text": [
      "[CLS] you can use an ottoman to [MASK] down. [SEP]\n"
     ]
    },
    {
     "name": "stderr",
     "output_type": "stream",
     "text": [
      "9810it [04:42, 35.08it/s]"
     ]
    },
    {
     "name": "stdout",
     "output_type": "stream",
     "text": [
      "[CLS] that is a key. it can be used for [MASK] or unlocking a door. [SEP]\n"
     ]
    },
    {
     "name": "stderr",
     "output_type": "stream",
     "text": [
      "9818it [04:43, 35.81it/s]"
     ]
    },
    {
     "name": "stdout",
     "output_type": "stream",
     "text": [
      "[CLS] the telephone can be used to [MASK]. [SEP]\n"
     ]
    },
    {
     "name": "stderr",
     "output_type": "stream",
     "text": [
      "9890it [04:45, 35.55it/s]"
     ]
    },
    {
     "name": "stdout",
     "output_type": "stream",
     "text": [
      "[CLS] a stylus is used for writing or [MASK] at things. [SEP]\n"
     ]
    },
    {
     "name": "stderr",
     "output_type": "stream",
     "text": [
      "9914it [04:45, 35.19it/s]"
     ]
    },
    {
     "name": "stdout",
     "output_type": "stream",
     "text": [
      "[CLS] something that might happen when you [MASK] a mountain is your legs start to ache. [SEP]\n"
     ]
    },
    {
     "name": "stderr",
     "output_type": "stream",
     "text": [
      "9930it [04:46, 36.04it/s]"
     ]
    },
    {
     "name": "stdout",
     "output_type": "stream",
     "text": [
      "[CLS] when you [MASK] about movies, popcorns also hits your head. [SEP]\n",
      "[CLS] tickling requires stimulating the brain through playful touch or a good sense of [MASK]. [SEP]\n"
     ]
    },
    {
     "name": "stderr",
     "output_type": "stream",
     "text": [
      "10166it [04:52, 35.37it/s]"
     ]
    },
    {
     "name": "stdout",
     "output_type": "stream",
     "text": [
      "[CLS] picture description : it is a human hand which is holding a pipe. a pipe is a device to allow the ignition of some material for the [MASK] of inhalation. tobacco is most frequently used in pipes. people smoke pipes. [SEP]\n"
     ]
    },
    {
     "name": "stderr",
     "output_type": "stream",
     "text": [
      "10182it [04:53, 36.00it/s]"
     ]
    },
    {
     "name": "stdout",
     "output_type": "stream",
     "text": [
      "[CLS] another way to say \" sopranos can [MASK] at a high pitch. \" is \" the highest female voice can reach very high notes. \". [SEP]\n"
     ]
    },
    {
     "name": "stderr",
     "output_type": "stream",
     "text": [
      "10214it [04:54, 34.95it/s]"
     ]
    },
    {
     "name": "stdout",
     "output_type": "stream",
     "text": [
      "[CLS] another way to say \" women wear high heel shoes. \" is \" high heeled pumps are [MASK] by women \". [SEP]\n"
     ]
    },
    {
     "name": "stderr",
     "output_type": "stream",
     "text": [
      "10242it [04:55, 34.90it/s]"
     ]
    },
    {
     "name": "stdout",
     "output_type": "stream",
     "text": [
      "[CLS] you can use a cheque to [MASK] something. [SEP]\n"
     ]
    },
    {
     "name": "stderr",
     "output_type": "stream",
     "text": [
      "10254it [04:55, 35.81it/s]"
     ]
    },
    {
     "name": "stdout",
     "output_type": "stream",
     "text": [
      "[CLS] you can use a saxhorn to [MASK]. [SEP]\n"
     ]
    },
    {
     "name": "stderr",
     "output_type": "stream",
     "text": [
      "10270it [04:55, 35.84it/s]"
     ]
    },
    {
     "name": "stdout",
     "output_type": "stream",
     "text": [
      "[CLS] you can use a revolving door to [MASK] and exit a building. [SEP]\n"
     ]
    },
    {
     "name": "stderr",
     "output_type": "stream",
     "text": [
      "10302it [04:56, 35.94it/s]"
     ]
    },
    {
     "name": "stdout",
     "output_type": "stream",
     "text": [
      "[CLS] an intersection is where two or more roads [MASK]. [SEP]\n"
     ]
    },
    {
     "name": "stderr",
     "output_type": "stream",
     "text": [
      "10338it [04:57, 34.89it/s]"
     ]
    },
    {
     "name": "stdout",
     "output_type": "stream",
     "text": [
      "[CLS] a university can may do [MASK] and research in the health sciences. [SEP]\n",
      "[CLS] you can't normally see the person you are [MASK] to on the phone. [SEP]\n"
     ]
    },
    {
     "name": "stderr",
     "output_type": "stream",
     "text": [
      "10418it [05:00, 33.49it/s]"
     ]
    },
    {
     "name": "stdout",
     "output_type": "stream",
     "text": [
      "[CLS] you can use an island to [MASK]. [SEP]\n"
     ]
    },
    {
     "name": "stderr",
     "output_type": "stream",
     "text": [
      "10446it [05:00, 35.82it/s]"
     ]
    },
    {
     "name": "stdout",
     "output_type": "stream",
     "text": [
      "[CLS] a excavation is a way of [MASK] ore. [SEP]\n"
     ]
    },
    {
     "name": "stderr",
     "output_type": "stream",
     "text": [
      "10570it [05:04, 35.12it/s]"
     ]
    },
    {
     "name": "stdout",
     "output_type": "stream",
     "text": [
      "[CLS] a stairway can often has a banister so that you can hold on whilst [MASK] the stairs. [SEP]\n",
      "[CLS] a computer is a machine to help you do things like play games, [MASK] a letter or search the internet. [SEP]\n"
     ]
    },
    {
     "name": "stderr",
     "output_type": "stream",
     "text": [
      "10594it [05:05, 34.70it/s]"
     ]
    },
    {
     "name": "stdout",
     "output_type": "stream",
     "text": [
      "[CLS] to understand the event \" jeehan cooked some curry. \", it is important to know that jeehan probably used a stove to [MASK] the curry. [SEP]\n"
     ]
    },
    {
     "name": "stderr",
     "output_type": "stream",
     "text": [
      "10618it [05:05, 35.08it/s]"
     ]
    },
    {
     "name": "stdout",
     "output_type": "stream",
     "text": [
      "[CLS] humans [MASK] their food with a fork and a knive. [SEP]\n",
      "[CLS] eating healthily is for prolonging [MASK]. [SEP]\n"
     ]
    },
    {
     "name": "stderr",
     "output_type": "stream",
     "text": [
      "10634it [05:06, 35.41it/s]"
     ]
    },
    {
     "name": "stdout",
     "output_type": "stream",
     "text": [
      "[CLS] you can use bagpipes to [MASK] scottish music. [SEP]\n"
     ]
    },
    {
     "name": "stderr",
     "output_type": "stream",
     "text": [
      "10650it [05:06, 34.38it/s]"
     ]
    },
    {
     "name": "stdout",
     "output_type": "stream",
     "text": [
      "[CLS] you can use a woodwind instrument to [MASK] jazz. [SEP]\n"
     ]
    },
    {
     "name": "stderr",
     "output_type": "stream",
     "text": [
      "10702it [05:08, 35.79it/s]"
     ]
    },
    {
     "name": "stdout",
     "output_type": "stream",
     "text": [
      "[CLS] you can use a bullet to [MASK] someone. [SEP]\n"
     ]
    },
    {
     "name": "stderr",
     "output_type": "stream",
     "text": [
      "10738it [05:09, 36.06it/s]"
     ]
    },
    {
     "name": "stdout",
     "output_type": "stream",
     "text": [
      "[CLS] a machine gun is used to [MASK] people. [SEP]\n"
     ]
    },
    {
     "name": "stderr",
     "output_type": "stream",
     "text": [
      "10778it [05:10, 34.72it/s]"
     ]
    },
    {
     "name": "stdout",
     "output_type": "stream",
     "text": [
      "[CLS] you can use a cave to [MASK] out from the law. [SEP]\n"
     ]
    },
    {
     "name": "stderr",
     "output_type": "stream",
     "text": [
      "10882it [05:13, 33.24it/s]"
     ]
    },
    {
     "name": "stdout",
     "output_type": "stream",
     "text": [
      "[CLS] the effect of socialising is making [MASK], and not being lonely. humans are really made to depend on each other. one man may work on cars all day, while the other does roofs, one will need the others service someday. this is also why we need massage therapy. not only to relieve muscle tension and tightness, but also for another person to touch and take that tension away with their hands is a comforting feeling. [SEP]\n"
     ]
    },
    {
     "name": "stderr",
     "output_type": "stream",
     "text": [
      "10958it [05:15, 35.83it/s]"
     ]
    },
    {
     "name": "stdout",
     "output_type": "stream",
     "text": [
      "[CLS] a statue can stay [MASK] one place. [SEP]\n"
     ]
    },
    {
     "name": "stderr",
     "output_type": "stream",
     "text": [
      "10978it [05:16, 34.08it/s]"
     ]
    },
    {
     "name": "stdout",
     "output_type": "stream",
     "text": [
      "[CLS] delillo shows no signs of slowing in production or award - collecting, nor does his preference to remain reclusive seem to be as overpowering as it is for his major postmodern literary counterpart, thomas pynchon. though some readers find his writing cold and abstract, delillo blends intellectualism with human characters and a dark sense of [MASK] in ways few writers can, living or dead.. [SEP]\n"
     ]
    },
    {
     "name": "stderr",
     "output_type": "stream",
     "text": [
      "11002it [05:16, 35.37it/s]"
     ]
    },
    {
     "name": "stdout",
     "output_type": "stream",
     "text": [
      "[CLS] with the aid of a small camera on top of your computer, and a connection to a transact connected isp, you can see and [MASK] to your friends, family and business colleagues over the internet. [SEP]\n"
     ]
    },
    {
     "name": "stderr",
     "output_type": "stream",
     "text": [
      "11062it [05:18, 35.36it/s]"
     ]
    },
    {
     "name": "stdout",
     "output_type": "stream",
     "text": [
      "[CLS] a city usually has many [MASK], buildings and cars. [SEP]\n"
     ]
    },
    {
     "name": "stderr",
     "output_type": "stream",
     "text": [
      "11102it [05:19, 34.74it/s]"
     ]
    },
    {
     "name": "stdout",
     "output_type": "stream",
     "text": [
      "[CLS] to understand the event \" george has a lot of money. george will not give money to the poor. \", it is important to know that the poor probably refers to charitable organizations that [MASK] people who cannot meet certain financial needs. [SEP]\n",
      "[CLS] to understand the event \" anne washed the laundry. \", it is important to know that anne probably used water to [MASK] the laundry. [SEP]\n"
     ]
    },
    {
     "name": "stderr",
     "output_type": "stream",
     "text": [
      "11198it [05:22, 35.47it/s]"
     ]
    },
    {
     "name": "stdout",
     "output_type": "stream",
     "text": [
      "[CLS] a shovel is used for [MASK] a hole. [SEP]\n"
     ]
    },
    {
     "name": "stderr",
     "output_type": "stream",
     "text": [
      "11214it [05:22, 35.17it/s]"
     ]
    },
    {
     "name": "stdout",
     "output_type": "stream",
     "text": [
      "[CLS] skiing is a form of winter exercise and [MASK]. [SEP]\n"
     ]
    },
    {
     "name": "stderr",
     "output_type": "stream",
     "text": [
      "11278it [05:24, 36.51it/s]"
     ]
    },
    {
     "name": "stdout",
     "output_type": "stream",
     "text": [
      "[CLS] good sanitation requires proper [MASK] of garbage. [SEP]\n"
     ]
    },
    {
     "name": "stderr",
     "output_type": "stream",
     "text": [
      "11290it [05:24, 35.21it/s]"
     ]
    },
    {
     "name": "stdout",
     "output_type": "stream",
     "text": [
      "[CLS] to understand the event \" jeff bought a diamond. \", it is important to know that men can [MASK] their love and appreciation to their loved ones by buying them gifts that they would like. [SEP]\n"
     ]
    },
    {
     "name": "stderr",
     "output_type": "stream",
     "text": [
      "11350it [05:26, 34.48it/s]"
     ]
    },
    {
     "name": "stdout",
     "output_type": "stream",
     "text": [
      "[CLS] people [MASK] by plane to destinations that are far away. [SEP]\n"
     ]
    },
    {
     "name": "stderr",
     "output_type": "stream",
     "text": [
      "11370it [05:27, 34.54it/s]"
     ]
    },
    {
     "name": "stdout",
     "output_type": "stream",
     "text": [
      "[CLS] to understand the event \" bob called his friend on the telephone. \", it is important to know that a telephone is a device used for voice [MASK]. [SEP]\n"
     ]
    },
    {
     "name": "stderr",
     "output_type": "stream",
     "text": [
      "11442it [05:29, 35.30it/s]"
     ]
    },
    {
     "name": "stdout",
     "output_type": "stream",
     "text": [
      "[CLS] the statement \" you are likely to find an apartment in a town \" is true because towns require high density [MASK] and a single apartment building can house many people. [SEP]\n"
     ]
    },
    {
     "name": "stderr",
     "output_type": "stream",
     "text": [
      "11558it [05:32, 36.27it/s]"
     ]
    },
    {
     "name": "stdout",
     "output_type": "stream",
     "text": [
      "[CLS] molecules in the air are [MASK] and cooled. [SEP]\n"
     ]
    },
    {
     "name": "stderr",
     "output_type": "stream",
     "text": [
      "11646it [05:35, 33.69it/s]"
     ]
    },
    {
     "name": "stdout",
     "output_type": "stream",
     "text": [
      "[CLS] to understand the event \" joan saw smoke coming out of a window. \", it is important to know that most windows can be [MASK] and closed. [SEP]\n",
      "[CLS] coconuts can be [MASK]. [SEP]\n"
     ]
    },
    {
     "name": "stderr",
     "output_type": "stream",
     "text": [
      "11654it [05:35, 33.29it/s]"
     ]
    },
    {
     "name": "stdout",
     "output_type": "stream",
     "text": [
      "[CLS] sneakernet is a means of moving data between computers that are not physically [MASK] by a network. [SEP]\n",
      "[CLS] the statement \" confetti is sometimes [MASK] at a bride and bridegroom after a wedding. \" helps answer the question \" what are ways to celebrate a wedding? \". [SEP]\n"
     ]
    },
    {
     "name": "stderr",
     "output_type": "stream",
     "text": [
      "11674it [05:35, 34.31it/s]"
     ]
    },
    {
     "name": "stdout",
     "output_type": "stream",
     "text": [
      "[CLS] to understand the event \" the police man arrested the suspect. \", it is important to know that a suspect is someone who may have [MASK] a crime. [SEP]\n",
      "[CLS] curtains are [MASK]. [SEP]\n"
     ]
    },
    {
     "name": "stderr",
     "output_type": "stream",
     "text": [
      "11698it [05:36, 33.81it/s]"
     ]
    },
    {
     "name": "stdout",
     "output_type": "stream",
     "text": [
      "[CLS] to understand the event \" joe walked to his car. joe [MASK] the door. \", it is important to know that the car was probably unlocked. [SEP]\n"
     ]
    },
    {
     "name": "stderr",
     "output_type": "stream",
     "text": [
      "11738it [05:37, 34.29it/s]"
     ]
    },
    {
     "name": "stdout",
     "output_type": "stream",
     "text": [
      "[CLS] fruit has seeds and can be [MASK]. [SEP]\n"
     ]
    },
    {
     "name": "stderr",
     "output_type": "stream",
     "text": [
      "11762it [05:38, 34.73it/s]"
     ]
    },
    {
     "name": "stdout",
     "output_type": "stream",
     "text": [
      "[CLS] a hairdressing salon is a place where people get their hair [MASK] and cut. [SEP]\n"
     ]
    },
    {
     "name": "stderr",
     "output_type": "stream",
     "text": [
      "11786it [05:39, 35.73it/s]"
     ]
    },
    {
     "name": "stdout",
     "output_type": "stream",
     "text": [
      "[CLS] to understand the event \" liz [MASK] her french horn for three hours. \", it is important to know that a french horn is a musical instrument. [SEP]\n",
      "[CLS] hemoglobin is an organic chemical [MASK] around an atom of iron. [SEP]\n"
     ]
    },
    {
     "name": "stderr",
     "output_type": "stream",
     "text": [
      "11806it [05:39, 33.63it/s]"
     ]
    },
    {
     "name": "stdout",
     "output_type": "stream",
     "text": [
      "[CLS] to understand the event \" jill received a letter from her brother. \", it is important to know that letters are messages [MASK] on paper and put into envelopes. [SEP]\n"
     ]
    },
    {
     "name": "stderr",
     "output_type": "stream",
     "text": [
      "11850it [05:41, 35.24it/s]"
     ]
    },
    {
     "name": "stdout",
     "output_type": "stream",
     "text": [
      "[CLS] to understand the event \" lisa went to the concert. she sat in the balcony. \", it is important to know that lisa probalby [MASK] the music she listened to. [SEP]\n"
     ]
    },
    {
     "name": "stderr",
     "output_type": "stream",
     "text": [
      "11914it [05:42, 35.19it/s]"
     ]
    },
    {
     "name": "stdout",
     "output_type": "stream",
     "text": [
      "[CLS] potatoes can be [MASK] by grilling them. [SEP]\n",
      "[CLS] mark strand [MASK] the pulitzer prize in poetry for \" blizzard of one \" in 1999. [SEP]\n"
     ]
    },
    {
     "name": "stderr",
     "output_type": "stream",
     "text": [
      "11934it [05:43, 36.98it/s]"
     ]
    },
    {
     "name": "stdout",
     "output_type": "stream",
     "text": [
      "[CLS] rice can be [MASK]. [SEP]\n"
     ]
    },
    {
     "name": "stderr",
     "output_type": "stream",
     "text": [
      "11946it [05:43, 36.36it/s]"
     ]
    },
    {
     "name": "stdout",
     "output_type": "stream",
     "text": [
      "[CLS] something that might happen as a consequence of becoming a scuba diver is being [MASK] by a shark. [SEP]\n"
     ]
    },
    {
     "name": "stderr",
     "output_type": "stream",
     "text": [
      "11954it [05:43, 36.01it/s]"
     ]
    },
    {
     "name": "stdout",
     "output_type": "stream",
     "text": [
      "[CLS] in the event \" jane [MASK] a class on physics. \", something that changed was jane improved her teaching skills. [SEP]\n",
      "[CLS] a slave is a person that doesn't work out of free will and is [MASK] by someone. [SEP]\n"
     ]
    },
    {
     "name": "stderr",
     "output_type": "stream",
     "text": [
      "11970it [05:44, 36.02it/s]"
     ]
    },
    {
     "name": "stdout",
     "output_type": "stream",
     "text": [
      "[CLS] jeff eats a steak. he uses a knife to [MASK] it into pieces. [SEP]\n"
     ]
    },
    {
     "name": "stderr",
     "output_type": "stream",
     "text": [
      "12026it [05:46, 34.16it/s]"
     ]
    },
    {
     "name": "stdout",
     "output_type": "stream",
     "text": [
      "[CLS] to understand the event \" joan saw smoke coming out of a window. \", it is important to know that most windows can be opened and [MASK]. [SEP]\n",
      "[CLS] to understand the event \" joan saw smoke coming out of a window. \", it is important to know that most windows can be [MASK] and closed. [SEP]\n",
      "[CLS] to understand the event \" joan saw smoke coming out of a window. \", it is important to know that most windows can be [MASK] and closed. [SEP]\n"
     ]
    },
    {
     "name": "stderr",
     "output_type": "stream",
     "text": [
      "12214it [05:51, 34.74it/s]"
     ]
    },
    {
     "name": "stdout",
     "output_type": "stream",
     "text": [
      "[CLS] another way to say \" quire water to survive. \" is \" obtain water to avoid [MASK] by dehydration \". [SEP]\n",
      "[CLS] going scuba diving can cause [MASK]. [SEP]\n"
     ]
    },
    {
     "name": "stderr",
     "output_type": "stream",
     "text": [
      "12310it [05:54, 35.21it/s]"
     ]
    },
    {
     "name": "stdout",
     "output_type": "stream",
     "text": [
      "[CLS] the statement \" can cause a lot of [MASK]. \" is true because falling from a apartment is injurious to health. [SEP]\n"
     ]
    },
    {
     "name": "stderr",
     "output_type": "stream",
     "text": [
      "12382it [05:56, 36.16it/s]"
     ]
    },
    {
     "name": "stdout",
     "output_type": "stream",
     "text": [
      "[CLS] individual species of lice are intensely specialized, largely to avoid grooming and preening behaviors by creatures trying to [MASK] rid of them.. [SEP]\n"
     ]
    },
    {
     "name": "stderr",
     "output_type": "stream",
     "text": [
      "12406it [05:56, 36.38it/s]"
     ]
    },
    {
     "name": "stdout",
     "output_type": "stream",
     "text": [
      "[CLS] many billions of dollars are squandered on the gold - plated united states military as opposed to helping working people who [MASK] taxes. [SEP]\n"
     ]
    },
    {
     "name": "stderr",
     "output_type": "stream",
     "text": [
      "12438it [05:57, 35.33it/s]"
     ]
    },
    {
     "name": "stdout",
     "output_type": "stream",
     "text": [
      "[CLS] to understand the event \" i took a leave of absence from my teaching job. \", it is important to know that teaching jobs can involve a lot of psychological [MASK]. [SEP]\n"
     ]
    },
    {
     "name": "stderr",
     "output_type": "stream",
     "text": [
      "12454it [05:58, 35.88it/s]"
     ]
    },
    {
     "name": "stdout",
     "output_type": "stream",
     "text": [
      "[CLS] sometimes judging someone causes a lot of [MASK]. [SEP]\n"
     ]
    },
    {
     "name": "stderr",
     "output_type": "stream",
     "text": [
      "12562it [06:01, 35.78it/s]"
     ]
    },
    {
     "name": "stdout",
     "output_type": "stream",
     "text": [
      "[CLS] the statement \" memorising is for remembering it later \" helps answer the question \" how do you [MASK] something later? \". [SEP]\n"
     ]
    },
    {
     "name": "stderr",
     "output_type": "stream",
     "text": [
      "12754it [06:06, 35.93it/s]"
     ]
    },
    {
     "name": "stdout",
     "output_type": "stream",
     "text": [
      "[CLS] sometimes smoking causes lung [MASK]. [SEP]\n"
     ]
    },
    {
     "name": "stderr",
     "output_type": "stream",
     "text": [
      "12874it [06:10, 35.39it/s]"
     ]
    },
    {
     "name": "stdout",
     "output_type": "stream",
     "text": [
      "[CLS] sometimes traveling causes [MASK] and panic. [SEP]\n",
      "[CLS] something that might happen as a consequence of running after the ball is tripping and [MASK]. [SEP]\n"
     ]
    },
    {
     "name": "stderr",
     "output_type": "stream",
     "text": [
      "12890it [06:10, 35.58it/s]"
     ]
    },
    {
     "name": "stdout",
     "output_type": "stream",
     "text": [
      "[CLS] typing is a way of printing [MASK] on a page. [SEP]\n"
     ]
    },
    {
     "name": "stderr",
     "output_type": "stream",
     "text": [
      "12970it [06:12, 30.70it/s]"
     ]
    },
    {
     "name": "stdout",
     "output_type": "stream",
     "text": [
      "[CLS] car accidents can be [MASK]. [SEP]\n"
     ]
    },
    {
     "name": "stderr",
     "output_type": "stream",
     "text": [
      "12982it [06:13, 34.14it/s]"
     ]
    },
    {
     "name": "stdout",
     "output_type": "stream",
     "text": [
      "[CLS] another way to say \" some advertisments are lies \" is \" many advertisements of products or services are exaggerated and not [MASK]. \". [SEP]\n"
     ]
    },
    {
     "name": "stderr",
     "output_type": "stream",
     "text": [
      "13050it [06:15, 34.57it/s]"
     ]
    },
    {
     "name": "stdout",
     "output_type": "stream",
     "text": [
      "[CLS] picture description : this is an axe. it is a tool that people have used since ancient times to cut wood and other materials. the axe consists of an wooden handle and a metal tip which is very [MASK]. axes are dangerous because they can hurt people if they are not used carefully. there are other more advanced methods for cutting wood.. [SEP]\n"
     ]
    },
    {
     "name": "stderr",
     "output_type": "stream",
     "text": [
      "13094it [06:16, 35.74it/s]"
     ]
    },
    {
     "name": "stdout",
     "output_type": "stream",
     "text": [
      "[CLS] to understand the event \" sid went to a vegetarian restaurant. the owner spent the whole of the meal telling sid the benefits of vegetarianism. \", it is [MASK] to know that plants grow from the ground. [SEP]\n"
     ]
    },
    {
     "name": "stderr",
     "output_type": "stream",
     "text": [
      "13106it [06:16, 36.50it/s]"
     ]
    },
    {
     "name": "stdout",
     "output_type": "stream",
     "text": [
      "[CLS] the statement \" birds come in many sizes, from very [MASK] to very large \" helps answer the question \" what is a bird? \". [SEP]\n"
     ]
    },
    {
     "name": "stderr",
     "output_type": "stream",
     "text": [
      "13134it [06:17, 36.65it/s]"
     ]
    },
    {
     "name": "stdout",
     "output_type": "stream",
     "text": [
      "[CLS] to understand the event \" the bookstore had a sale. \", it is [MASK] to know that books can contain any written information. [SEP]\n"
     ]
    },
    {
     "name": "stderr",
     "output_type": "stream",
     "text": [
      "13262it [06:21, 36.58it/s]"
     ]
    },
    {
     "name": "stdout",
     "output_type": "stream",
     "text": [
      "[CLS] children are most [MASK] about themselves and the world around them. [SEP]\n"
     ]
    },
    {
     "name": "stderr",
     "output_type": "stream",
     "text": [
      "13286it [06:21, 33.90it/s]"
     ]
    },
    {
     "name": "stdout",
     "output_type": "stream",
     "text": [
      "[CLS] picture description : a famous landmark in a city called paris in a country called france. it is a tower ( the eiffel tower ) made of steel girders bolted together. the photgraph was taken late in the day as the sky is beginning to become [MASK], and the lights on the tower are lit. [SEP]\n"
     ]
    },
    {
     "name": "stderr",
     "output_type": "stream",
     "text": [
      "13326it [06:22, 35.58it/s]"
     ]
    },
    {
     "name": "stdout",
     "output_type": "stream",
     "text": [
      "[CLS] computers can make things more [MASK]. [SEP]\n"
     ]
    },
    {
     "name": "stderr",
     "output_type": "stream",
     "text": [
      "13402it [06:24, 35.06it/s]"
     ]
    },
    {
     "name": "stdout",
     "output_type": "stream",
     "text": [
      "[CLS] to understand the event \" it rarely rains in the desert. jane and randy got caught unexpectedly in a desert rain storm. \", it is important to know that it's very hot and [MASK] in most deserts. [SEP]\n"
     ]
    },
    {
     "name": "stderr",
     "output_type": "stream",
     "text": [
      "13450it [06:26, 34.58it/s]"
     ]
    },
    {
     "name": "stdout",
     "output_type": "stream",
     "text": [
      "[CLS] most dogs are trustworthy and [MASK]. [SEP]\n"
     ]
    },
    {
     "name": "stderr",
     "output_type": "stream",
     "text": [
      "13514it [06:28, 33.44it/s]"
     ]
    },
    {
     "name": "stdout",
     "output_type": "stream",
     "text": [
      "[CLS] the fact \" literature is for reading \" is illustrated with the story : 1. people needs entertainment. 2. reading is one of the traditional leisure activity. 3. reading will keep us informed and wise. 4. it is great [MASK] to read literature, especially those written by great authors like shakespeare. 5. reading literature can teach people about life. [SEP]\n"
     ]
    },
    {
     "name": "stderr",
     "output_type": "stream",
     "text": [
      "13582it [06:30, 33.97it/s]"
     ]
    },
    {
     "name": "stdout",
     "output_type": "stream",
     "text": [
      "[CLS] a flashlight can be [MASK]. [SEP]\n"
     ]
    },
    {
     "name": "stderr",
     "output_type": "stream",
     "text": [
      "13750it [06:34, 35.21it/s]"
     ]
    },
    {
     "name": "stdout",
     "output_type": "stream",
     "text": [
      "[CLS] to understand the event \" roger robbed a liquor store last night. \", it is important to know that liquor is not [MASK] for the health. [SEP]\n"
     ]
    },
    {
     "name": "stderr",
     "output_type": "stream",
     "text": [
      "13894it [06:39, 34.55it/s]"
     ]
    },
    {
     "name": "stdout",
     "output_type": "stream",
     "text": [
      "[CLS] to understand the event \" fred and bill are brothers. fred killed bill. \", it is important to know that killing is morally [MASK]. [SEP]\n"
     ]
    },
    {
     "name": "stderr",
     "output_type": "stream",
     "text": [
      "14006it [06:42, 35.37it/s]"
     ]
    },
    {
     "name": "stdout",
     "output_type": "stream",
     "text": [
      "[CLS] on earth, mankind is far and away the most [MASK] form of life. [SEP]\n"
     ]
    },
    {
     "name": "stderr",
     "output_type": "stream",
     "text": [
      "14014it [06:42, 35.61it/s]"
     ]
    },
    {
     "name": "stdout",
     "output_type": "stream",
     "text": [
      "[CLS] to understand the event \" alfred smoked a joint in the john. \", it is important to know that marijuana is [MASK] in most countries. [SEP]\n"
     ]
    },
    {
     "name": "stderr",
     "output_type": "stream",
     "text": [
      "14094it [06:44, 33.04it/s]"
     ]
    },
    {
     "name": "stdout",
     "output_type": "stream",
     "text": [
      "[CLS] to understand the event \" mario ate a mushroom. \", it is important to know that mushrooms are [MASK]. [SEP]\n"
     ]
    },
    {
     "name": "stderr",
     "output_type": "stream",
     "text": [
      "14326it [06:51, 34.66it/s]"
     ]
    },
    {
     "name": "stdout",
     "output_type": "stream",
     "text": [
      "[CLS] another way to say \" teenagers like to hang out in pizzeria's \" is \" a pizza parlor is [MASK] with teenagers \". [SEP]\n"
     ]
    },
    {
     "name": "stderr",
     "output_type": "stream",
     "text": [
      "14402it [06:53, 36.12it/s]"
     ]
    },
    {
     "name": "stdout",
     "output_type": "stream",
     "text": [
      "[CLS] to understand the event \" i read until quite late last night. \", it is [MASK] to know that when people talk about reading this usually refers to books. [SEP]\n"
     ]
    },
    {
     "name": "stderr",
     "output_type": "stream",
     "text": [
      "14486it [06:56, 33.50it/s]"
     ]
    },
    {
     "name": "stdout",
     "output_type": "stream",
     "text": [
      "[CLS] the statement \" a person wants love, money, sex, a life of ease and comfort and [MASK] weather \" is true because these things are pleasant to the senses and to the emotions. [SEP]\n"
     ]
    },
    {
     "name": "stderr",
     "output_type": "stream",
     "text": [
      "14594it [06:59, 31.51it/s]"
     ]
    },
    {
     "name": "stdout",
     "output_type": "stream",
     "text": [
      "[CLS] to understand the event \" the red wings rule. \", it is important to know that this is [MASK] subjective statement. [SEP]\n"
     ]
    },
    {
     "name": "stderr",
     "output_type": "stream",
     "text": [
      "14670it [07:01, 35.33it/s]"
     ]
    },
    {
     "name": "stdout",
     "output_type": "stream",
     "text": [
      "[CLS] dining room tables can be [MASK], oval or rectangular. [SEP]\n",
      "[CLS] a table is a flat surface raised from the ground or floor by at least one leg at each corner ; tables are usually [MASK] or rectangular. [SEP]\n"
     ]
    },
    {
     "name": "stderr",
     "output_type": "stream",
     "text": [
      "14758it [07:03, 31.95it/s]"
     ]
    },
    {
     "name": "stdout",
     "output_type": "stream",
     "text": [
      "[CLS] similarity between a trumpet and a rock : are [MASK], not gas or liquid. [SEP]\n"
     ]
    },
    {
     "name": "stderr",
     "output_type": "stream",
     "text": [
      "14834it [07:05, 35.86it/s]"
     ]
    },
    {
     "name": "stdout",
     "output_type": "stream",
     "text": [
      "[CLS] cold water is [MASK] and relaxing. [SEP]\n"
     ]
    },
    {
     "name": "stderr",
     "output_type": "stream",
     "text": [
      "14978it [07:10, 33.77it/s]"
     ]
    },
    {
     "name": "stdout",
     "output_type": "stream",
     "text": [
      "[CLS] to understand the event \" sam went to climb a tree. \", it is important to know that sam could possibly [MASK] and break something. [SEP]\n"
     ]
    },
    {
     "name": "stderr",
     "output_type": "stream",
     "text": [
      "14994it [07:10, 34.80it/s]"
     ]
    },
    {
     "name": "stdout",
     "output_type": "stream",
     "text": [
      "[CLS] learning a language is for communicating with people who [MASK] that language. [SEP]\n"
     ]
    },
    {
     "name": "stderr",
     "output_type": "stream",
     "text": [
      "15006it [07:10, 34.84it/s]"
     ]
    },
    {
     "name": "stdout",
     "output_type": "stream",
     "text": [
      "[CLS] competing against someone requires a desire to [MASK]. [SEP]\n"
     ]
    },
    {
     "name": "stderr",
     "output_type": "stream",
     "text": [
      "15050it [07:12, 34.21it/s]"
     ]
    },
    {
     "name": "stdout",
     "output_type": "stream",
     "text": [
      "[CLS] situation : hold fast to dream. for if dreams die, life is a broken - winged bird that cannot [MASK]. [SEP]\n"
     ]
    },
    {
     "name": "stderr",
     "output_type": "stream",
     "text": [
      "15074it [07:12, 34.49it/s]"
     ]
    },
    {
     "name": "stdout",
     "output_type": "stream",
     "text": [
      "[CLS] something you might do while driving to work is eat, [MASK] the paper, talk on a cell phone and put on makeup all at once. [SEP]\n"
     ]
    },
    {
     "name": "stderr",
     "output_type": "stream",
     "text": [
      "15130it [07:14, 34.16it/s]"
     ]
    },
    {
     "name": "stdout",
     "output_type": "stream",
     "text": [
      "[CLS] to understand the event \" raindrops [MASK] the surface of the river. \", it is important to know that when rain \" hits \" something, it is falling upon it. [SEP]\n"
     ]
    },
    {
     "name": "stderr",
     "output_type": "stream",
     "text": [
      "15158it [07:15, 34.34it/s]"
     ]
    },
    {
     "name": "stdout",
     "output_type": "stream",
     "text": [
      "[CLS] to understand the event \" frank and will are friends. frank punched will. \", it is important to know that feople [MASK] each other in a fight. [SEP]\n"
     ]
    },
    {
     "name": "stderr",
     "output_type": "stream",
     "text": [
      "15210it [07:16, 33.99it/s]"
     ]
    },
    {
     "name": "stdout",
     "output_type": "stream",
     "text": [
      "[CLS] something you need [MASK] do before you judge someone is observe them. [SEP]\n"
     ]
    },
    {
     "name": "stderr",
     "output_type": "stream",
     "text": [
      "15254it [07:18, 31.54it/s]"
     ]
    },
    {
     "name": "stdout",
     "output_type": "stream",
     "text": [
      "[CLS] situation : there are certain pillars which have been established as the unshakeable supports of the faith of god. the mightiest of these is learning and the use of the mind, the expansion of consciousness, and [MASK] into the realities of the universe and the hidden mysteries of almighty god. to promote knowledge is thus an inescapable duty imposed on every one of the friends of god. [SEP]\n"
     ]
    },
    {
     "name": "stderr",
     "output_type": "stream",
     "text": [
      "15302it [07:19, 34.42it/s]"
     ]
    },
    {
     "name": "stdout",
     "output_type": "stream",
     "text": [
      "[CLS] to understand the event \" martin is a comedian. \", it is important to know that a comedian makes people [MASK] by telling and performing funny things. [SEP]\n"
     ]
    },
    {
     "name": "stderr",
     "output_type": "stream",
     "text": [
      "15366it [07:21, 35.05it/s]"
     ]
    },
    {
     "name": "stdout",
     "output_type": "stream",
     "text": [
      "[CLS] something you might do while reading a book is relax the mind and [MASK]. [SEP]\n",
      "[CLS] something you might do while relaxing is [MASK] a book. [SEP]\n"
     ]
    },
    {
     "name": "stderr",
     "output_type": "stream",
     "text": [
      "15418it [07:22, 34.61it/s]"
     ]
    },
    {
     "name": "stdout",
     "output_type": "stream",
     "text": [
      "[CLS] to understand the event \" the baby cried. \", it is important to know that a baby might [MASK] because it is sick or hurt. [SEP]\n"
     ]
    },
    {
     "name": "stderr",
     "output_type": "stream",
     "text": [
      "15438it [07:23, 34.64it/s]"
     ]
    },
    {
     "name": "stdout",
     "output_type": "stream",
     "text": [
      "[CLS] something that might happen as a consequence of skiing is you might [MASK] into the water. [SEP]\n"
     ]
    },
    {
     "name": "stderr",
     "output_type": "stream",
     "text": [
      "15482it [07:24, 34.55it/s]"
     ]
    },
    {
     "name": "stdout",
     "output_type": "stream",
     "text": [
      "[CLS] the statement \" you would howl with laughter because you heard a good joke \" is true because a joke is often a paradoxical play of words that startles people in an unexpected way, often causing people to [MASK] at the surprise. [SEP]\n"
     ]
    },
    {
     "name": "stderr",
     "output_type": "stream",
     "text": [
      "15534it [07:26, 33.89it/s]"
     ]
    },
    {
     "name": "stdout",
     "output_type": "stream",
     "text": [
      "[CLS] you would [MASK] the newspaper because you want to select a travel tour. [SEP]\n"
     ]
    },
    {
     "name": "stderr",
     "output_type": "stream",
     "text": [
      "15582it [07:27, 34.59it/s]"
     ]
    },
    {
     "name": "stdout",
     "output_type": "stream",
     "text": [
      "[CLS] something that might happen while wrestling is you might accidentally slip and your clothes will [MASK] off and you'll have anal sex. [SEP]\n"
     ]
    },
    {
     "name": "stderr",
     "output_type": "stream",
     "text": [
      "15690it [07:30, 35.51it/s]"
     ]
    },
    {
     "name": "stdout",
     "output_type": "stream",
     "text": [
      "[CLS] desks can be made of [MASK]. [SEP]\n"
     ]
    },
    {
     "name": "stderr",
     "output_type": "stream",
     "text": [
      "15702it [07:31, 36.09it/s]"
     ]
    },
    {
     "name": "stdout",
     "output_type": "stream",
     "text": [
      "[CLS] a fabric may be made by knitting or sewing [MASK]. [SEP]\n",
      "[CLS] animals can convert oxygen and food into [MASK] dioxide and energy. [SEP]\n"
     ]
    },
    {
     "name": "stderr",
     "output_type": "stream",
     "text": [
      "15710it [07:31, 35.26it/s]"
     ]
    },
    {
     "name": "stdout",
     "output_type": "stream",
     "text": [
      "[CLS] a game is a structured form of play in which there are certain [MASK] that must be followed. [SEP]\n"
     ]
    },
    {
     "name": "stderr",
     "output_type": "stream",
     "text": [
      "15758it [07:32, 35.48it/s]"
     ]
    },
    {
     "name": "stdout",
     "output_type": "stream",
     "text": [
      "[CLS] situation : i believe that the manipulation of matter on the scale of atoms and [MASK] to make new technologies is a significant part of the technology landscape. [SEP]\n",
      "[CLS] an ozone molecule can consists of three oxygen [MASK]. [SEP]\n"
     ]
    },
    {
     "name": "stderr",
     "output_type": "stream",
     "text": [
      "15778it [07:33, 36.03it/s]"
     ]
    },
    {
     "name": "stdout",
     "output_type": "stream",
     "text": [
      "[CLS] a pencil can be made of a piece of lead encased in [MASK]. [SEP]\n"
     ]
    },
    {
     "name": "stderr",
     "output_type": "stream",
     "text": [
      "15818it [07:34, 35.98it/s]"
     ]
    },
    {
     "name": "stdout",
     "output_type": "stream",
     "text": [
      "[CLS] a skyscraper can be made of [MASK] and glass. [SEP]\n"
     ]
    },
    {
     "name": "stderr",
     "output_type": "stream",
     "text": [
      "15914it [07:37, 33.56it/s]"
     ]
    },
    {
     "name": "stdout",
     "output_type": "stream",
     "text": [
      "[CLS] chlorophyll combine carbon dioxide and [MASK] and sunlight to produce sugar and oxygen. [SEP]\n",
      "[CLS] the first thing you [MASK] when you clean clothing is make sure that nothing is in the pockets. [SEP]\n",
      "[CLS] to understand the event \" emily gets paid to clean the kitchen. emily cleaned the kitchen. \", it is important to know that emily might use the money to buy a dress or [MASK] her rent. [SEP]\n"
     ]
    },
    {
     "name": "stderr",
     "output_type": "stream",
     "text": [
      "16062it [07:41, 35.99it/s]"
     ]
    },
    {
     "name": "stdout",
     "output_type": "stream",
     "text": [
      "[CLS] the first thing you [MASK] when you sit on a chair is fart. [SEP]\n"
     ]
    },
    {
     "name": "stderr",
     "output_type": "stream",
     "text": [
      "\r",
      "16066it [07:41, 35.61it/s]"
     ]
    },
    {
     "name": "stdout",
     "output_type": "stream",
     "text": [
      "[CLS] the first thing you [MASK] when you fence is being very cautios. [SEP]\n"
     ]
    },
    {
     "name": "stderr",
     "output_type": "stream",
     "text": [
      "16198it [07:45, 35.79it/s]"
     ]
    },
    {
     "name": "stdout",
     "output_type": "stream",
     "text": [
      "[CLS] something you might do while learning is pay [MASK] to the teacher. [SEP]\n",
      "[CLS] learning about a subject requires [MASK], persistence, and time. [SEP]\n"
     ]
    },
    {
     "name": "stderr",
     "output_type": "stream",
     "text": [
      "16258it [07:46, 34.80it/s]"
     ]
    },
    {
     "name": "stdout",
     "output_type": "stream",
     "text": [
      "[CLS] the statement \" lisa knelt down to pray. \" is true because some people [MASK] in a deity. [SEP]\n"
     ]
    },
    {
     "name": "stderr",
     "output_type": "stream",
     "text": [
      "16286it [07:47, 35.41it/s]"
     ]
    },
    {
     "name": "stdout",
     "output_type": "stream",
     "text": [
      "[CLS] situation : i punch hard and [MASK]. [SEP]\n",
      "[CLS] you are likely to [MASK] a paper punch in a drawer. [SEP]\n"
     ]
    },
    {
     "name": "stderr",
     "output_type": "stream",
     "text": [
      "16334it [07:49, 33.01it/s]"
     ]
    },
    {
     "name": "stdout",
     "output_type": "stream",
     "text": [
      "[CLS] if you want to give a gift then you should [MASK] to remember what the person might want. [SEP]\n",
      "[CLS] the first thing you [MASK] when you reproduce is copulate. [SEP]\n"
     ]
    },
    {
     "name": "stderr",
     "output_type": "stream",
     "text": [
      "16358it [07:49, 34.90it/s]"
     ]
    },
    {
     "name": "stdout",
     "output_type": "stream",
     "text": [
      "[CLS] the first thing you [MASK] when you take a bath is run water in the tub. [SEP]\n"
     ]
    },
    {
     "name": "stderr",
     "output_type": "stream",
     "text": [
      "16378it [07:50, 35.14it/s]"
     ]
    },
    {
     "name": "stdout",
     "output_type": "stream",
     "text": [
      "[CLS] to hum along means that one makes long \" singing \" [MASK] from the mouth, without actual words, and participates in the musical event by doing so. [SEP]\n"
     ]
    },
    {
     "name": "stderr",
     "output_type": "stream",
     "text": [
      "16386it [07:50, 33.16it/s]"
     ]
    },
    {
     "name": "stdout",
     "output_type": "stream",
     "text": [
      "[CLS] the statement \" a bed is for napping. \" is true because beds are [MASK] and people normally sleep in them. [SEP]\n"
     ]
    },
    {
     "name": "stderr",
     "output_type": "stream",
     "text": [
      "16430it [07:51, 35.89it/s]"
     ]
    },
    {
     "name": "stdout",
     "output_type": "stream",
     "text": [
      "[CLS] something you need to [MASK] before you surprise someone is sneak up behind them. [SEP]\n",
      "[CLS] if you want to surprise someone then you should [MASK] behind the door. [SEP]\n"
     ]
    },
    {
     "name": "stderr",
     "output_type": "stream",
     "text": [
      "16442it [07:52, 36.03it/s]"
     ]
    },
    {
     "name": "stdout",
     "output_type": "stream",
     "text": [
      "[CLS] talking requires opening your [MASK] and breathing out over a tongue shaped in different ways for different sounds. [SEP]\n"
     ]
    },
    {
     "name": "stderr",
     "output_type": "stream",
     "text": [
      "16462it [07:52, 32.84it/s]"
     ]
    },
    {
     "name": "stdout",
     "output_type": "stream",
     "text": [
      "[CLS] something you might [MASK] while working is think about the clouds. [SEP]\n"
     ]
    },
    {
     "name": "stderr",
     "output_type": "stream",
     "text": [
      "16490it [07:53, 35.67it/s]"
     ]
    },
    {
     "name": "stdout",
     "output_type": "stream",
     "text": [
      "[CLS] to understand the event \" penny took a math test. \", it is important to know that many people [MASK] math is boring. [SEP]\n"
     ]
    },
    {
     "name": "stderr",
     "output_type": "stream",
     "text": [
      "16522it [07:54, 34.45it/s]"
     ]
    },
    {
     "name": "stdout",
     "output_type": "stream",
     "text": [
      "[CLS] wrestling is for increasing [MASK]. [SEP]\n"
     ]
    },
    {
     "name": "stderr",
     "output_type": "stream",
     "text": [
      "16546it [07:55, 33.49it/s]"
     ]
    },
    {
     "name": "stdout",
     "output_type": "stream",
     "text": [
      "[CLS] the statement \" people usually become tired after being awake for 16 hours \" is true because people require an average of 8 hours sleep every 24 hours in order [MASK] remain alert and healthy. [SEP]\n",
      "[CLS] you would buy fresh fruits and vegetables because they taste [MASK] than canned fruit and vegetables. [SEP]\n"
     ]
    },
    {
     "name": "stderr",
     "output_type": "stream",
     "text": [
      "16578it [07:56, 34.14it/s]"
     ]
    },
    {
     "name": "stdout",
     "output_type": "stream",
     "text": [
      "[CLS] something that might happen when you contemplate is come up with an [MASK] to a question. [SEP]\n"
     ]
    },
    {
     "name": "stderr",
     "output_type": "stream",
     "text": [
      "16610it [07:57, 34.73it/s]"
     ]
    },
    {
     "name": "stdout",
     "output_type": "stream",
     "text": [
      "[CLS] if you want to [MASK] the undersea you can learn how to scuba dive. [SEP]\n"
     ]
    },
    {
     "name": "stderr",
     "output_type": "stream",
     "text": [
      "16622it [07:57, 33.15it/s]"
     ]
    },
    {
     "name": "stdout",
     "output_type": "stream",
     "text": [
      "[CLS] all animals need to eat in order to [MASK]. [SEP]\n",
      "[CLS] something that might happen when you entertain someone is they might [MASK] you more. [SEP]\n"
     ]
    },
    {
     "name": "stderr",
     "output_type": "stream",
     "text": [
      "16654it [07:58, 34.76it/s]"
     ]
    },
    {
     "name": "stdout",
     "output_type": "stream",
     "text": [
      "[CLS] you would forgive someone because you want something [MASK] them. [SEP]\n",
      "[CLS] you would forgive someone because you [MASK] them and realize people make mistakes. [SEP]\n"
     ]
    },
    {
     "name": "stderr",
     "output_type": "stream",
     "text": [
      "16662it [07:58, 34.62it/s]"
     ]
    },
    {
     "name": "stdout",
     "output_type": "stream",
     "text": [
      "[CLS] something you [MASK] to do before you pay by credit card is get the card out of your wallet. [SEP]\n"
     ]
    },
    {
     "name": "stderr",
     "output_type": "stream",
     "text": [
      "16718it [08:00, 29.13it/s]"
     ]
    },
    {
     "name": "stdout",
     "output_type": "stream",
     "text": [
      "[CLS] the statement \" a bed is usually to lie on and sleep \" helps answer the question \" where might a person [MASK] some rest? \". [SEP]\n",
      "[CLS] the statement \" a whale is a mammal that looks [MASK] an enormous fish \" is true because whales evolved to live in the sea. [SEP]\n"
     ]
    },
    {
     "name": "stderr",
     "output_type": "stream",
     "text": [
      "16726it [08:00, 31.82it/s]"
     ]
    },
    {
     "name": "stdout",
     "output_type": "stream",
     "text": [
      "[CLS] john was in [MASK] with mary and decided to ask her to marry him. [SEP]\n"
     ]
    },
    {
     "name": "stderr",
     "output_type": "stream",
     "text": [
      "16746it [08:01, 33.50it/s]"
     ]
    },
    {
     "name": "stdout",
     "output_type": "stream",
     "text": [
      "[CLS] you would pretend because you were [MASK] a game or entertaining a wild idea. [SEP]\n"
     ]
    },
    {
     "name": "stderr",
     "output_type": "stream",
     "text": [
      "16782it [08:02, 33.54it/s]"
     ]
    },
    {
     "name": "stdout",
     "output_type": "stream",
     "text": [
      "[CLS] you can buy something to [MASK] from grocer shop. [SEP]\n"
     ]
    },
    {
     "name": "stderr",
     "output_type": "stream",
     "text": [
      "16850it [08:04, 32.51it/s]"
     ]
    },
    {
     "name": "stdout",
     "output_type": "stream",
     "text": [
      "[CLS] another way to [MASK] \" don't talk to yourself in company \" is \" talking to yourself in company is something you should not do \". [SEP]\n"
     ]
    },
    {
     "name": "stderr",
     "output_type": "stream",
     "text": [
      "16918it [08:06, 33.94it/s]"
     ]
    },
    {
     "name": "stdout",
     "output_type": "stream",
     "text": [
      "[CLS] the sun is used for helping plants convert carbon dioxide and [MASK] to sugar and oxygen. [SEP]\n"
     ]
    },
    {
     "name": "stderr",
     "output_type": "stream",
     "text": [
      "16998it [08:08, 32.38it/s]"
     ]
    },
    {
     "name": "stdout",
     "output_type": "stream",
     "text": [
      "[CLS] you can [MASK] a typewriter keyboard to type words on paper. [SEP]\n"
     ]
    },
    {
     "name": "stderr",
     "output_type": "stream",
     "text": [
      "17662it [08:27, 34.79it/s]"
     ]
    },
    {
     "name": "stdout",
     "output_type": "stream",
     "text": [
      "[CLS] you are likely to find a mailbox in the front [MASK]. [SEP]\n"
     ]
    },
    {
     "name": "stderr",
     "output_type": "stream",
     "text": [
      "17690it [08:28, 34.03it/s]"
     ]
    },
    {
     "name": "stdout",
     "output_type": "stream",
     "text": [
      "[CLS] to understand the event \" buffy drove a wooden stake into the vampires heart. \", it is important to know that a heart is an organ which pumps blood through an organism's circulatory [MASK]. [SEP]\n"
     ]
    },
    {
     "name": "stderr",
     "output_type": "stream",
     "text": [
      "17722it [08:29, 34.79it/s]"
     ]
    },
    {
     "name": "stdout",
     "output_type": "stream",
     "text": [
      "[CLS] you are likely to find a sideboard in the dining [MASK]. [SEP]\n",
      "[CLS] most garbage [MASK] be recycled if recycling facilities are available. [SEP]\n"
     ]
    },
    {
     "name": "stderr",
     "output_type": "stream",
     "text": [
      "17742it [08:30, 30.08it/s]"
     ]
    },
    {
     "name": "stdout",
     "output_type": "stream",
     "text": [
      "[CLS] the fact \" if you want to eat vegetables then you should buy some vegetables and wash them. \" is illustrated with the story : 1. i wanted to eat some zucchini with my pasta. 2. i went to the store and bought some zucchini. 3. i took the zucchini home and washed it in the sink to remove dirt, bacteria and pesticides. 4. i chopped up the zucchini and put it in a pot of boiling [MASK] with some pasta shells. 5. when the zucchini and the pasta were soft, i took them out, added some sauce, mixed it all together, and ate it. [SEP]\n"
     ]
    },
    {
     "name": "stderr",
     "output_type": "stream",
     "text": [
      "17774it [08:31, 31.55it/s]"
     ]
    },
    {
     "name": "stdout",
     "output_type": "stream",
     "text": [
      "[CLS] the fact \" information can be stored many ways \" is illustrated with the story : 1. linda obtained some new information. 2. she wanted to [MASK] it for future reference. 3. she typed the information into a computer and saved it on a disk. 4. she wrote down the information on a piece of paper and filed it in a drawer. 5. she told the information to a friend and asked him to remember it. [SEP]\n"
     ]
    },
    {
     "name": "stderr",
     "output_type": "stream",
     "text": [
      "17822it [08:32, 33.83it/s]"
     ]
    },
    {
     "name": "stdout",
     "output_type": "stream",
     "text": [
      "[CLS] fayetteville is the name of a city in the [MASK] of north carolina. [SEP]\n"
     ]
    },
    {
     "name": "stderr",
     "output_type": "stream",
     "text": [
      "17922it [08:35, 34.62it/s]"
     ]
    },
    {
     "name": "stdout",
     "output_type": "stream",
     "text": [
      "[CLS] something you find at the [MASK] of two streets is a lamp post. [SEP]\n"
     ]
    },
    {
     "name": "stderr",
     "output_type": "stream",
     "text": [
      "17998it [08:37, 35.45it/s]"
     ]
    },
    {
     "name": "stdout",
     "output_type": "stream",
     "text": [
      "[CLS] aliens come from outer [MASK], or other countries. [SEP]\n"
     ]
    },
    {
     "name": "stderr",
     "output_type": "stream",
     "text": [
      "18058it [08:39, 34.01it/s]"
     ]
    },
    {
     "name": "stdout",
     "output_type": "stream",
     "text": [
      "[CLS] you are likely to find a grocer in the grocery [MASK]. [SEP]\n"
     ]
    },
    {
     "name": "stderr",
     "output_type": "stream",
     "text": [
      "18150it [08:42, 33.86it/s]"
     ]
    },
    {
     "name": "stdout",
     "output_type": "stream",
     "text": [
      "[CLS] hawaii volcanoes is a national [MASK] in hawaii with a spectacular volcanic area and luxuriant vegetation at lower levels. [SEP]\n"
     ]
    },
    {
     "name": "stderr",
     "output_type": "stream",
     "text": [
      "18190it [08:43, 34.60it/s]"
     ]
    },
    {
     "name": "stdout",
     "output_type": "stream",
     "text": [
      "[CLS] a bean is for anything a vegetable [MASK] be used for. [SEP]\n"
     ]
    },
    {
     "name": "stderr",
     "output_type": "stream",
     "text": [
      "18278it [08:45, 34.34it/s]"
     ]
    },
    {
     "name": "stdout",
     "output_type": "stream",
     "text": [
      "[CLS] a quasar is a distant energy source in [MASK] which gives off large amounts of radiation. [SEP]\n"
     ]
    },
    {
     "name": "stderr",
     "output_type": "stream",
     "text": [
      "18394it [08:49, 33.11it/s]"
     ]
    },
    {
     "name": "stdout",
     "output_type": "stream",
     "text": [
      "[CLS] a street is a public way or thoroughfare in a [MASK] or town. [SEP]\n"
     ]
    },
    {
     "name": "stderr",
     "output_type": "stream",
     "text": [
      "18426it [08:50, 34.03it/s]"
     ]
    },
    {
     "name": "stdout",
     "output_type": "stream",
     "text": [
      "[CLS] to understand the event \" alice is a freshman at boston [MASK]. alice decided to major in mechanical engineering. \", it is important to know that mechanical engineering is a field of study, usually involving mathematics and forces. [SEP]\n"
     ]
    },
    {
     "name": "stderr",
     "output_type": "stream",
     "text": [
      "18602it [08:55, 31.74it/s]"
     ]
    },
    {
     "name": "stdout",
     "output_type": "stream",
     "text": [
      "[CLS] the cambridge agreement was that the puritan stockholders of the massachusetts bay company agreed to emigrate to new england on the condition that they would have [MASK] of the government of the colony. [SEP]\n"
     ]
    },
    {
     "name": "stderr",
     "output_type": "stream",
     "text": [
      "18686it [08:57, 34.20it/s]"
     ]
    },
    {
     "name": "stdout",
     "output_type": "stream",
     "text": [
      "[CLS] if you [MASK] at walmart, the clerk will put the items you buy in bags to carry them home in. [SEP]\n"
     ]
    },
    {
     "name": "stderr",
     "output_type": "stream",
     "text": [
      "18694it [08:58, 34.44it/s]"
     ]
    },
    {
     "name": "stdout",
     "output_type": "stream",
     "text": [
      "[CLS] white - collar workers do clerical or knowledge [MASK]. [SEP]\n"
     ]
    },
    {
     "name": "stderr",
     "output_type": "stream",
     "text": [
      "18902it [09:04, 34.20it/s]"
     ]
    },
    {
     "name": "stdout",
     "output_type": "stream",
     "text": [
      "[CLS] to understand the event \" dwight apologized to anne. \", it is important to know that an apology is when you ask someone to [MASK] you and show regret for your actions. [SEP]\n"
     ]
    },
    {
     "name": "stderr",
     "output_type": "stream",
     "text": [
      "18938it [09:05, 34.61it/s]"
     ]
    },
    {
     "name": "stdout",
     "output_type": "stream",
     "text": [
      "[CLS] commercials would make you want to [MASK] lunch. [SEP]\n",
      "[CLS] creativity would make you want to [MASK] a story. [SEP]\n"
     ]
    },
    {
     "name": "stderr",
     "output_type": "stream",
     "text": [
      "18974it [09:06, 35.51it/s]"
     ]
    },
    {
     "name": "stdout",
     "output_type": "stream",
     "text": [
      "[CLS] exhaustion would make you want to [MASK]. [SEP]\n"
     ]
    },
    {
     "name": "stderr",
     "output_type": "stream",
     "text": [
      "18982it [09:06, 34.65it/s]"
     ]
    },
    {
     "name": "stdout",
     "output_type": "stream",
     "text": [
      "[CLS] the statement \" a person wants to [MASK] \" is true because after being awake for about 16 hours, a person feels fatigue, and needs to rest. [SEP]\n"
     ]
    },
    {
     "name": "stderr",
     "output_type": "stream",
     "text": [
      "18998it [09:06, 34.11it/s]"
     ]
    },
    {
     "name": "stdout",
     "output_type": "stream",
     "text": [
      "[CLS] the statement \" in the event \" billy is a soccer player. billy scored a goal. \", something that changed was billy's team won the soccer game \" helps answer the question \" how do you [MASK] points in a soccer game? \". [SEP]\n"
     ]
    },
    {
     "name": "stderr",
     "output_type": "stream",
     "text": [
      "19018it [09:07, 35.12it/s]"
     ]
    },
    {
     "name": "stdout",
     "output_type": "stream",
     "text": [
      "[CLS] ignorance would make you want to [MASK] something new. [SEP]\n"
     ]
    },
    {
     "name": "stderr",
     "output_type": "stream",
     "text": [
      "19050it [09:08, 34.84it/s]"
     ]
    },
    {
     "name": "stdout",
     "output_type": "stream",
     "text": [
      "[CLS] you might like to [MASK] some money on food. [SEP]\n"
     ]
    },
    {
     "name": "stderr",
     "output_type": "stream",
     "text": [
      "19058it [09:08, 34.23it/s]"
     ]
    },
    {
     "name": "stdout",
     "output_type": "stream",
     "text": [
      "[CLS] if you want to relax then you should [MASK] to music. [SEP]\n"
     ]
    },
    {
     "name": "stderr",
     "output_type": "stream",
     "text": [
      "19086it [09:09, 34.52it/s]"
     ]
    },
    {
     "name": "stdout",
     "output_type": "stream",
     "text": [
      "[CLS] you may not [MASK] about reading while you are enjoying the fresh air. [SEP]\n"
     ]
    },
    {
     "name": "stderr",
     "output_type": "stream",
     "text": [
      "19130it [09:10, 35.62it/s]"
     ]
    },
    {
     "name": "stdout",
     "output_type": "stream",
     "text": [
      "[CLS] the vengeance would make you want to [MASK] someone. [SEP]\n"
     ]
    },
    {
     "name": "stderr",
     "output_type": "stream",
     "text": [
      "19306it [09:15, 35.54it/s]"
     ]
    },
    {
     "name": "stdout",
     "output_type": "stream",
     "text": [
      "[CLS] a bronchoscope is an [MASK] used in hospitals. [SEP]\n"
     ]
    },
    {
     "name": "stderr",
     "output_type": "stream",
     "text": [
      "19490it [09:20, 36.52it/s]"
     ]
    },
    {
     "name": "stdout",
     "output_type": "stream",
     "text": [
      "[CLS] mastercard is a credit [MASK] company. [SEP]\n"
     ]
    },
    {
     "name": "stderr",
     "output_type": "stream",
     "text": [
      "19530it [09:22, 34.96it/s]"
     ]
    },
    {
     "name": "stdout",
     "output_type": "stream",
     "text": [
      "[CLS] capital reef is a national park in utah with colored sedimentary [MASK] formations in high, narrow gorges. [SEP]\n"
     ]
    },
    {
     "name": "stderr",
     "output_type": "stream",
     "text": [
      "19542it [09:22, 33.77it/s]"
     ]
    },
    {
     "name": "stdout",
     "output_type": "stream",
     "text": [
      "[CLS] a dioptometer is an [MASK] used to measure eye refraction. [SEP]\n"
     ]
    },
    {
     "name": "stderr",
     "output_type": "stream",
     "text": [
      "19602it [09:24, 35.88it/s]"
     ]
    },
    {
     "name": "stdout",
     "output_type": "stream",
     "text": [
      "[CLS] the [MASK] and symptoms of carbon monoxide poisoning include headache, nausea, weakness, dizziness, mental confusion, hallucinations, and cyanosis. [SEP]\n"
     ]
    },
    {
     "name": "stderr",
     "output_type": "stream",
     "text": [
      "19698it [09:26, 31.75it/s]"
     ]
    },
    {
     "name": "stdout",
     "output_type": "stream",
     "text": [
      "[CLS] picture description : a rollercoaster is often found in an [MASK] park. roller coasters feel dangerous, but only rarely is anyone injured while riding one. [SEP]\n"
     ]
    },
    {
     "name": "stderr",
     "output_type": "stream",
     "text": [
      "19710it [09:27, 33.12it/s]"
     ]
    },
    {
     "name": "stdout",
     "output_type": "stream",
     "text": [
      "[CLS] to understand the event \" sally drove her parents to the mall. \", it is important to know that a mall is a connected set of [MASK] containing many types of retail stores. [SEP]\n"
     ]
    },
    {
     "name": "stderr",
     "output_type": "stream",
     "text": [
      "19726it [09:27, 31.07it/s]"
     ]
    },
    {
     "name": "stdout",
     "output_type": "stream",
     "text": [
      "[CLS] you are [MASK] likely to find a small dog on or in the forest. [SEP]\n"
     ]
    },
    {
     "name": "stderr",
     "output_type": "stream",
     "text": [
      "19742it [09:28, 33.15it/s]"
     ]
    },
    {
     "name": "stdout",
     "output_type": "stream",
     "text": [
      "[CLS] calcium is an [MASK] required to make strong bones. [SEP]\n"
     ]
    },
    {
     "name": "stderr",
     "output_type": "stream",
     "text": [
      "19810it [09:30, 35.21it/s]"
     ]
    },
    {
     "name": "stdout",
     "output_type": "stream",
     "text": [
      "[CLS] linux is [MASK] liked by it educators at universities. [SEP]\n",
      "[CLS] picture description : these are the tuning pegs for a guitar. a guitar is a type of musical instrument. the guitar produces sounds by plucking or striking stretched strings of metal, nylon or other [MASK]. the tuning pegs allow the user to adjust the tension on the strings, and thereby set them at various pitch levels, or sound frequency values. [SEP]\n"
     ]
    },
    {
     "name": "stderr",
     "output_type": "stream",
     "text": [
      "19830it [09:30, 32.06it/s]"
     ]
    },
    {
     "name": "stdout",
     "output_type": "stream",
     "text": [
      "[CLS] architecture is the art and [MASK] of designing and erecting buildings. [SEP]\n"
     ]
    },
    {
     "name": "stderr",
     "output_type": "stream",
     "text": [
      "19902it [09:32, 36.13it/s]"
     ]
    },
    {
     "name": "stdout",
     "output_type": "stream",
     "text": [
      "[CLS] unix is a type of operating [MASK]. [SEP]\n"
     ]
    },
    {
     "name": "stderr",
     "output_type": "stream",
     "text": [
      "19942it [09:34, 35.84it/s]"
     ]
    },
    {
     "name": "stdout",
     "output_type": "stream",
     "text": [
      "[CLS] human beings do [MASK] have wings. [SEP]\n"
     ]
    },
    {
     "name": "stderr",
     "output_type": "stream",
     "text": [
      "19970it [09:34, 33.63it/s]"
     ]
    },
    {
     "name": "stdout",
     "output_type": "stream",
     "text": [
      "[CLS] oligodendrocytes are [MASK] that produce the insulating myelin sheath. [SEP]\n"
     ]
    },
    {
     "name": "stderr",
     "output_type": "stream",
     "text": [
      "19978it [09:35, 34.58it/s]"
     ]
    },
    {
     "name": "stdout",
     "output_type": "stream",
     "text": [
      "[CLS] miata is the name of a car manufactured by the [MASK], \" mazda \". [SEP]\n"
     ]
    },
    {
     "name": "stderr",
     "output_type": "stream",
     "text": [
      "20034it [09:36, 32.37it/s]"
     ]
    },
    {
     "name": "stdout",
     "output_type": "stream",
     "text": [
      "[CLS] the [MASK] \" space \" has several different meanings. one is the blank alphanumeric character. another is a distance between two physical objects. another is a mathematical abstraction. finally, \" space \" can denote the part of the universe, that is, most of it, which lies outside the earth's atmosphere. [SEP]\n"
     ]
    },
    {
     "name": "stderr",
     "output_type": "stream",
     "text": [
      "20054it [09:37, 35.45it/s]"
     ]
    },
    {
     "name": "stdout",
     "output_type": "stream",
     "text": [
      "[CLS] rugby is a [MASK] played on horseback. [SEP]\n"
     ]
    },
    {
     "name": "stderr",
     "output_type": "stream",
     "text": [
      "20078it [09:38, 35.19it/s]"
     ]
    },
    {
     "name": "stdout",
     "output_type": "stream",
     "text": [
      "[CLS] puberty is a gradual [MASK] of sexual development. [SEP]\n"
     ]
    },
    {
     "name": "stderr",
     "output_type": "stream",
     "text": [
      "20162it [09:40, 36.30it/s]"
     ]
    },
    {
     "name": "stdout",
     "output_type": "stream",
     "text": [
      "[CLS] barbecue is a method of [MASK]. [SEP]\n"
     ]
    },
    {
     "name": "stderr",
     "output_type": "stream",
     "text": [
      "20182it [09:40, 35.48it/s]"
     ]
    },
    {
     "name": "stdout",
     "output_type": "stream",
     "text": [
      "[CLS] persian is one variety of [MASK]. [SEP]\n"
     ]
    },
    {
     "name": "stderr",
     "output_type": "stream",
     "text": [
      "20202it [09:41, 33.89it/s]"
     ]
    },
    {
     "name": "stdout",
     "output_type": "stream",
     "text": [
      "[CLS] a bomb is an [MASK] designed to explode. [SEP]\n",
      "[CLS] dictionaries are [MASK] that tell the meanings of lots of words. [SEP]\n",
      "[CLS] picture description : an abstract ( and inaccurate ) graphic [MASK] of written music. [SEP]\n"
     ]
    },
    {
     "name": "stderr",
     "output_type": "stream",
     "text": [
      "20262it [09:43, 32.91it/s]"
     ]
    },
    {
     "name": "stdout",
     "output_type": "stream",
     "text": [
      "[CLS] neko is the japanese word for [MASK]. [SEP]\n",
      "[CLS] the statement \" lettuce is a leafy vegetable that is good in salads \" is true because salads are [MASK] that is usually made of lots of vegetables. [SEP]\n"
     ]
    },
    {
     "name": "stderr",
     "output_type": "stream",
     "text": [
      "20322it [09:45, 35.86it/s]"
     ]
    },
    {
     "name": "stdout",
     "output_type": "stream",
     "text": [
      "[CLS] feelings are [MASK] based on reason. [SEP]\n",
      "[CLS] forests are [MASK] found in cities. [SEP]\n"
     ]
    },
    {
     "name": "stderr",
     "output_type": "stream",
     "text": [
      "20402it [09:47, 35.94it/s]"
     ]
    },
    {
     "name": "stdout",
     "output_type": "stream",
     "text": [
      "[CLS] a stick is used to play a [MASK] called hockey. [SEP]\n"
     ]
    },
    {
     "name": "stderr",
     "output_type": "stream",
     "text": [
      "20442it [09:48, 35.62it/s]"
     ]
    },
    {
     "name": "stdout",
     "output_type": "stream",
     "text": [
      "[CLS] the statement \" photography is the art or process of producing [MASK] on light - sensitive surfaces. \" is true because photography is the taking and processing of photographs. [SEP]\n",
      "[CLS] the statement \" lawyers defend criminals in court. \" is true because lawyers represent [MASK] who are dealing with the courts. [SEP]\n"
     ]
    },
    {
     "name": "stderr",
     "output_type": "stream",
     "text": [
      "20590it [09:52, 35.76it/s]"
     ]
    },
    {
     "name": "stdout",
     "output_type": "stream",
     "text": [
      "[CLS] people can often put garbage is in sacks and [MASK]. [SEP]\n"
     ]
    },
    {
     "name": "stderr",
     "output_type": "stream",
     "text": [
      "20598it [09:52, 34.72it/s]"
     ]
    },
    {
     "name": "stdout",
     "output_type": "stream",
     "text": [
      "[CLS] a sweater [MASK] a shoe are both articles of clothing. [SEP]\n"
     ]
    },
    {
     "name": "stderr",
     "output_type": "stream",
     "text": [
      "20666it [09:54, 34.00it/s]"
     ]
    },
    {
     "name": "stdout",
     "output_type": "stream",
     "text": [
      "[CLS] a church is a [MASK] where people of a certain religion meet to worship. [SEP]\n"
     ]
    },
    {
     "name": "stderr",
     "output_type": "stream",
     "text": [
      "20678it [09:55, 34.64it/s]"
     ]
    },
    {
     "name": "stdout",
     "output_type": "stream",
     "text": [
      "[CLS] a saeculum is a length of [MASK] roughly equal to the lifetime of a person, or about 90 years. [SEP]\n"
     ]
    },
    {
     "name": "stderr",
     "output_type": "stream",
     "text": [
      "20706it [09:55, 34.24it/s]"
     ]
    },
    {
     "name": "stdout",
     "output_type": "stream",
     "text": [
      "[CLS] situation : the two biggest sellers in any bookstore are the cookbooks and the diet books. the cookbooks tell you how to prepare the food, and the diet books tell you how [MASK] to eat any of it! [SEP]\n"
     ]
    },
    {
     "name": "stderr",
     "output_type": "stream",
     "text": [
      "20770it [09:57, 35.71it/s]"
     ]
    },
    {
     "name": "stdout",
     "output_type": "stream",
     "text": [
      "[CLS] the statement \" juries are often sequestered during long trials. \" is true because juries are often sequestered so they are [MASK] influenced by the opinions of their friends and families. [SEP]\n"
     ]
    },
    {
     "name": "stderr",
     "output_type": "stream",
     "text": [
      "20846it [09:59, 35.37it/s]"
     ]
    },
    {
     "name": "stdout",
     "output_type": "stream",
     "text": [
      "[CLS] an emetic is an [MASK] used to induce vomiting. [SEP]\n"
     ]
    },
    {
     "name": "stderr",
     "output_type": "stream",
     "text": [
      "20874it [10:00, 35.51it/s]"
     ]
    },
    {
     "name": "stdout",
     "output_type": "stream",
     "text": [
      "[CLS] anthrax is a deadly bacterial [MASK] spread by spores. [SEP]\n"
     ]
    },
    {
     "name": "stderr",
     "output_type": "stream",
     "text": [
      "20894it [10:01, 32.36it/s]"
     ]
    },
    {
     "name": "stdout",
     "output_type": "stream",
     "text": [
      "[CLS] picture description : a beautiful, artistic picture of a common pitcher, used for storeing and pouring liquids. the [MASK] of the pitcher itself if a rich, deep blue and it contrasts with a reddish brown, concrete like background. the front of the pitcher is not solid blue, but rather a reflection of light and objects, perhaps a branch from a tree and clouds. the reflection is vague enough to be many different things, but with enough form to suggest clouds and a skyline.. [SEP]\n"
     ]
    },
    {
     "name": "stderr",
     "output_type": "stream",
     "text": [
      "20910it [10:01, 35.37it/s]"
     ]
    },
    {
     "name": "stdout",
     "output_type": "stream",
     "text": [
      "[CLS] tuition is a [MASK] charged by institutes of higher education. [SEP]\n"
     ]
    },
    {
     "name": "stderr",
     "output_type": "stream",
     "text": [
      "20938it [10:02, 35.52it/s]"
     ]
    },
    {
     "name": "stdout",
     "output_type": "stream",
     "text": [
      "[CLS] daffodils, like all [MASK], can bloom. [SEP]\n"
     ]
    },
    {
     "name": "stderr",
     "output_type": "stream",
     "text": [
      "20962it [10:03, 35.36it/s]"
     ]
    },
    {
     "name": "stdout",
     "output_type": "stream",
     "text": [
      "[CLS] the first [MASK] you do when you meet a friend is shake hands. [SEP]\n"
     ]
    },
    {
     "name": "stderr",
     "output_type": "stream",
     "text": [
      "21054it [10:05, 34.45it/s]"
     ]
    },
    {
     "name": "stdout",
     "output_type": "stream",
     "text": [
      "[CLS] canoeing is an [MASK] that may be performed while camping. [SEP]\n"
     ]
    },
    {
     "name": "stderr",
     "output_type": "stream",
     "text": [
      "21062it [10:05, 34.43it/s]"
     ]
    },
    {
     "name": "stdout",
     "output_type": "stream",
     "text": [
      "[CLS] a firebomb is a [MASK] for causing an explosion and fire, intended to destroy or damage objects or people where it explodes. [SEP]\n"
     ]
    },
    {
     "name": "stderr",
     "output_type": "stream",
     "text": [
      "21138it [10:08, 35.84it/s]"
     ]
    },
    {
     "name": "stdout",
     "output_type": "stream",
     "text": [
      "[CLS] objectivism is a [MASK] proposed by ayn rand. [SEP]\n"
     ]
    },
    {
     "name": "stderr",
     "output_type": "stream",
     "text": [
      "21146it [10:08, 33.55it/s]"
     ]
    },
    {
     "name": "stdout",
     "output_type": "stream",
     "text": [
      "[CLS] another way to say \" many animal are kept in cages \" is \" a large amount of animals are [MASK] to an existence within a cage. \". [SEP]\n",
      "[CLS] another way to say \" blood loss can kill an animal \" is \" animals can [MASK] from loss of blood \". [SEP]\n"
     ]
    },
    {
     "name": "stderr",
     "output_type": "stream",
     "text": [
      "21173it [10:09, 29.54it/s]"
     ]
    },
    {
     "name": "stdout",
     "output_type": "stream",
     "text": [
      "[CLS] you would fight war because an army has [MASK] your country. [SEP]\n"
     ]
    },
    {
     "name": "stderr",
     "output_type": "stream",
     "text": [
      "21189it [10:09, 32.67it/s]"
     ]
    },
    {
     "name": "stdout",
     "output_type": "stream",
     "text": [
      "[CLS] my friend brought me a pointsietta plant. it was very [MASK] outside shen whe brought it. the leaves on the plant are culring and drying. i think the plant may be dying.. [SEP]\n"
     ]
    },
    {
     "name": "stderr",
     "output_type": "stream",
     "text": [
      "21229it [10:10, 34.48it/s]"
     ]
    },
    {
     "name": "stdout",
     "output_type": "stream",
     "text": [
      "[CLS] one impairment a person might have is rheumatoid [MASK]. [SEP]\n"
     ]
    },
    {
     "name": "stderr",
     "output_type": "stream",
     "text": [
      "21257it [10:11, 35.36it/s]"
     ]
    },
    {
     "name": "stdout",
     "output_type": "stream",
     "text": [
      "[CLS] to understand the event \" lucy fell and [MASK] her arm. \", it is important to know that lucy is a person. [SEP]\n"
     ]
    },
    {
     "name": "stderr",
     "output_type": "stream",
     "text": [
      "21305it [10:13, 34.96it/s]"
     ]
    },
    {
     "name": "stdout",
     "output_type": "stream",
     "text": [
      "[CLS] if you want to give assistance then you should first ask the other person if they'[MASK] like to receive assistance. [SEP]\n"
     ]
    },
    {
     "name": "stderr",
     "output_type": "stream",
     "text": [
      "21349it [10:14, 33.74it/s]"
     ]
    },
    {
     "name": "stdout",
     "output_type": "stream",
     "text": [
      "[CLS] one impairment a person might have is mood [MASK]. [SEP]\n"
     ]
    },
    {
     "name": "stderr",
     "output_type": "stream",
     "text": [
      "21357it [10:14, 33.39it/s]"
     ]
    },
    {
     "name": "stdout",
     "output_type": "stream",
     "text": [
      "[CLS] a person doesn't want to be [MASK] into the military. [SEP]\n"
     ]
    },
    {
     "name": "stderr",
     "output_type": "stream",
     "text": [
      "21405it [10:15, 34.45it/s]"
     ]
    },
    {
     "name": "stdout",
     "output_type": "stream",
     "text": [
      "[CLS] a right is said to accrue when it vests in a person, especially when it does so gradually or without his active intervention, e. [MASK]. by lapse of time, or by the determination of a preceding right. [SEP]\n"
     ]
    },
    {
     "name": "stderr",
     "output_type": "stream",
     "text": [
      "21429it [10:16, 34.17it/s]"
     ]
    },
    {
     "name": "stdout",
     "output_type": "stream",
     "text": [
      "[CLS] sometimes a person wears dark glasses to [MASK] their eyes from the view of others. [SEP]\n"
     ]
    },
    {
     "name": "stderr",
     "output_type": "stream",
     "text": [
      "21485it [10:18, 31.98it/s]"
     ]
    },
    {
     "name": "stdout",
     "output_type": "stream",
     "text": [
      "[CLS] the statement \" a person doesn't want to [MASK] to bad music \" helps answer the question \" why do people spend time looking through so many cd's in a record store when they could buy the first they lay their hands on, they all look pretty much the same? \". [SEP]\n"
     ]
    },
    {
     "name": "stderr",
     "output_type": "stream",
     "text": [
      "21573it [10:20, 34.93it/s]"
     ]
    },
    {
     "name": "stdout",
     "output_type": "stream",
     "text": [
      "[CLS] to understand the event \" george [MASK] mary down the stairs. mary pulled george down the stairs with her. \", it is important to know that pushing a person down stairs is dangerous and wrong. [SEP]\n"
     ]
    },
    {
     "name": "stderr",
     "output_type": "stream",
     "text": [
      "21581it [10:21, 30.68it/s]"
     ]
    },
    {
     "name": "stdout",
     "output_type": "stream",
     "text": [
      "[CLS] the fact \" a person may be necessary to do your job at all. \" is illustrated with the story : 1. i was fired from my customer service job2. management [MASK] me with a red robot. 3. the red robot crushed customers instead of servicing them. 4. customers complained to management. 5. management hired me back. [SEP]\n"
     ]
    },
    {
     "name": "stderr",
     "output_type": "stream",
     "text": [
      "21613it [10:22, 35.13it/s]"
     ]
    },
    {
     "name": "stdout",
     "output_type": "stream",
     "text": [
      "[CLS] rotten organic matter often emits odors that are offensive to a person's sense of [MASK]. [SEP]\n"
     ]
    },
    {
     "name": "stderr",
     "output_type": "stream",
     "text": [
      "21705it [10:24, 34.88it/s]"
     ]
    },
    {
     "name": "stdout",
     "output_type": "stream",
     "text": [
      "[CLS] to understand the event \" the plant withered and died. \", it is important to know that without food, water, air, and sunlight, plants will [MASK]. [SEP]\n"
     ]
    },
    {
     "name": "stderr",
     "output_type": "stream",
     "text": [
      "21717it [10:25, 35.40it/s]"
     ]
    },
    {
     "name": "stdout",
     "output_type": "stream",
     "text": [
      "[CLS] to understand the event \" the soldier died on the battlefield. \", it is important to know that when soldiers [MASK] they stop fighting. [SEP]\n"
     ]
    },
    {
     "name": "stderr",
     "output_type": "stream",
     "text": [
      "21761it [10:26, 35.64it/s]"
     ]
    },
    {
     "name": "stdout",
     "output_type": "stream",
     "text": [
      "[CLS] a writing instrument is for cats to [MASK] with. [SEP]\n"
     ]
    },
    {
     "name": "stderr",
     "output_type": "stream",
     "text": [
      "21789it [10:27, 33.46it/s]"
     ]
    },
    {
     "name": "stdout",
     "output_type": "stream",
     "text": [
      "[CLS] to understand the event \" the dog ate our dinner. \", it is important to know that more food must be prepared for us to [MASK]. [SEP]\n",
      "[CLS] to understand the event \" dean played fetch with fluffy. \", it is important to know that people [MASK] fetch with dogs by throwing an object and encouraging the dog to retrieve it. [SEP]\n"
     ]
    },
    {
     "name": "stderr",
     "output_type": "stream",
     "text": [
      "21797it [10:27, 34.82it/s]"
     ]
    },
    {
     "name": "stdout",
     "output_type": "stream",
     "text": [
      "[CLS] to understand the event \" the dog ran away. \", it is important to know that dogs may [MASK] when they are frightened. [SEP]\n",
      "[CLS] everybody wants to be a [MASK]. [SEP]\n"
     ]
    },
    {
     "name": "stderr",
     "output_type": "stream",
     "text": [
      "21825it [10:28, 34.67it/s]"
     ]
    },
    {
     "name": "stdout",
     "output_type": "stream",
     "text": [
      "[CLS] we [MASK] in a time where there is a reign of quantiy over quality. thus humanity has lost its center. [SEP]\n"
     ]
    },
    {
     "name": "stderr",
     "output_type": "stream",
     "text": [
      "21841it [10:28, 35.50it/s]"
     ]
    },
    {
     "name": "stdout",
     "output_type": "stream",
     "text": [
      "[CLS] to understand the event \" colby's dad was a fireman. colby wanted to [MASK] up to be just like him. \", it is important to know that colby's dad was probably save at leas one life. [SEP]\n"
     ]
    },
    {
     "name": "stderr",
     "output_type": "stream",
     "text": [
      "21861it [10:29, 35.10it/s]"
     ]
    },
    {
     "name": "stdout",
     "output_type": "stream",
     "text": [
      "[CLS] the statement \" a race can be refered to as a contest. \" is true because two or more people [MASK] to see who can run the fastest. [SEP]\n",
      "[CLS] the statement \" most people will become anrgry if another person hits or slaps them \" is true because being hit or [MASK] is not only painful, but also insulting. [SEP]\n"
     ]
    },
    {
     "name": "stderr",
     "output_type": "stream",
     "text": [
      "21869it [10:29, 34.11it/s]"
     ]
    },
    {
     "name": "stdout",
     "output_type": "stream",
     "text": [
      "[CLS] the statement \" you are likely to find water in a swimming pool. \" is true because people can [MASK] in water. [SEP]\n",
      "[CLS] another way to say \" a person can thank god \" is \" god can be [MASK] by people. \". [SEP]\n"
     ]
    },
    {
     "name": "stderr",
     "output_type": "stream",
     "text": [
      "21877it [10:29, 33.54it/s]"
     ]
    },
    {
     "name": "stdout",
     "output_type": "stream",
     "text": [
      "[CLS] if everyone [MASK] just one person to their carpool, the nationwide gasoline savings would amount to more than 33 million gallons of gasoline each day, enough to drive a car around the world 34, 000 times. [SEP]\n"
     ]
    },
    {
     "name": "stderr",
     "output_type": "stream",
     "text": [
      "21897it [10:30, 34.63it/s]"
     ]
    },
    {
     "name": "stdout",
     "output_type": "stream",
     "text": [
      "[CLS] a person wants to [MASK] appealing. [SEP]\n",
      "[CLS] therianthropy is the [MASK] that a person has a spiritual, emotional, or mental connection with an animal. [SEP]\n"
     ]
    },
    {
     "name": "stderr",
     "output_type": "stream",
     "text": [
      "21917it [10:30, 34.79it/s]"
     ]
    },
    {
     "name": "stdout",
     "output_type": "stream",
     "text": [
      "[CLS] to understand the event \" it was mary's birthday. she got presents from her friends. \", it is important to know that a birthday is [MASK] on the day the person was born.. [SEP]\n"
     ]
    },
    {
     "name": "stderr",
     "output_type": "stream",
     "text": [
      "22017it [10:33, 31.39it/s]"
     ]
    },
    {
     "name": "stdout",
     "output_type": "stream",
     "text": [
      "[CLS] to understand the event \" dan drove a car to the grocery store to [MASK] some peanut butter. \", it is important to know that each person who buys a car gets a key that does not fit other cars. [SEP]\n"
     ]
    },
    {
     "name": "stderr",
     "output_type": "stream",
     "text": [
      "22073it [10:35, 35.11it/s]"
     ]
    },
    {
     "name": "stdout",
     "output_type": "stream",
     "text": [
      "[CLS] a person who plays a piano is [MASK] as a pianist. [SEP]\n"
     ]
    },
    {
     "name": "stderr",
     "output_type": "stream",
     "text": [
      "22133it [10:37, 34.16it/s]"
     ]
    },
    {
     "name": "stdout",
     "output_type": "stream",
     "text": [
      "[CLS] to understand the event \" joe plays the trumpet. joe gave a music lesson. \", it is important to know that a person must know how to [MASK] an instrument well in order to give a music lesson. [SEP]\n"
     ]
    },
    {
     "name": "stderr",
     "output_type": "stream",
     "text": [
      "22193it [10:38, 35.36it/s]"
     ]
    },
    {
     "name": "stdout",
     "output_type": "stream",
     "text": [
      "[CLS] a person doesn't want to lose all of their teeth, especially not within the [MASK] of a few minutes. [SEP]\n"
     ]
    },
    {
     "name": "stderr",
     "output_type": "stream",
     "text": [
      "22233it [10:40, 33.17it/s]"
     ]
    },
    {
     "name": "stdout",
     "output_type": "stream",
     "text": [
      "[CLS] the story \" loving another \" has the step \" i've been particularly interested in another person for a long [MASK]. \". [SEP]\n"
     ]
    },
    {
     "name": "stderr",
     "output_type": "stream",
     "text": [
      "22257it [10:40, 33.94it/s]"
     ]
    },
    {
     "name": "stdout",
     "output_type": "stream",
     "text": [
      "[CLS] a politician wants to be re - [MASK]. [SEP]\n",
      "[CLS] the statement \" harbor pilots can shore large ships \" helps [MASK] the question \" who can shore large ships? \". [SEP]\n"
     ]
    },
    {
     "name": "stderr",
     "output_type": "stream",
     "text": [
      "22273it [10:41, 36.37it/s]"
     ]
    },
    {
     "name": "stdout",
     "output_type": "stream",
     "text": [
      "[CLS] a shark wants to [MASK] you. [SEP]\n",
      "[CLS] pot smokers must [MASK] pot in secret to avoid being arrested. [SEP]\n"
     ]
    },
    {
     "name": "stderr",
     "output_type": "stream",
     "text": [
      "22285it [10:41, 36.88it/s]"
     ]
    },
    {
     "name": "stdout",
     "output_type": "stream",
     "text": [
      "[CLS] to understand the event \" jane taught a class on boating. \", it is important to know that students [MASK] from teachers. [SEP]\n"
     ]
    },
    {
     "name": "stderr",
     "output_type": "stream",
     "text": [
      "22305it [10:42, 34.91it/s]"
     ]
    },
    {
     "name": "stdout",
     "output_type": "stream",
     "text": [
      "[CLS] to understand the event \" my son was going to be married on saturday. he decided not to get married a few days before the wedding. \", it is important to know that his or her son had found an adult female person and at one point had agreed to [MASK] this person. [SEP]\n"
     ]
    },
    {
     "name": "stderr",
     "output_type": "stream",
     "text": [
      "22341it [10:43, 33.56it/s]"
     ]
    },
    {
     "name": "stdout",
     "output_type": "stream",
     "text": [
      "[CLS] the statement \" another way to [MASK] \" a writer writes a book. \" is \" books are written by writers \" \" is true because anyone who writes a book is called a writer. [SEP]\n",
      "[CLS] the statement \" sometimes running in a marathon causes fatigue collapse \" helps answer the question \" people in marathons run for long distances to [MASK] to be the first to cross a ribbon. this effort can cause most anyone to collapse onto the ground from fatigue. \". [SEP]\n"
     ]
    },
    {
     "name": "stderr",
     "output_type": "stream",
     "text": [
      "22389it [10:44, 35.94it/s]"
     ]
    },
    {
     "name": "stdout",
     "output_type": "stream",
     "text": [
      "[CLS] to understand the event \" a bird flew onto a branch. \", it is important to know that relatively small birds can [MASK] on the branch of a tree. [SEP]\n"
     ]
    },
    {
     "name": "stderr",
     "output_type": "stream",
     "text": [
      "22409it [10:45, 35.42it/s]"
     ]
    },
    {
     "name": "stdout",
     "output_type": "stream",
     "text": [
      "[CLS] the buddha can [MASK] anything. [SEP]\n",
      "[CLS] a cannon is a big heavy gun used to fire a projectile at a large [MASK] such as a ship, vehicle or building. [SEP]\n"
     ]
    },
    {
     "name": "stderr",
     "output_type": "stream",
     "text": [
      "22441it [10:45, 36.90it/s]"
     ]
    },
    {
     "name": "stdout",
     "output_type": "stream",
     "text": [
      "[CLS] without oxygen brain cells will [MASK] in minutes. [SEP]\n"
     ]
    },
    {
     "name": "stderr",
     "output_type": "stream",
     "text": [
      "22449it [10:46, 34.79it/s]"
     ]
    },
    {
     "name": "stdout",
     "output_type": "stream",
     "text": [
      "[CLS] a lot of children like to [MASK] on a curb like a balance beam. [SEP]\n"
     ]
    },
    {
     "name": "stderr",
     "output_type": "stream",
     "text": [
      "22469it [10:46, 36.05it/s]"
     ]
    },
    {
     "name": "stdout",
     "output_type": "stream",
     "text": [
      "[CLS] a person doesn't want clothes that don't [MASK]. [SEP]\n"
     ]
    },
    {
     "name": "stderr",
     "output_type": "stream",
     "text": [
      "22477it [10:46, 34.49it/s]"
     ]
    },
    {
     "name": "stdout",
     "output_type": "stream",
     "text": [
      "[CLS] one of the things you [MASK] when you fix a computer is take off the cover. [SEP]\n"
     ]
    },
    {
     "name": "stderr",
     "output_type": "stream",
     "text": [
      "22509it [10:47, 34.79it/s]"
     ]
    },
    {
     "name": "stdout",
     "output_type": "stream",
     "text": [
      "[CLS] to understand the event \" the dog ran away. \", it is important to know that dogs may [MASK] when they are frightened. [SEP]\n"
     ]
    },
    {
     "name": "stderr",
     "output_type": "stream",
     "text": [
      "22529it [10:48, 33.32it/s]"
     ]
    },
    {
     "name": "stdout",
     "output_type": "stream",
     "text": [
      "[CLS] to understand the event \" dolphins played in front of the ship. \", it is important to know that you need water to [MASK]. [SEP]\n"
     ]
    },
    {
     "name": "stderr",
     "output_type": "stream",
     "text": [
      "22557it [10:49, 33.40it/s]"
     ]
    },
    {
     "name": "stdout",
     "output_type": "stream",
     "text": [
      "[CLS] the statement \" to understand the event \" alice is a freshman at boston university. alice decided to major in mechanical engineering. \", it is important to know that engineers [MASK] and build many things \" helps answer the question \" why is alice an engineering major? \". [SEP]\n",
      "[CLS] you can try to [MASK] from what everyone is telling you. [SEP]\n"
     ]
    },
    {
     "name": "stderr",
     "output_type": "stream",
     "text": [
      "22581it [10:49, 34.80it/s]"
     ]
    },
    {
     "name": "stdout",
     "output_type": "stream",
     "text": [
      "[CLS] something that might happen as a consequence of starting a fire is a building might [MASK] down. [SEP]\n"
     ]
    },
    {
     "name": "stderr",
     "output_type": "stream",
     "text": [
      "22601it [10:50, 32.46it/s]"
     ]
    },
    {
     "name": "stdout",
     "output_type": "stream",
     "text": [
      "[CLS] a friend is someone you [MASK] and confide in. [SEP]\n"
     ]
    },
    {
     "name": "stderr",
     "output_type": "stream",
     "text": [
      "22633it [10:51, 37.07it/s]"
     ]
    },
    {
     "name": "stdout",
     "output_type": "stream",
     "text": [
      "[CLS] a grenade can [MASK] someone. [SEP]\n"
     ]
    },
    {
     "name": "stderr",
     "output_type": "stream",
     "text": [
      "22653it [10:51, 36.84it/s]"
     ]
    },
    {
     "name": "stdout",
     "output_type": "stream",
     "text": [
      "[CLS] something that might happen while scoring a home run is your heart will [MASK] faster. [SEP]\n"
     ]
    },
    {
     "name": "stderr",
     "output_type": "stream",
     "text": [
      "22681it [10:52, 35.30it/s]"
     ]
    },
    {
     "name": "stdout",
     "output_type": "stream",
     "text": [
      "[CLS] humans have a finite lifespan and then they [MASK]. [SEP]\n"
     ]
    },
    {
     "name": "stderr",
     "output_type": "stream",
     "text": [
      "22693it [10:53, 34.89it/s]"
     ]
    },
    {
     "name": "stdout",
     "output_type": "stream",
     "text": [
      "[CLS] will humans eat each other when we [MASK] out of oil?. [SEP]\n",
      "[CLS] that humans and other apes [MASK] a common ancestor is as much a scientific fact as that the earth revolves around the sun. [SEP]\n"
     ]
    },
    {
     "name": "stderr",
     "output_type": "stream",
     "text": [
      "22725it [10:54, 35.80it/s]"
     ]
    },
    {
     "name": "stdout",
     "output_type": "stream",
     "text": [
      "[CLS] another way to say \" kangaroos can jump high \" is \" an ability of the kangaroo is its ability to [MASK] to great heights \". [SEP]\n"
     ]
    },
    {
     "name": "stderr",
     "output_type": "stream",
     "text": [
      "22753it [10:54, 33.05it/s]"
     ]
    },
    {
     "name": "stdout",
     "output_type": "stream",
     "text": [
      "[CLS] a lock is designed so that only a particular key will [MASK] it. [SEP]\n"
     ]
    },
    {
     "name": "stderr",
     "output_type": "stream",
     "text": [
      "22765it [10:55, 35.05it/s]"
     ]
    },
    {
     "name": "stdout",
     "output_type": "stream",
     "text": [
      "[CLS] to understand the event \" dwight fell out of the airplane. \", it is important to know that airplanes are machines that can [MASK]. [SEP]\n"
     ]
    },
    {
     "name": "stderr",
     "output_type": "stream",
     "text": [
      "22789it [10:55, 35.00it/s]"
     ]
    },
    {
     "name": "stdout",
     "output_type": "stream",
     "text": [
      "[CLS] to understand the event \" gina is a murderer. \", it is important to know that to murder is to [MASK] a person. [SEP]\n"
     ]
    },
    {
     "name": "stderr",
     "output_type": "stream",
     "text": [
      "22833it [10:57, 35.09it/s]"
     ]
    },
    {
     "name": "stdout",
     "output_type": "stream",
     "text": [
      "[CLS] many sane people [MASK] in fairies. [SEP]\n"
     ]
    },
    {
     "name": "stderr",
     "output_type": "stream",
     "text": [
      "22845it [10:57, 34.27it/s]"
     ]
    },
    {
     "name": "stdout",
     "output_type": "stream",
     "text": [
      "[CLS] why is it that some people have to [MASK] through hoops to enjoy sex? [SEP]\n"
     ]
    },
    {
     "name": "stderr",
     "output_type": "stream",
     "text": [
      "22853it [10:57, 33.61it/s]"
     ]
    },
    {
     "name": "stdout",
     "output_type": "stream",
     "text": [
      "[CLS] the statement \" something you find in church is songbooks \" is true because you find people who [MASK] in church. [SEP]\n"
     ]
    },
    {
     "name": "stderr",
     "output_type": "stream",
     "text": [
      "22885it [10:58, 35.64it/s]"
     ]
    },
    {
     "name": "stdout",
     "output_type": "stream",
     "text": [
      "[CLS] planes although heavier than air can still [MASK]. [SEP]\n"
     ]
    },
    {
     "name": "stderr",
     "output_type": "stream",
     "text": [
      "22901it [10:59, 35.71it/s]"
     ]
    },
    {
     "name": "stdout",
     "output_type": "stream",
     "text": [
      "[CLS] prices may [MASK]. [SEP]\n"
     ]
    },
    {
     "name": "stderr",
     "output_type": "stream",
     "text": [
      "22993it [11:01, 34.94it/s]"
     ]
    },
    {
     "name": "stdout",
     "output_type": "stream",
     "text": [
      "[CLS] to understand the event \" sara felt feverish. \", it is important to know that a fever is an [MASK] in body temperature usually caused by an infection. [SEP]\n",
      "[CLS] to understand the event \" a thief stole mary's diamonds. \", it is important to know that thieves [MASK] valuable items. [SEP]\n",
      "[CLS] it would be unlikely for a tiger to [MASK] a banana. [SEP]\n"
     ]
    },
    {
     "name": "stderr",
     "output_type": "stream",
     "text": [
      "23021it [11:02, 32.17it/s]"
     ]
    },
    {
     "name": "stdout",
     "output_type": "stream",
     "text": [
      "[CLS] to understand the event \" humbert loved lolita. lolita was twelve years old. \", it is important to know that at 12 years old, lolita is too young to [MASK] involved in a love affair. [SEP]\n"
     ]
    },
    {
     "name": "stderr",
     "output_type": "stream",
     "text": [
      "23053it [11:03, 36.10it/s]"
     ]
    },
    {
     "name": "stdout",
     "output_type": "stream",
     "text": [
      "[CLS] it is often impossible to [MASK] the experience of depression to someone who has never been there. [SEP]\n",
      "[CLS] a statement'dinner is a meal eaten in the evening'helps answer the question'what does the word'dinner'[MASK]? '. [SEP]\n"
     ]
    },
    {
     "name": "stderr",
     "output_type": "stream",
     "text": [
      "23065it [11:03, 34.73it/s]"
     ]
    },
    {
     "name": "stdout",
     "output_type": "stream",
     "text": [
      "[CLS] a gunshot wound can [MASK] a man. [SEP]\n"
     ]
    },
    {
     "name": "stderr",
     "output_type": "stream",
     "text": [
      "23081it [11:04, 32.98it/s]"
     ]
    },
    {
     "name": "stdout",
     "output_type": "stream",
     "text": [
      "[CLS] alberta is a province in [MASK]. [SEP]\n"
     ]
    },
    {
     "name": "stderr",
     "output_type": "stream",
     "text": [
      "23149it [11:06, 33.82it/s]"
     ]
    },
    {
     "name": "stdout",
     "output_type": "stream",
     "text": [
      "[CLS] the [MASK] \" space \" has several different meanings. one is the blank alphanumeric character. another is a distance between two physical objects. another is a mathematical abstraction. finally, \" space \" can denote the part of the universe, that is, most of it, which lies outside the earth's atmosphere. [SEP]\n"
     ]
    },
    {
     "name": "stderr",
     "output_type": "stream",
     "text": [
      "23437it [11:14, 33.32it/s]"
     ]
    },
    {
     "name": "stdout",
     "output_type": "stream",
     "text": [
      "[CLS] the fifteen highest peaks in the world are in nepal, pakistan, china, [MASK], and tibet. [SEP]\n"
     ]
    },
    {
     "name": "stderr",
     "output_type": "stream",
     "text": [
      "23461it [11:15, 34.90it/s]"
     ]
    },
    {
     "name": "stdout",
     "output_type": "stream",
     "text": [
      "[CLS] another way to say \" a pit is part of an [MASK] \" is \" olives are pitted. \". [SEP]\n"
     ]
    },
    {
     "name": "stderr",
     "output_type": "stream",
     "text": [
      "23485it [11:15, 33.99it/s]"
     ]
    },
    {
     "name": "stdout",
     "output_type": "stream",
     "text": [
      "[CLS] wedding ceremonies are rooted in tradition, [MASK] and religion. [SEP]\n"
     ]
    },
    {
     "name": "stderr",
     "output_type": "stream",
     "text": [
      "23569it [11:18, 35.57it/s]"
     ]
    },
    {
     "name": "stdout",
     "output_type": "stream",
     "text": [
      "[CLS] jelly is a clear mixture with fruit [MASK] and sugar. [SEP]\n"
     ]
    },
    {
     "name": "stderr",
     "output_type": "stream",
     "text": [
      "23581it [11:18, 35.54it/s]"
     ]
    },
    {
     "name": "stdout",
     "output_type": "stream",
     "text": [
      "[CLS] it annoys a [MASK] when you pull its tail. [SEP]\n"
     ]
    },
    {
     "name": "stderr",
     "output_type": "stream",
     "text": [
      "23689it [11:21, 34.68it/s]"
     ]
    },
    {
     "name": "stdout",
     "output_type": "stream",
     "text": [
      "[CLS] another way to say \" knives are used to [MASK] an apple. \" is \" apples can be peeled by knives \". [SEP]\n",
      "[CLS] another way to say \" knives are used to [MASK] an apple. \" is \" apples can be peeled by knives \". [SEP]\n"
     ]
    },
    {
     "name": "stderr",
     "output_type": "stream",
     "text": [
      "23705it [11:22, 34.62it/s]"
     ]
    },
    {
     "name": "stdout",
     "output_type": "stream",
     "text": [
      "[CLS] atoms are made of [MASK], protons, and neutrons. [SEP]\n"
     ]
    },
    {
     "name": "stderr",
     "output_type": "stream",
     "text": [
      "23757it [11:23, 30.85it/s]"
     ]
    },
    {
     "name": "stdout",
     "output_type": "stream",
     "text": [
      "[CLS] when the blood has too much [MASK] and too little sodium, the brain swells and pushes against the skull. [SEP]\n"
     ]
    },
    {
     "name": "stderr",
     "output_type": "stream",
     "text": [
      "23789it [11:24, 35.01it/s]"
     ]
    },
    {
     "name": "stdout",
     "output_type": "stream",
     "text": [
      "[CLS] to understand the event \" the butterfly landed on the flower. \", it is important to know that butterflies have [MASK]. [SEP]\n"
     ]
    },
    {
     "name": "stderr",
     "output_type": "stream",
     "text": [
      "23805it [11:25, 34.63it/s]"
     ]
    },
    {
     "name": "stdout",
     "output_type": "stream",
     "text": [
      "[CLS] situation : i hear the rain drops tapping the [MASK] of my car. [SEP]\n"
     ]
    },
    {
     "name": "stderr",
     "output_type": "stream",
     "text": [
      "23845it [11:26, 34.86it/s]"
     ]
    },
    {
     "name": "stdout",
     "output_type": "stream",
     "text": [
      "[CLS] a typical chair has four [MASK]. [SEP]\n",
      "[CLS] you can use cheese to enhance the [MASK] of a hot dog. [SEP]\n"
     ]
    },
    {
     "name": "stderr",
     "output_type": "stream",
     "text": [
      "24221it [11:36, 35.40it/s]"
     ]
    },
    {
     "name": "stdout",
     "output_type": "stream",
     "text": [
      "[CLS] an eatery is where people [MASK]. [SEP]\n"
     ]
    },
    {
     "name": "stderr",
     "output_type": "stream",
     "text": [
      "24233it [11:37, 34.74it/s]"
     ]
    },
    {
     "name": "stdout",
     "output_type": "stream",
     "text": [
      "[CLS] people enter into a social contract when they agree to define and limit the [MASK] and duties of one another. [SEP]\n",
      "[CLS] another way to say \" a person [MASK] to be fulfilled. \" is \" fulfillment is desired by people \". [SEP]\n"
     ]
    },
    {
     "name": "stderr",
     "output_type": "stream",
     "text": [
      "24265it [11:38, 36.35it/s]"
     ]
    },
    {
     "name": "stdout",
     "output_type": "stream",
     "text": [
      "[CLS] a pool is a man made body of [MASK]. [SEP]\n"
     ]
    },
    {
     "name": "stderr",
     "output_type": "stream",
     "text": [
      "24309it [11:39, 35.72it/s]"
     ]
    },
    {
     "name": "stdout",
     "output_type": "stream",
     "text": [
      "[CLS] the statement \" a sentence is a group of [MASK] that is a statement, question, exclamation, or command \" helps answer the question \" what is a sentance \". [SEP]\n"
     ]
    },
    {
     "name": "stderr",
     "output_type": "stream",
     "text": [
      "24361it [11:40, 34.60it/s]"
     ]
    },
    {
     "name": "stdout",
     "output_type": "stream",
     "text": [
      "[CLS] one of the [MASK] you do when you play sport is choose teams. [SEP]\n",
      "[CLS] the term supervolcano has no specifically defined scientific [MASK]. [SEP]\n"
     ]
    },
    {
     "name": "stderr",
     "output_type": "stream",
     "text": [
      "24389it [11:41, 35.11it/s]"
     ]
    },
    {
     "name": "stdout",
     "output_type": "stream",
     "text": [
      "[CLS] another way to say \" a tricycle has three [MASK] \" is \" tricycles are three - wheeled. \". [SEP]\n"
     ]
    },
    {
     "name": "stderr",
     "output_type": "stream",
     "text": [
      "24493it [11:44, 35.43it/s]"
     ]
    },
    {
     "name": "stdout",
     "output_type": "stream",
     "text": [
      "[CLS] you can use an eyeglasses to [MASK] better. [SEP]\n"
     ]
    },
    {
     "name": "stderr",
     "output_type": "stream",
     "text": [
      "24505it [11:45, 35.21it/s]"
     ]
    },
    {
     "name": "stdout",
     "output_type": "stream",
     "text": [
      "[CLS] a motorway is an avenue along which motorcars can [MASK]. [SEP]\n"
     ]
    },
    {
     "name": "stderr",
     "output_type": "stream",
     "text": [
      "24521it [11:45, 34.95it/s]"
     ]
    },
    {
     "name": "stdout",
     "output_type": "stream",
     "text": [
      "[CLS] to understand the event \" mary baked some cookies for her children to [MASK] after school. \", it is important to know that children attend school to learn. [SEP]\n"
     ]
    },
    {
     "name": "stderr",
     "output_type": "stream",
     "text": [
      "24605it [11:47, 35.10it/s]"
     ]
    },
    {
     "name": "stdout",
     "output_type": "stream",
     "text": [
      "[CLS] you can use a dining table to [MASK]. [SEP]\n"
     ]
    },
    {
     "name": "stderr",
     "output_type": "stream",
     "text": [
      "24617it [11:48, 34.71it/s]"
     ]
    },
    {
     "name": "stdout",
     "output_type": "stream",
     "text": [
      "[CLS] talking requires [MASK] from your mouth. [SEP]\n"
     ]
    },
    {
     "name": "stderr",
     "output_type": "stream",
     "text": [
      "24625it [11:48, 33.70it/s]"
     ]
    },
    {
     "name": "stdout",
     "output_type": "stream",
     "text": [
      "[CLS] the fact \" literature is for reading \" is illustrated with the story : 1. people needs entertainment. 2. reading is one of the traditional leisure activity. 3. reading will keep us informed and wise. 4. it is great fun to read literature, especially those written by great authors like shakespeare. 5. reading literature can [MASK] people about life. [SEP]\n"
     ]
    },
    {
     "name": "stderr",
     "output_type": "stream",
     "text": [
      "24637it [11:48, 35.13it/s]"
     ]
    },
    {
     "name": "stdout",
     "output_type": "stream",
     "text": [
      "[CLS] a sink is used for [MASK] the dishes. [SEP]\n"
     ]
    },
    {
     "name": "stderr",
     "output_type": "stream",
     "text": [
      "24673it [11:49, 35.60it/s]"
     ]
    },
    {
     "name": "stdout",
     "output_type": "stream",
     "text": [
      "[CLS] you can use an ottoman to [MASK] down. [SEP]\n"
     ]
    },
    {
     "name": "stderr",
     "output_type": "stream",
     "text": [
      "24697it [11:50, 35.00it/s]"
     ]
    },
    {
     "name": "stdout",
     "output_type": "stream",
     "text": [
      "[CLS] that is a key. it can be used for [MASK] or unlocking a door. [SEP]\n"
     ]
    },
    {
     "name": "stderr",
     "output_type": "stream",
     "text": [
      "24705it [11:50, 35.40it/s]"
     ]
    },
    {
     "name": "stdout",
     "output_type": "stream",
     "text": [
      "[CLS] the telephone can be used to [MASK]. [SEP]\n"
     ]
    },
    {
     "name": "stderr",
     "output_type": "stream",
     "text": [
      "24733it [11:51, 36.03it/s]"
     ]
    },
    {
     "name": "stdout",
     "output_type": "stream",
     "text": [
      "[CLS] a stadium is for conducting olympic [MASK]. [SEP]\n"
     ]
    },
    {
     "name": "stderr",
     "output_type": "stream",
     "text": [
      "24777it [11:52, 35.56it/s]"
     ]
    },
    {
     "name": "stdout",
     "output_type": "stream",
     "text": [
      "[CLS] a stylus is used for writing or [MASK] at things. [SEP]\n"
     ]
    },
    {
     "name": "stderr",
     "output_type": "stream",
     "text": [
      "24801it [11:53, 35.11it/s]"
     ]
    },
    {
     "name": "stdout",
     "output_type": "stream",
     "text": [
      "[CLS] something that might happen when you [MASK] a mountain is your legs start to ache. [SEP]\n"
     ]
    },
    {
     "name": "stderr",
     "output_type": "stream",
     "text": [
      "24817it [11:53, 35.85it/s]"
     ]
    },
    {
     "name": "stdout",
     "output_type": "stream",
     "text": [
      "[CLS] when you [MASK] about movies, popcorns also hits your head. [SEP]\n",
      "[CLS] tickling requires stimulating the brain through playful touch or a good sense of [MASK]. [SEP]\n"
     ]
    },
    {
     "name": "stderr",
     "output_type": "stream",
     "text": [
      "25053it [12:00, 35.31it/s]"
     ]
    },
    {
     "name": "stdout",
     "output_type": "stream",
     "text": [
      "[CLS] picture description : it is a human hand which is holding a pipe. a pipe is a device to allow the ignition of some material for the [MASK] of inhalation. tobacco is most frequently used in pipes. people smoke pipes. [SEP]\n"
     ]
    },
    {
     "name": "stderr",
     "output_type": "stream",
     "text": [
      "25069it [12:01, 35.00it/s]"
     ]
    },
    {
     "name": "stdout",
     "output_type": "stream",
     "text": [
      "[CLS] another way to say \" sopranos can [MASK] at a high pitch. \" is \" the highest female voice can reach very high notes. \". [SEP]\n"
     ]
    },
    {
     "name": "stderr",
     "output_type": "stream",
     "text": [
      "25101it [12:02, 34.92it/s]"
     ]
    },
    {
     "name": "stdout",
     "output_type": "stream",
     "text": [
      "[CLS] another way to say \" women wear high heel shoes. \" is \" high heeled pumps are [MASK] by women \". [SEP]\n"
     ]
    },
    {
     "name": "stderr",
     "output_type": "stream",
     "text": [
      "25129it [12:02, 35.84it/s]"
     ]
    },
    {
     "name": "stdout",
     "output_type": "stream",
     "text": [
      "[CLS] you can use a cheque to [MASK] something. [SEP]\n"
     ]
    },
    {
     "name": "stderr",
     "output_type": "stream",
     "text": [
      "25141it [12:03, 36.13it/s]"
     ]
    },
    {
     "name": "stdout",
     "output_type": "stream",
     "text": [
      "[CLS] you can use a saxhorn to [MASK]. [SEP]\n"
     ]
    },
    {
     "name": "stderr",
     "output_type": "stream",
     "text": [
      "25157it [12:03, 35.81it/s]"
     ]
    },
    {
     "name": "stdout",
     "output_type": "stream",
     "text": [
      "[CLS] you can use a revolving door to [MASK] and exit a building. [SEP]\n"
     ]
    },
    {
     "name": "stderr",
     "output_type": "stream",
     "text": [
      "25189it [12:04, 33.77it/s]"
     ]
    },
    {
     "name": "stdout",
     "output_type": "stream",
     "text": [
      "[CLS] an intersection is where two or more roads [MASK]. [SEP]\n"
     ]
    },
    {
     "name": "stderr",
     "output_type": "stream",
     "text": [
      "25225it [12:05, 34.42it/s]"
     ]
    },
    {
     "name": "stdout",
     "output_type": "stream",
     "text": [
      "[CLS] a university can may do [MASK] and research in the health sciences. [SEP]\n",
      "[CLS] you can't normally see the person you are [MASK] to on the phone. [SEP]\n"
     ]
    },
    {
     "name": "stderr",
     "output_type": "stream",
     "text": [
      "25305it [12:07, 33.04it/s]"
     ]
    },
    {
     "name": "stdout",
     "output_type": "stream",
     "text": [
      "[CLS] you can use an island to [MASK]. [SEP]\n"
     ]
    },
    {
     "name": "stderr",
     "output_type": "stream",
     "text": [
      "25333it [12:08, 31.45it/s]"
     ]
    },
    {
     "name": "stdout",
     "output_type": "stream",
     "text": [
      "[CLS] a excavation is a way of [MASK] ore. [SEP]\n"
     ]
    },
    {
     "name": "stderr",
     "output_type": "stream",
     "text": [
      "25456it [12:12, 35.09it/s]"
     ]
    },
    {
     "name": "stdout",
     "output_type": "stream",
     "text": [
      "[CLS] a stairway can often has a banister so that you can hold on whilst [MASK] the stairs. [SEP]\n",
      "[CLS] a computer is a machine to help you do things like play games, [MASK] a letter or search the internet. [SEP]\n"
     ]
    },
    {
     "name": "stderr",
     "output_type": "stream",
     "text": [
      "25480it [12:13, 34.49it/s]"
     ]
    },
    {
     "name": "stdout",
     "output_type": "stream",
     "text": [
      "[CLS] to understand the event \" jeehan cooked some curry. \", it is important to know that jeehan probably used a stove to [MASK] the curry. [SEP]\n"
     ]
    },
    {
     "name": "stderr",
     "output_type": "stream",
     "text": [
      "25508it [12:13, 34.81it/s]"
     ]
    },
    {
     "name": "stdout",
     "output_type": "stream",
     "text": [
      "[CLS] humans [MASK] their food with a fork and a knive. [SEP]\n",
      "[CLS] eating healthily is for prolonging [MASK]. [SEP]\n"
     ]
    },
    {
     "name": "stderr",
     "output_type": "stream",
     "text": [
      "25520it [12:14, 34.85it/s]"
     ]
    },
    {
     "name": "stdout",
     "output_type": "stream",
     "text": [
      "[CLS] you can use bagpipes to [MASK] scottish music. [SEP]\n"
     ]
    },
    {
     "name": "stderr",
     "output_type": "stream",
     "text": [
      "25536it [12:14, 34.20it/s]"
     ]
    },
    {
     "name": "stdout",
     "output_type": "stream",
     "text": [
      "[CLS] you can use a woodwind instrument to [MASK] jazz. [SEP]\n"
     ]
    },
    {
     "name": "stderr",
     "output_type": "stream",
     "text": [
      "25588it [12:16, 35.60it/s]"
     ]
    },
    {
     "name": "stdout",
     "output_type": "stream",
     "text": [
      "[CLS] you can use a bullet to [MASK] someone. [SEP]\n"
     ]
    },
    {
     "name": "stderr",
     "output_type": "stream",
     "text": [
      "25624it [12:17, 35.76it/s]"
     ]
    },
    {
     "name": "stdout",
     "output_type": "stream",
     "text": [
      "[CLS] a machine gun is used to [MASK] people. [SEP]\n"
     ]
    },
    {
     "name": "stderr",
     "output_type": "stream",
     "text": [
      "25668it [12:18, 34.97it/s]"
     ]
    },
    {
     "name": "stdout",
     "output_type": "stream",
     "text": [
      "[CLS] you can use a cave to [MASK] out from the law. [SEP]\n"
     ]
    },
    {
     "name": "stderr",
     "output_type": "stream",
     "text": [
      "25768it [12:21, 31.95it/s]"
     ]
    },
    {
     "name": "stdout",
     "output_type": "stream",
     "text": [
      "[CLS] the effect of socialising is making [MASK], and not being lonely. humans are really made to depend on each other. one man may work on cars all day, while the other does roofs, one will need the others service someday. this is also why we need massage therapy. not only to relieve muscle tension and tightness, but also for another person to touch and take that tension away with their hands is a comforting feeling. [SEP]\n"
     ]
    },
    {
     "name": "stderr",
     "output_type": "stream",
     "text": [
      "25848it [12:23, 35.53it/s]"
     ]
    },
    {
     "name": "stdout",
     "output_type": "stream",
     "text": [
      "[CLS] a statue can stay [MASK] one place. [SEP]\n"
     ]
    },
    {
     "name": "stderr",
     "output_type": "stream",
     "text": [
      "25864it [12:24, 33.54it/s]"
     ]
    },
    {
     "name": "stdout",
     "output_type": "stream",
     "text": [
      "[CLS] delillo shows no signs of slowing in production or award - collecting, nor does his preference to remain reclusive seem to be as overpowering as it is for his major postmodern literary counterpart, thomas pynchon. though some readers find his writing cold and abstract, delillo blends intellectualism with human characters and a dark sense of [MASK] in ways few writers can, living or dead.. [SEP]\n"
     ]
    },
    {
     "name": "stderr",
     "output_type": "stream",
     "text": [
      "25888it [12:24, 34.62it/s]"
     ]
    },
    {
     "name": "stdout",
     "output_type": "stream",
     "text": [
      "[CLS] with the aid of a small camera on top of your computer, and a connection to a transact connected isp, you can see and [MASK] to your friends, family and business colleagues over the internet. [SEP]\n"
     ]
    },
    {
     "name": "stderr",
     "output_type": "stream",
     "text": [
      "25948it [12:26, 35.16it/s]"
     ]
    },
    {
     "name": "stdout",
     "output_type": "stream",
     "text": [
      "[CLS] a city usually has many [MASK], buildings and cars. [SEP]\n"
     ]
    },
    {
     "name": "stderr",
     "output_type": "stream",
     "text": [
      "25988it [12:27, 34.36it/s]"
     ]
    },
    {
     "name": "stdout",
     "output_type": "stream",
     "text": [
      "[CLS] to understand the event \" george has a lot of money. george will not give money to the poor. \", it is important to know that the poor probably refers to charitable organizations that [MASK] people who cannot meet certain financial needs. [SEP]\n",
      "[CLS] to understand the event \" anne washed the laundry. \", it is important to know that anne probably used water to [MASK] the laundry. [SEP]\n"
     ]
    },
    {
     "name": "stderr",
     "output_type": "stream",
     "text": [
      "26084it [12:30, 35.30it/s]"
     ]
    },
    {
     "name": "stdout",
     "output_type": "stream",
     "text": [
      "[CLS] a shovel is used for [MASK] a hole. [SEP]\n"
     ]
    },
    {
     "name": "stderr",
     "output_type": "stream",
     "text": [
      "26100it [12:30, 35.25it/s]"
     ]
    },
    {
     "name": "stdout",
     "output_type": "stream",
     "text": [
      "[CLS] skiing is a form of winter exercise and [MASK]. [SEP]\n"
     ]
    },
    {
     "name": "stderr",
     "output_type": "stream",
     "text": [
      "26168it [12:32, 36.07it/s]"
     ]
    },
    {
     "name": "stdout",
     "output_type": "stream",
     "text": [
      "[CLS] good sanitation requires proper [MASK] of garbage. [SEP]\n"
     ]
    },
    {
     "name": "stderr",
     "output_type": "stream",
     "text": [
      "26180it [12:33, 34.85it/s]"
     ]
    },
    {
     "name": "stdout",
     "output_type": "stream",
     "text": [
      "[CLS] to understand the event \" jeff bought a diamond. \", it is important to know that men can [MASK] their love and appreciation to their loved ones by buying them gifts that they would like. [SEP]\n"
     ]
    },
    {
     "name": "stderr",
     "output_type": "stream",
     "text": [
      "26236it [12:34, 34.06it/s]"
     ]
    },
    {
     "name": "stdout",
     "output_type": "stream",
     "text": [
      "[CLS] people [MASK] by plane to destinations that are far away. [SEP]\n"
     ]
    },
    {
     "name": "stderr",
     "output_type": "stream",
     "text": [
      "26256it [12:35, 33.75it/s]"
     ]
    },
    {
     "name": "stdout",
     "output_type": "stream",
     "text": [
      "[CLS] to understand the event \" bob called his friend on the telephone. \", it is important to know that a telephone is a device used for voice [MASK]. [SEP]\n"
     ]
    },
    {
     "name": "stderr",
     "output_type": "stream",
     "text": [
      "26332it [12:37, 34.52it/s]"
     ]
    },
    {
     "name": "stdout",
     "output_type": "stream",
     "text": [
      "[CLS] the statement \" you are likely to find an apartment in a town \" is true because towns require high density [MASK] and a single apartment building can house many people. [SEP]\n"
     ]
    },
    {
     "name": "stderr",
     "output_type": "stream",
     "text": [
      "26444it [12:40, 35.97it/s]"
     ]
    },
    {
     "name": "stdout",
     "output_type": "stream",
     "text": [
      "[CLS] molecules in the air are [MASK] and cooled. [SEP]\n"
     ]
    },
    {
     "name": "stderr",
     "output_type": "stream",
     "text": [
      "26532it [12:43, 32.71it/s]"
     ]
    },
    {
     "name": "stdout",
     "output_type": "stream",
     "text": [
      "[CLS] to understand the event \" joan saw smoke coming out of a window. \", it is important to know that most windows can be [MASK] and closed. [SEP]\n",
      "[CLS] coconuts can be [MASK]. [SEP]\n"
     ]
    },
    {
     "name": "stderr",
     "output_type": "stream",
     "text": [
      "26540it [12:43, 32.49it/s]"
     ]
    },
    {
     "name": "stdout",
     "output_type": "stream",
     "text": [
      "[CLS] sneakernet is a means of moving data between computers that are not physically [MASK] by a network. [SEP]\n",
      "[CLS] the statement \" confetti is sometimes [MASK] at a bride and bridegroom after a wedding. \" helps answer the question \" what are ways to celebrate a wedding? \". [SEP]\n"
     ]
    },
    {
     "name": "stderr",
     "output_type": "stream",
     "text": [
      "26564it [12:44, 33.01it/s]"
     ]
    },
    {
     "name": "stdout",
     "output_type": "stream",
     "text": [
      "[CLS] to understand the event \" the police man arrested the suspect. \", it is important to know that a suspect is someone who may have [MASK] a crime. [SEP]\n",
      "[CLS] curtains are [MASK]. [SEP]\n"
     ]
    },
    {
     "name": "stderr",
     "output_type": "stream",
     "text": [
      "26584it [12:44, 33.31it/s]"
     ]
    },
    {
     "name": "stdout",
     "output_type": "stream",
     "text": [
      "[CLS] to understand the event \" joe walked to his car. joe [MASK] the door. \", it is important to know that the car was probably unlocked. [SEP]\n"
     ]
    },
    {
     "name": "stderr",
     "output_type": "stream",
     "text": [
      "26624it [12:46, 33.76it/s]"
     ]
    },
    {
     "name": "stdout",
     "output_type": "stream",
     "text": [
      "[CLS] fruit has seeds and can be [MASK]. [SEP]\n"
     ]
    },
    {
     "name": "stderr",
     "output_type": "stream",
     "text": [
      "26648it [12:46, 34.94it/s]"
     ]
    },
    {
     "name": "stdout",
     "output_type": "stream",
     "text": [
      "[CLS] a hairdressing salon is a place where people get their hair [MASK] and cut. [SEP]\n"
     ]
    },
    {
     "name": "stderr",
     "output_type": "stream",
     "text": [
      "26676it [12:47, 35.67it/s]"
     ]
    },
    {
     "name": "stdout",
     "output_type": "stream",
     "text": [
      "[CLS] to understand the event \" liz [MASK] her french horn for three hours. \", it is important to know that a french horn is a musical instrument. [SEP]\n",
      "[CLS] hemoglobin is an organic chemical [MASK] around an atom of iron. [SEP]\n"
     ]
    },
    {
     "name": "stderr",
     "output_type": "stream",
     "text": [
      "26696it [12:48, 33.48it/s]"
     ]
    },
    {
     "name": "stdout",
     "output_type": "stream",
     "text": [
      "[CLS] to understand the event \" jill received a letter from her brother. \", it is important to know that letters are messages [MASK] on paper and put into envelopes. [SEP]\n"
     ]
    },
    {
     "name": "stderr",
     "output_type": "stream",
     "text": [
      "26740it [12:49, 34.34it/s]"
     ]
    },
    {
     "name": "stdout",
     "output_type": "stream",
     "text": [
      "[CLS] to understand the event \" lisa went to the concert. she sat in the balcony. \", it is important to know that lisa probalby [MASK] the music she listened to. [SEP]\n"
     ]
    },
    {
     "name": "stderr",
     "output_type": "stream",
     "text": [
      "26800it [12:51, 35.40it/s]"
     ]
    },
    {
     "name": "stdout",
     "output_type": "stream",
     "text": [
      "[CLS] potatoes can be [MASK] by grilling them. [SEP]\n",
      "[CLS] mark strand [MASK] the pulitzer prize in poetry for \" blizzard of one \" in 1999. [SEP]\n"
     ]
    },
    {
     "name": "stderr",
     "output_type": "stream",
     "text": [
      "26820it [12:51, 36.66it/s]"
     ]
    },
    {
     "name": "stdout",
     "output_type": "stream",
     "text": [
      "[CLS] rice can be [MASK]. [SEP]\n"
     ]
    },
    {
     "name": "stderr",
     "output_type": "stream",
     "text": [
      "26832it [12:51, 36.19it/s]"
     ]
    },
    {
     "name": "stdout",
     "output_type": "stream",
     "text": [
      "[CLS] something that might happen as a consequence of becoming a scuba diver is being [MASK] by a shark. [SEP]\n"
     ]
    },
    {
     "name": "stderr",
     "output_type": "stream",
     "text": [
      "26840it [12:52, 35.47it/s]"
     ]
    },
    {
     "name": "stdout",
     "output_type": "stream",
     "text": [
      "[CLS] in the event \" jane [MASK] a class on physics. \", something that changed was jane improved her teaching skills. [SEP]\n",
      "[CLS] a slave is a person that doesn't work out of free will and is [MASK] by someone. [SEP]\n"
     ]
    },
    {
     "name": "stderr",
     "output_type": "stream",
     "text": [
      "26856it [12:52, 35.65it/s]"
     ]
    },
    {
     "name": "stdout",
     "output_type": "stream",
     "text": [
      "[CLS] jeff eats a steak. he uses a knife to [MASK] it into pieces. [SEP]\n"
     ]
    },
    {
     "name": "stderr",
     "output_type": "stream",
     "text": [
      "26912it [12:54, 33.47it/s]"
     ]
    },
    {
     "name": "stdout",
     "output_type": "stream",
     "text": [
      "[CLS] to understand the event \" joan saw smoke coming out of a window. \", it is important to know that most windows can be opened and [MASK]. [SEP]\n",
      "[CLS] to understand the event \" joan saw smoke coming out of a window. \", it is important to know that most windows can be [MASK] and closed. [SEP]\n",
      "[CLS] to understand the event \" joan saw smoke coming out of a window. \", it is important to know that most windows can be [MASK] and closed. [SEP]\n"
     ]
    },
    {
     "name": "stderr",
     "output_type": "stream",
     "text": [
      "27104it [12:59, 35.53it/s]"
     ]
    },
    {
     "name": "stdout",
     "output_type": "stream",
     "text": [
      "[CLS] another way to say \" quire water to survive. \" is \" obtain water to avoid [MASK] by dehydration \". [SEP]\n",
      "[CLS] going scuba diving can cause [MASK]. [SEP]\n"
     ]
    },
    {
     "name": "stderr",
     "output_type": "stream",
     "text": [
      "27196it [13:02, 34.65it/s]"
     ]
    },
    {
     "name": "stdout",
     "output_type": "stream",
     "text": [
      "[CLS] the statement \" can cause a lot of [MASK]. \" is true because falling from a apartment is injurious to health. [SEP]\n"
     ]
    },
    {
     "name": "stderr",
     "output_type": "stream",
     "text": [
      "27268it [13:04, 35.68it/s]"
     ]
    },
    {
     "name": "stdout",
     "output_type": "stream",
     "text": [
      "[CLS] individual species of lice are intensely specialized, largely to avoid grooming and preening behaviors by creatures trying to [MASK] rid of them.. [SEP]\n"
     ]
    },
    {
     "name": "stderr",
     "output_type": "stream",
     "text": [
      "27292it [13:05, 35.88it/s]"
     ]
    },
    {
     "name": "stdout",
     "output_type": "stream",
     "text": [
      "[CLS] many billions of dollars are squandered on the gold - plated united states military as opposed to helping working people who [MASK] taxes. [SEP]\n"
     ]
    },
    {
     "name": "stderr",
     "output_type": "stream",
     "text": [
      "27324it [13:06, 34.74it/s]"
     ]
    },
    {
     "name": "stdout",
     "output_type": "stream",
     "text": [
      "[CLS] to understand the event \" i took a leave of absence from my teaching job. \", it is important to know that teaching jobs can involve a lot of psychological [MASK]. [SEP]\n"
     ]
    },
    {
     "name": "stderr",
     "output_type": "stream",
     "text": [
      "27340it [13:06, 35.48it/s]"
     ]
    },
    {
     "name": "stdout",
     "output_type": "stream",
     "text": [
      "[CLS] sometimes judging someone causes a lot of [MASK]. [SEP]\n"
     ]
    },
    {
     "name": "stderr",
     "output_type": "stream",
     "text": [
      "27452it [13:09, 35.10it/s]"
     ]
    },
    {
     "name": "stdout",
     "output_type": "stream",
     "text": [
      "[CLS] the statement \" memorising is for remembering it later \" helps answer the question \" how do you [MASK] something later? \". [SEP]\n"
     ]
    },
    {
     "name": "stderr",
     "output_type": "stream",
     "text": [
      "27536it [13:12, 34.77it/s]"
     ]
    },
    {
     "name": "stdout",
     "output_type": "stream",
     "text": [
      "[CLS] to understand the event \" many died in the flood. \", it is important to know that [MASK] usually occur from too much rain. [SEP]\n"
     ]
    },
    {
     "name": "stderr",
     "output_type": "stream",
     "text": [
      "27640it [13:14, 36.21it/s]"
     ]
    },
    {
     "name": "stdout",
     "output_type": "stream",
     "text": [
      "[CLS] sometimes smoking causes lung [MASK]. [SEP]\n"
     ]
    },
    {
     "name": "stderr",
     "output_type": "stream",
     "text": [
      "27760it [13:18, 35.31it/s]"
     ]
    },
    {
     "name": "stdout",
     "output_type": "stream",
     "text": [
      "[CLS] sometimes traveling causes [MASK] and panic. [SEP]\n",
      "[CLS] something that might happen as a consequence of running after the ball is tripping and [MASK]. [SEP]\n"
     ]
    },
    {
     "name": "stderr",
     "output_type": "stream",
     "text": [
      "27776it [13:18, 35.54it/s]"
     ]
    },
    {
     "name": "stdout",
     "output_type": "stream",
     "text": [
      "[CLS] typing is a way of printing [MASK] on a page. [SEP]\n"
     ]
    },
    {
     "name": "stderr",
     "output_type": "stream",
     "text": [
      "27856it [13:21, 30.10it/s]"
     ]
    },
    {
     "name": "stdout",
     "output_type": "stream",
     "text": [
      "[CLS] car accidents can be [MASK]. [SEP]\n"
     ]
    },
    {
     "name": "stderr",
     "output_type": "stream",
     "text": [
      "27868it [13:21, 33.51it/s]"
     ]
    },
    {
     "name": "stdout",
     "output_type": "stream",
     "text": [
      "[CLS] another way to say \" some advertisments are lies \" is \" many advertisements of products or services are exaggerated and not [MASK]. \". [SEP]\n"
     ]
    },
    {
     "name": "stderr",
     "output_type": "stream",
     "text": [
      "27936it [13:23, 34.65it/s]"
     ]
    },
    {
     "name": "stdout",
     "output_type": "stream",
     "text": [
      "[CLS] picture description : this is an axe. it is a tool that people have used since ancient times to cut wood and other materials. the axe consists of an wooden handle and a metal tip which is very [MASK]. axes are dangerous because they can hurt people if they are not used carefully. there are other more advanced methods for cutting wood.. [SEP]\n"
     ]
    },
    {
     "name": "stderr",
     "output_type": "stream",
     "text": [
      "27980it [13:24, 35.02it/s]"
     ]
    },
    {
     "name": "stdout",
     "output_type": "stream",
     "text": [
      "[CLS] to understand the event \" sid went to a vegetarian restaurant. the owner spent the whole of the meal telling sid the benefits of vegetarianism. \", it is [MASK] to know that plants grow from the ground. [SEP]\n"
     ]
    },
    {
     "name": "stderr",
     "output_type": "stream",
     "text": [
      "27996it [13:25, 36.20it/s]"
     ]
    },
    {
     "name": "stdout",
     "output_type": "stream",
     "text": [
      "[CLS] the statement \" birds come in many sizes, from very [MASK] to very large \" helps answer the question \" what is a bird? \". [SEP]\n"
     ]
    },
    {
     "name": "stderr",
     "output_type": "stream",
     "text": [
      "28020it [13:25, 35.99it/s]"
     ]
    },
    {
     "name": "stdout",
     "output_type": "stream",
     "text": [
      "[CLS] to understand the event \" the bookstore had a sale. \", it is [MASK] to know that books can contain any written information. [SEP]\n"
     ]
    },
    {
     "name": "stderr",
     "output_type": "stream",
     "text": [
      "28084it [13:27, 34.28it/s]"
     ]
    },
    {
     "name": "stdout",
     "output_type": "stream",
     "text": [
      "[CLS] to understand the event \" it was december 23. mary drove from boston to [MASK] york to see her family. \", it is important to know that mary has a car. [SEP]\n"
     ]
    },
    {
     "name": "stderr",
     "output_type": "stream",
     "text": [
      "28152it [13:29, 32.88it/s]"
     ]
    },
    {
     "name": "stdout",
     "output_type": "stream",
     "text": [
      "[CLS] children are most [MASK] about themselves and the world around them. [SEP]\n"
     ]
    },
    {
     "name": "stderr",
     "output_type": "stream",
     "text": [
      "28172it [13:30, 34.07it/s]"
     ]
    },
    {
     "name": "stdout",
     "output_type": "stream",
     "text": [
      "[CLS] picture description : a famous landmark in a city called paris in a country called france. it is a tower ( the eiffel tower ) made of steel girders bolted together. the photgraph was taken late in the day as the sky is beginning to become [MASK], and the lights on the tower are lit. [SEP]\n"
     ]
    },
    {
     "name": "stderr",
     "output_type": "stream",
     "text": [
      "28212it [13:31, 35.59it/s]"
     ]
    },
    {
     "name": "stdout",
     "output_type": "stream",
     "text": [
      "[CLS] computers can make things more [MASK]. [SEP]\n"
     ]
    },
    {
     "name": "stderr",
     "output_type": "stream",
     "text": [
      "28292it [13:33, 34.84it/s]"
     ]
    },
    {
     "name": "stdout",
     "output_type": "stream",
     "text": [
      "[CLS] to understand the event \" it rarely rains in the desert. jane and randy got caught unexpectedly in a desert rain storm. \", it is important to know that it's very hot and [MASK] in most deserts. [SEP]\n"
     ]
    },
    {
     "name": "stderr",
     "output_type": "stream",
     "text": [
      "28336it [13:34, 34.58it/s]"
     ]
    },
    {
     "name": "stdout",
     "output_type": "stream",
     "text": [
      "[CLS] most dogs are trustworthy and [MASK]. [SEP]\n"
     ]
    },
    {
     "name": "stderr",
     "output_type": "stream",
     "text": [
      "28400it [13:36, 33.40it/s]"
     ]
    },
    {
     "name": "stdout",
     "output_type": "stream",
     "text": [
      "[CLS] the fact \" literature is for reading \" is illustrated with the story : 1. people needs entertainment. 2. reading is one of the traditional leisure activity. 3. reading will keep us informed and wise. 4. it is great [MASK] to read literature, especially those written by great authors like shakespeare. 5. reading literature can teach people about life. [SEP]\n"
     ]
    },
    {
     "name": "stderr",
     "output_type": "stream",
     "text": [
      "28468it [13:38, 34.52it/s]"
     ]
    },
    {
     "name": "stdout",
     "output_type": "stream",
     "text": [
      "[CLS] a flashlight can be [MASK]. [SEP]\n"
     ]
    },
    {
     "name": "stderr",
     "output_type": "stream",
     "text": [
      "28636it [13:43, 35.03it/s]"
     ]
    },
    {
     "name": "stdout",
     "output_type": "stream",
     "text": [
      "[CLS] to understand the event \" roger robbed a liquor store last night. \", it is important to know that liquor is not [MASK] for the health. [SEP]\n"
     ]
    },
    {
     "name": "stderr",
     "output_type": "stream",
     "text": [
      "28780it [13:47, 34.78it/s]"
     ]
    },
    {
     "name": "stdout",
     "output_type": "stream",
     "text": [
      "[CLS] to understand the event \" fred and bill are brothers. fred killed bill. \", it is important to know that killing is morally [MASK]. [SEP]\n"
     ]
    },
    {
     "name": "stderr",
     "output_type": "stream",
     "text": [
      "28892it [13:50, 36.10it/s]"
     ]
    },
    {
     "name": "stdout",
     "output_type": "stream",
     "text": [
      "[CLS] on earth, mankind is far and away the most [MASK] form of life. [SEP]\n"
     ]
    },
    {
     "name": "stderr",
     "output_type": "stream",
     "text": [
      "28900it [13:50, 35.52it/s]"
     ]
    },
    {
     "name": "stdout",
     "output_type": "stream",
     "text": [
      "[CLS] to understand the event \" alfred smoked a joint in the john. \", it is important to know that marijuana is [MASK] in most countries. [SEP]\n"
     ]
    },
    {
     "name": "stderr",
     "output_type": "stream",
     "text": [
      "28980it [13:53, 35.22it/s]"
     ]
    },
    {
     "name": "stdout",
     "output_type": "stream",
     "text": [
      "[CLS] to understand the event \" mario ate a mushroom. \", it is important to know that mushrooms are [MASK]. [SEP]\n"
     ]
    },
    {
     "name": "stderr",
     "output_type": "stream",
     "text": [
      "29212it [13:59, 34.85it/s]"
     ]
    },
    {
     "name": "stdout",
     "output_type": "stream",
     "text": [
      "[CLS] another way to say \" teenagers like to hang out in pizzeria's \" is \" a pizza parlor is [MASK] with teenagers \". [SEP]\n"
     ]
    },
    {
     "name": "stderr",
     "output_type": "stream",
     "text": [
      "29288it [14:01, 36.19it/s]"
     ]
    },
    {
     "name": "stdout",
     "output_type": "stream",
     "text": [
      "[CLS] to understand the event \" i read until quite late last night. \", it is [MASK] to know that when people talk about reading this usually refers to books. [SEP]\n"
     ]
    },
    {
     "name": "stderr",
     "output_type": "stream",
     "text": [
      "29372it [14:04, 34.81it/s]"
     ]
    },
    {
     "name": "stdout",
     "output_type": "stream",
     "text": [
      "[CLS] the statement \" a person wants love, money, sex, a life of ease and comfort and [MASK] weather \" is true because these things are pleasant to the senses and to the emotions. [SEP]\n"
     ]
    },
    {
     "name": "stderr",
     "output_type": "stream",
     "text": [
      "29484it [14:07, 31.91it/s]"
     ]
    },
    {
     "name": "stdout",
     "output_type": "stream",
     "text": [
      "[CLS] to understand the event \" the red wings rule. \", it is important to know that this is [MASK] subjective statement. [SEP]\n"
     ]
    },
    {
     "name": "stderr",
     "output_type": "stream",
     "text": [
      "29556it [14:09, 33.09it/s]"
     ]
    },
    {
     "name": "stdout",
     "output_type": "stream",
     "text": [
      "[CLS] dining room tables can be [MASK], oval or rectangular. [SEP]\n",
      "[CLS] a table is a flat surface raised from the ground or floor by at least one leg at each corner ; tables are usually [MASK] or rectangular. [SEP]\n"
     ]
    },
    {
     "name": "stderr",
     "output_type": "stream",
     "text": [
      "29648it [14:12, 34.85it/s]"
     ]
    },
    {
     "name": "stdout",
     "output_type": "stream",
     "text": [
      "[CLS] similarity between a trumpet and a rock : are [MASK], not gas or liquid. [SEP]\n"
     ]
    },
    {
     "name": "stderr",
     "output_type": "stream",
     "text": [
      "29720it [14:14, 34.53it/s]"
     ]
    },
    {
     "name": "stdout",
     "output_type": "stream",
     "text": [
      "[CLS] cold water is [MASK] and relaxing. [SEP]\n"
     ]
    },
    {
     "name": "stderr",
     "output_type": "stream",
     "text": [
      "29774it [14:15, 34.78it/s]\n"
     ]
    }
   ],
   "source": [
    "# STATS\n",
    "# COUNT HITS WITH MASK REPLACED WITH CAT\n",
    "h1 = 0\n",
    "h2 = 0\n",
    "h5 = 0\n",
    "h10 = 0\n",
    "h20 = 0\n",
    "h50 = 0\n",
    "h100 = 0\n",
    "total = 0\n",
    "with pt.no_grad():\n",
    "    for tk, target, ans in tqdm.tqdm(zip(data_tks, data_tks_targets, correct_ans_tks)):\n",
    "        tkm = tk.copy()\n",
    "        tkm[target] = cat_tk_id\n",
    "        ranks = ((-bert(pt.tensor(tkm).unsqueeze(0))[0][0, target]).argsort())\n",
    "        top_ranks = ranks[:100]\n",
    "        total += 1\n",
    "        try:\n",
    "            idx = list(top_ranks).index(ans)\n",
    "        except:\n",
    "            continue\n",
    "        if 1 > idx:\n",
    "            h1 += 1\n",
    "            print(tkr.decode(tk))\n",
    "        if 2 > idx:\n",
    "            h2 += 1\n",
    "        if 5 > idx:\n",
    "            h5 += 1\n",
    "        if 10 > idx:\n",
    "            h10 += 1\n",
    "        if 20 > idx:\n",
    "            h20 += 1\n",
    "        if 50 > idx:\n",
    "            h50 += 1\n",
    "        h100 += 1"
   ]
  },
  {
   "cell_type": "code",
   "execution_count": 25,
   "metadata": {},
   "outputs": [
    {
     "name": "stdout",
     "output_type": "stream",
     "text": [
      "H@1: 702\n",
      "H@2: 1373\n",
      "H@5: 2583\n",
      "H@10: 3566\n",
      "H@20: 4722\n",
      "H@50: 6620\n",
      "H@100: 8470\n",
      "Total: 29774\n"
     ]
    }
   ],
   "source": [
    "print(f\"\"\"H@1: {h1}\n",
    "H@2: {h2}\n",
    "H@5: {h5}\n",
    "H@10: {h10}\n",
    "H@20: {h20}\n",
    "H@50: {h50}\n",
    "H@100: {h100}\n",
    "Total: {total}\"\"\")"
   ]
  },
  {
   "cell_type": "code",
   "execution_count": 26,
   "metadata": {},
   "outputs": [
    {
     "name": "stderr",
     "output_type": "stream",
     "text": [
      "29774it [14:19, 34.64it/s]\n"
     ]
    }
   ],
   "source": [
    "# STATS\n",
    "# COUNT HITS WITH MASK REPLACED WITH RANDOM\n",
    "h1 = 0\n",
    "h2 = 0\n",
    "h5 = 0\n",
    "h10 = 0\n",
    "h20 = 0\n",
    "h50 = 0\n",
    "h100 = 0\n",
    "total = 0\n",
    "with pt.no_grad():\n",
    "    for tk, target, ans in tqdm.tqdm(zip(data_tks, data_tks_targets, correct_ans_tks)):\n",
    "        tkm = tk.copy()\n",
    "        tkm[target] = np.random.choice(tkr.vocab_size)\n",
    "        ranks = ((-bert(pt.tensor(tkm).unsqueeze(0))[0][0, target]).argsort())\n",
    "        top_ranks = ranks[:100]\n",
    "        total += 1\n",
    "        try:\n",
    "            idx = list(top_ranks).index(ans)\n",
    "        except:\n",
    "            continue\n",
    "        if 1 > idx:\n",
    "            h1 += 1\n",
    "        if 2 > idx:\n",
    "            h2 += 1\n",
    "        if 5 > idx:\n",
    "            h5 += 1\n",
    "        if 10 > idx:\n",
    "            h10 += 1\n",
    "        if 20 > idx:\n",
    "            h20 += 1\n",
    "        if 50 > idx:\n",
    "            h50 += 1\n",
    "        h100 += 1"
   ]
  },
  {
   "cell_type": "code",
   "execution_count": 27,
   "metadata": {},
   "outputs": [
    {
     "name": "stdout",
     "output_type": "stream",
     "text": [
      "H@1: 1054\n",
      "H@2: 1722\n",
      "H@5: 2793\n",
      "H@10: 3685\n",
      "H@20: 4749\n",
      "H@50: 6532\n",
      "H@100: 8195\n",
      "Total: 29774\n"
     ]
    }
   ],
   "source": [
    "print(f\"\"\"H@1: {h1}\n",
    "H@2: {h2}\n",
    "H@5: {h5}\n",
    "H@10: {h10}\n",
    "H@20: {h20}\n",
    "H@50: {h50}\n",
    "H@100: {h100}\n",
    "Total: {total}\"\"\")"
   ]
  },
  {
   "cell_type": "code",
   "execution_count": 28,
   "metadata": {},
   "outputs": [
    {
     "data": {
      "text/plain": [
       "2300"
      ]
     },
     "execution_count": 28,
     "metadata": {},
     "output_type": "execute_result"
    }
   ],
   "source": [
    "water_tk_id = tkr.convert_tokens_to_ids(['water'])[0]\n",
    "water_tk_id"
   ]
  },
  {
   "cell_type": "code",
   "execution_count": 29,
   "metadata": {},
   "outputs": [
    {
     "name": "stderr",
     "output_type": "stream",
     "text": [
      "29774it [14:22, 34.51it/s]\n"
     ]
    }
   ],
   "source": [
    "# STATS\n",
    "# COUNT HITS WITH MASK REPLACED WITH WATER\n",
    "h1 = 0\n",
    "h2 = 0\n",
    "h5 = 0\n",
    "h10 = 0\n",
    "h20 = 0\n",
    "h50 = 0\n",
    "h100 = 0\n",
    "total = 0\n",
    "with pt.no_grad():\n",
    "    for tk, target, ans in tqdm.tqdm(zip(data_tks, data_tks_targets, correct_ans_tks)):\n",
    "        tkm = tk.copy()\n",
    "        tkm[target] = water_tk_id\n",
    "        ranks = ((-bert(pt.tensor(tkm).unsqueeze(0))[0][0, target]).argsort())\n",
    "        top_ranks = ranks[:100]\n",
    "        total += 1\n",
    "        try:\n",
    "            idx = list(top_ranks).index(ans)\n",
    "        except:\n",
    "            continue\n",
    "        if 1 > idx:\n",
    "            h1 += 1\n",
    "        if 2 > idx:\n",
    "            h2 += 1\n",
    "        if 5 > idx:\n",
    "            h5 += 1\n",
    "        if 10 > idx:\n",
    "            h10 += 1\n",
    "        if 20 > idx:\n",
    "            h20 += 1\n",
    "        if 50 > idx:\n",
    "            h50 += 1\n",
    "        h100 += 1"
   ]
  },
  {
   "cell_type": "code",
   "execution_count": 30,
   "metadata": {},
   "outputs": [
    {
     "name": "stdout",
     "output_type": "stream",
     "text": [
      "H@1: 439\n",
      "H@2: 1208\n",
      "H@5: 2445\n",
      "H@10: 3520\n",
      "H@20: 4768\n",
      "H@50: 6819\n",
      "H@100: 8851\n",
      "Total: 29774\n"
     ]
    }
   ],
   "source": [
    "print(f\"\"\"H@1: {h1}\n",
    "H@2: {h2}\n",
    "H@5: {h5}\n",
    "H@10: {h10}\n",
    "H@20: {h20}\n",
    "H@50: {h50}\n",
    "H@100: {h100}\n",
    "Total: {total}\"\"\")"
   ]
  },
  {
   "cell_type": "code",
   "execution_count": 31,
   "metadata": {},
   "outputs": [
    {
     "data": {
      "text/plain": [
       "2028"
      ]
     },
     "execution_count": 31,
     "metadata": {},
     "output_type": "execute_result"
    }
   ],
   "source": [
    "one_tk_id = tkr.convert_tokens_to_ids(['one'])[0]\n",
    "one_tk_id"
   ]
  },
  {
   "cell_type": "code",
   "execution_count": 32,
   "metadata": {},
   "outputs": [
    {
     "name": "stderr",
     "output_type": "stream",
     "text": [
      "29774it [14:22, 34.51it/s]\n"
     ]
    }
   ],
   "source": [
    "# STATS\n",
    "# COUNT HITS WITH MASK REPLACED WITH ONE\n",
    "h1 = 0\n",
    "h2 = 0\n",
    "h5 = 0\n",
    "h10 = 0\n",
    "h20 = 0\n",
    "h50 = 0\n",
    "h100 = 0\n",
    "total = 0\n",
    "with pt.no_grad():\n",
    "    for tk, target, ans in tqdm.tqdm(zip(data_tks, data_tks_targets, correct_ans_tks)):\n",
    "        tkm = tk.copy()\n",
    "        tkm[target] = one_tk_id\n",
    "        ranks = ((-bert(pt.tensor(tkm).unsqueeze(0))[0][0, target]).argsort())\n",
    "        top_ranks = ranks[:100]\n",
    "        total += 1\n",
    "        try:\n",
    "            idx = list(top_ranks).index(ans)\n",
    "        except:\n",
    "            continue\n",
    "        if 1 > idx:\n",
    "            h1 += 1\n",
    "        if 2 > idx:\n",
    "            h2 += 1\n",
    "        if 5 > idx:\n",
    "            h5 += 1\n",
    "        if 10 > idx:\n",
    "            h10 += 1\n",
    "        if 20 > idx:\n",
    "            h20 += 1\n",
    "        if 50 > idx:\n",
    "            h50 += 1\n",
    "        h100 += 1"
   ]
  },
  {
   "cell_type": "code",
   "execution_count": 33,
   "metadata": {},
   "outputs": [
    {
     "name": "stdout",
     "output_type": "stream",
     "text": [
      "H@1: 530\n",
      "H@2: 1227\n",
      "H@5: 2425\n",
      "H@10: 3427\n",
      "H@20: 4638\n",
      "H@50: 6532\n",
      "H@100: 8359\n",
      "Total: 29774\n"
     ]
    }
   ],
   "source": [
    "print(f\"\"\"H@1: {h1}\n",
    "H@2: {h2}\n",
    "H@5: {h5}\n",
    "H@10: {h10}\n",
    "H@20: {h20}\n",
    "H@50: {h50}\n",
    "H@100: {h100}\n",
    "Total: {total}\"\"\")"
   ]
  },
  {
   "cell_type": "code",
   "execution_count": 34,
   "metadata": {},
   "outputs": [],
   "source": [
    "dot_tk_id = tkr.convert_tokens_to_ids(['.'])[0]"
   ]
  },
  {
   "cell_type": "code",
   "execution_count": 35,
   "metadata": {},
   "outputs": [
    {
     "name": "stderr",
     "output_type": "stream",
     "text": [
      "29774it [14:04, 35.25it/s]\n"
     ]
    }
   ],
   "source": [
    "# STATS\n",
    "# COUNT HITS WITH LAST DOT REMOVED\n",
    "h1 = 0\n",
    "h2 = 0\n",
    "h5 = 0\n",
    "h10 = 0\n",
    "h20 = 0\n",
    "h50 = 0\n",
    "h100 = 0\n",
    "total = 0\n",
    "with pt.no_grad():\n",
    "    for tk, target, ans in tqdm.tqdm(zip(data_tks, data_tks_targets, correct_ans_tks)):\n",
    "        \n",
    "        tkm = tk.copy()\n",
    "        if (tkm[-2] == dot_tk_id):\n",
    "            del(tkm[-2])\n",
    "        else:\n",
    "            continue\n",
    "        total += 1\n",
    "        ranks = ((-bert(pt.tensor(tkm).unsqueeze(0))[0][0, target]).argsort())\n",
    "        top_ranks = ranks[:100]\n",
    "        try:\n",
    "            idx = list(top_ranks).index(ans)\n",
    "        except:\n",
    "            continue\n",
    "        if 1 > idx:\n",
    "            h1 += 1\n",
    "        if 2 > idx:\n",
    "            h2 += 1\n",
    "        if 5 > idx:\n",
    "            h5 += 1\n",
    "        if 10 > idx:\n",
    "            h10 += 1\n",
    "        if 20 > idx:\n",
    "            h20 += 1\n",
    "        if 50 > idx:\n",
    "            h50 += 1\n",
    "        h100 += 1"
   ]
  },
  {
   "cell_type": "code",
   "execution_count": 36,
   "metadata": {},
   "outputs": [
    {
     "name": "stdout",
     "output_type": "stream",
     "text": [
      "H@1: 2350\n",
      "H@2: 3327\n",
      "H@5: 4588\n",
      "H@10: 6120\n",
      "H@20: 8798\n",
      "H@50: 12500\n",
      "H@100: 14820\n",
      "Total: 29714\n"
     ]
    }
   ],
   "source": [
    "print(f\"\"\"H@1: {h1}\n",
    "H@2: {h2}\n",
    "H@5: {h5}\n",
    "H@10: {h10}\n",
    "H@20: {h20}\n",
    "H@50: {h50}\n",
    "H@100: {h100}\n",
    "Total: {total}\"\"\")"
   ]
  },
  {
   "cell_type": "code",
   "execution_count": 37,
   "metadata": {},
   "outputs": [
    {
     "name": "stderr",
     "output_type": "stream",
     "text": [
      "29774it [08:34, 57.87it/s]\n"
     ]
    }
   ],
   "source": [
    "# STATS\n",
    "# COUNT HITS WITH LAST DOT REMOVED AND MASK IS SECOND TO LAST\n",
    "h1 = 0\n",
    "h2 = 0\n",
    "h5 = 0\n",
    "h10 = 0\n",
    "h20 = 0\n",
    "h50 = 0\n",
    "h100 = 0\n",
    "total = 0\n",
    "with pt.no_grad():\n",
    "    for tk, target, ans in tqdm.tqdm(zip(data_tks, data_tks_targets, correct_ans_tks)):\n",
    "        \n",
    "        tkm = tk.copy()\n",
    "        if (tkm[-2] == dot_tk_id and tkm[-3] == tkr.mask_token_id):\n",
    "            del(tkm[-2])\n",
    "        else:\n",
    "            continue\n",
    "        total += 1\n",
    "        ranks = ((-bert(pt.tensor(tkm).unsqueeze(0))[0][0, target]).argsort())\n",
    "        top_ranks = ranks[:100]\n",
    "        try:\n",
    "            idx = list(top_ranks).index(ans)\n",
    "        except:\n",
    "            continue\n",
    "        if 1 > idx:\n",
    "            h1 += 1\n",
    "        if 2 > idx:\n",
    "            h2 += 1\n",
    "        if 5 > idx:\n",
    "            h5 += 1\n",
    "        if 10 > idx:\n",
    "            h10 += 1\n",
    "        if 20 > idx:\n",
    "            h20 += 1\n",
    "        if 50 > idx:\n",
    "            h50 += 1\n",
    "        h100 += 1"
   ]
  },
  {
   "cell_type": "code",
   "execution_count": 38,
   "metadata": {},
   "outputs": [
    {
     "name": "stdout",
     "output_type": "stream",
     "text": [
      "H@1: 6\n",
      "H@2: 22\n",
      "H@5: 111\n",
      "H@10: 766\n",
      "H@20: 2606\n",
      "H@50: 5214\n",
      "H@100: 6806\n",
      "Total: 18780\n"
     ]
    }
   ],
   "source": [
    "print(f\"\"\"H@1: {h1}\n",
    "H@2: {h2}\n",
    "H@5: {h5}\n",
    "H@10: {h10}\n",
    "H@20: {h20}\n",
    "H@50: {h50}\n",
    "H@100: {h100}\n",
    "Total: {total}\"\"\")"
   ]
  },
  {
   "cell_type": "code",
   "execution_count": 39,
   "metadata": {},
   "outputs": [
    {
     "name": "stderr",
     "output_type": "stream",
     "text": [
      "29774it [44:10, 11.23it/s] \n"
     ]
    }
   ],
   "source": [
    "# STATS\n",
    "# COUNT HITS WITH LAST DOT REMOVED AND MASK IS SECOND TO LAST\n",
    "h1 = 0\n",
    "h2 = 0\n",
    "h5 = 0\n",
    "h10 = 0\n",
    "h20 = 0\n",
    "h50 = 0\n",
    "h100 = 0\n",
    "total = 0\n",
    "with pt.no_grad():\n",
    "    for tk, target, ans in tqdm.tqdm(zip(data_tks, data_tks_targets, correct_ans_tks)):\n",
    "        \n",
    "        tkm = tk.copy()\n",
    "        if (tkm[-1] == tkr.sep_token_id and tkm[-3] == tkr.mask_token_id):\n",
    "            del(tkm[-1])\n",
    "        else:\n",
    "            continue\n",
    "        total += 1\n",
    "        ranks = ((-bert(pt.tensor(tkm).unsqueeze(0))[0][0, target]).argsort())\n",
    "        top_ranks = ranks[:100]\n",
    "        try:\n",
    "            idx = list(top_ranks).index(ans)\n",
    "        except:\n",
    "            continue\n",
    "        if 1 > idx:\n",
    "            h1 += 1\n",
    "        if 2 > idx:\n",
    "            h2 += 1\n",
    "        if 5 > idx:\n",
    "            h5 += 1\n",
    "        if 10 > idx:\n",
    "            h10 += 1\n",
    "        if 20 > idx:\n",
    "            h20 += 1\n",
    "        if 50 > idx:\n",
    "            h50 += 1\n",
    "        h100 += 1"
   ]
  },
  {
   "cell_type": "code",
   "execution_count": 40,
   "metadata": {},
   "outputs": [
    {
     "name": "stdout",
     "output_type": "stream",
     "text": [
      "H@1: 52\n",
      "H@2: 175\n",
      "H@5: 387\n",
      "H@10: 608\n",
      "H@20: 922\n",
      "H@50: 1609\n",
      "H@100: 2773\n",
      "Total: 18796\n"
     ]
    }
   ],
   "source": [
    "print(f\"\"\"H@1: {h1}\n",
    "H@2: {h2}\n",
    "H@5: {h5}\n",
    "H@10: {h10}\n",
    "H@20: {h20}\n",
    "H@50: {h50}\n",
    "H@100: {h100}\n",
    "Total: {total}\"\"\")"
   ]
  },
  {
   "cell_type": "code",
   "execution_count": 41,
   "metadata": {},
   "outputs": [
    {
     "name": "stderr",
     "output_type": "stream",
     "text": [
      "29774it [09:25, 52.64it/s]\n"
     ]
    }
   ],
   "source": [
    "# STATS\n",
    "# COUNT ORIGINAL HITS\n",
    "h1 = 0\n",
    "h2 = 0\n",
    "h5 = 0\n",
    "h10 = 0\n",
    "h20 = 0\n",
    "h50 = 0\n",
    "h100 = 0\n",
    "total = 0\n",
    "with pt.no_grad():\n",
    "    for tk, target, ans in tqdm.tqdm(zip(data_tks, data_tks_targets, correct_ans_tks)):\n",
    "        tkm = tk.copy()\n",
    "        if (tkm[-3] != tkr.mask_token_id):\n",
    "            continue\n",
    "        \n",
    "        total += 1\n",
    "        ranks = ((-bert(pt.tensor(tkm).unsqueeze(0))[0][0, target]).argsort())\n",
    "        top_ranks = ranks[:100]\n",
    "        try:\n",
    "            idx = list(top_ranks).index(ans)\n",
    "        except:\n",
    "            continue\n",
    "        if 1 > idx:\n",
    "            h1 += 1\n",
    "        if 2 > idx:\n",
    "            h2 += 1\n",
    "        if 5 > idx:\n",
    "            h5 += 1\n",
    "        if 10 > idx:\n",
    "            h10 += 1\n",
    "        if 20 > idx:\n",
    "            h20 += 1\n",
    "        if 50 > idx:\n",
    "            h50 += 1\n",
    "        h100 += 1"
   ]
  },
  {
   "cell_type": "code",
   "execution_count": 42,
   "metadata": {},
   "outputs": [
    {
     "name": "stdout",
     "output_type": "stream",
     "text": [
      "H@1: 1216\n",
      "H@2: 1822\n",
      "H@5: 2934\n",
      "H@10: 3839\n",
      "H@20: 4753\n",
      "H@50: 6387\n",
      "H@100: 7697\n",
      "Total: 18796\n"
     ]
    }
   ],
   "source": [
    "print(f\"\"\"H@1: {h1}\n",
    "H@2: {h2}\n",
    "H@5: {h5}\n",
    "H@10: {h10}\n",
    "H@20: {h20}\n",
    "H@50: {h50}\n",
    "H@100: {h100}\n",
    "Total: {total}\"\"\")"
   ]
  }
 ],
 "metadata": {
  "kernelspec": {
   "display_name": "Python 3",
   "language": "python",
   "name": "python3"
  },
  "language_info": {
   "codemirror_mode": {
    "name": "ipython",
    "version": 3
   },
   "file_extension": ".py",
   "mimetype": "text/x-python",
   "name": "python",
   "nbconvert_exporter": "python",
   "pygments_lexer": "ipython3",
   "version": "3.6.9"
  }
 },
 "nbformat": 4,
 "nbformat_minor": 2
}
