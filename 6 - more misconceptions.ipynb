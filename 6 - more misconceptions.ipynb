{
 "cells": [
  {
   "cell_type": "code",
   "execution_count": 0,
   "metadata": {
    "colab": {
     "base_uri": "https://localhost:8080/",
     "height": 592
    },
    "colab_type": "code",
    "id": "NWyi14kt4YGw",
    "outputId": "587cc661-ab82-41d8-c858-c66365a0a404"
   },
   "outputs": [
    {
     "name": "stdout",
     "output_type": "stream",
     "text": [
      "Collecting transformers\n",
      "\u001b[?25l  Downloading https://files.pythonhosted.org/packages/cd/38/c9527aa055241c66c4d785381eaf6f80a28c224cae97daa1f8b183b5fabb/transformers-2.9.0-py3-none-any.whl (635kB)\n",
      "\u001b[K     |████████████████████████████████| 645kB 8.3MB/s \n",
      "\u001b[?25hRequirement already satisfied: dataclasses; python_version < \"3.7\" in /usr/local/lib/python3.6/dist-packages (from transformers) (0.7)\n",
      "Requirement already satisfied: requests in /usr/local/lib/python3.6/dist-packages (from transformers) (2.23.0)\n",
      "Collecting sacremoses\n",
      "\u001b[?25l  Downloading https://files.pythonhosted.org/packages/7d/34/09d19aff26edcc8eb2a01bed8e98f13a1537005d31e95233fd48216eed10/sacremoses-0.0.43.tar.gz (883kB)\n",
      "\u001b[K     |████████████████████████████████| 890kB 22.9MB/s \n",
      "\u001b[?25hRequirement already satisfied: filelock in /usr/local/lib/python3.6/dist-packages (from transformers) (3.0.12)\n",
      "Requirement already satisfied: numpy in /usr/local/lib/python3.6/dist-packages (from transformers) (1.18.4)\n",
      "Requirement already satisfied: tqdm>=4.27 in /usr/local/lib/python3.6/dist-packages (from transformers) (4.41.1)\n",
      "Collecting sentencepiece\n",
      "\u001b[?25l  Downloading https://files.pythonhosted.org/packages/98/2c/8df20f3ac6c22ac224fff307ebc102818206c53fc454ecd37d8ac2060df5/sentencepiece-0.1.86-cp36-cp36m-manylinux1_x86_64.whl (1.0MB)\n",
      "\u001b[K     |████████████████████████████████| 1.0MB 45.6MB/s \n",
      "\u001b[?25hCollecting tokenizers==0.7.0\n",
      "\u001b[?25l  Downloading https://files.pythonhosted.org/packages/14/e5/a26eb4716523808bb0a799fcfdceb6ebf77a18169d9591b2f46a9adb87d9/tokenizers-0.7.0-cp36-cp36m-manylinux1_x86_64.whl (3.8MB)\n",
      "\u001b[K     |████████████████████████████████| 3.8MB 45.1MB/s \n",
      "\u001b[?25hRequirement already satisfied: regex!=2019.12.17 in /usr/local/lib/python3.6/dist-packages (from transformers) (2019.12.20)\n",
      "Requirement already satisfied: urllib3!=1.25.0,!=1.25.1,<1.26,>=1.21.1 in /usr/local/lib/python3.6/dist-packages (from requests->transformers) (1.24.3)\n",
      "Requirement already satisfied: idna<3,>=2.5 in /usr/local/lib/python3.6/dist-packages (from requests->transformers) (2.9)\n",
      "Requirement already satisfied: chardet<4,>=3.0.2 in /usr/local/lib/python3.6/dist-packages (from requests->transformers) (3.0.4)\n",
      "Requirement already satisfied: certifi>=2017.4.17 in /usr/local/lib/python3.6/dist-packages (from requests->transformers) (2020.4.5.1)\n",
      "Requirement already satisfied: six in /usr/local/lib/python3.6/dist-packages (from sacremoses->transformers) (1.12.0)\n",
      "Requirement already satisfied: click in /usr/local/lib/python3.6/dist-packages (from sacremoses->transformers) (7.1.2)\n",
      "Requirement already satisfied: joblib in /usr/local/lib/python3.6/dist-packages (from sacremoses->transformers) (0.14.1)\n",
      "Building wheels for collected packages: sacremoses\n",
      "  Building wheel for sacremoses (setup.py) ... \u001b[?25l\u001b[?25hdone\n",
      "  Created wheel for sacremoses: filename=sacremoses-0.0.43-cp36-none-any.whl size=893260 sha256=052b213400ef5e914c6326f863b75b2621d861b6ce57b5123c3c2c067110fa31\n",
      "  Stored in directory: /root/.cache/pip/wheels/29/3c/fd/7ce5c3f0666dab31a50123635e6fb5e19ceb42ce38d4e58f45\n",
      "Successfully built sacremoses\n",
      "Installing collected packages: sacremoses, sentencepiece, tokenizers, transformers\n",
      "Successfully installed sacremoses-0.0.43 sentencepiece-0.1.86 tokenizers-0.7.0 transformers-2.9.0\n"
     ]
    }
   ],
   "source": [
    "!pip install transformers"
   ]
  },
  {
   "cell_type": "code",
   "execution_count": 0,
   "metadata": {
    "colab": {
     "base_uri": "https://localhost:8080/",
     "height": 72
    },
    "colab_type": "code",
    "id": "rE86Xahi3BnS",
    "outputId": "5af63aad-4f60-4055-ca28-98d90ce96edc"
   },
   "outputs": [
    {
     "name": "stderr",
     "output_type": "stream",
     "text": [
      "/usr/local/lib/python3.6/dist-packages/statsmodels/tools/_testing.py:19: FutureWarning: pandas.util.testing is deprecated. Use the functions in the public API at pandas.testing instead.\n",
      "  import pandas.util.testing as tm\n"
     ]
    }
   ],
   "source": [
    "import transformers as trf\n",
    "import torch as pt\n",
    "import numpy as np\n",
    "\n",
    "import matplotlib.pyplot as plt\n",
    "from collections import OrderedDict\n",
    "import seaborn as sns\n",
    "import json\n",
    "import tqdm\n",
    "\n",
    "import pandas as pd\n",
    "\n",
    "from scipy.stats import spearmanr as Sr"
   ]
  },
  {
   "cell_type": "code",
   "execution_count": 0,
   "metadata": {
    "colab": {},
    "colab_type": "code",
    "id": "eybCPBcM3BnW"
   },
   "outputs": [],
   "source": [
    "data = pd.read_csv('misconception_data.txt', sep=';', header=None)"
   ]
  },
  {
   "cell_type": "code",
   "execution_count": 0,
   "metadata": {
    "colab": {
     "base_uri": "https://localhost:8080/",
     "height": 416
    },
    "colab_type": "code",
    "id": "sZicAF413BnY",
    "outputId": "ef45a91f-fdd8-4796-ef5e-fbefa3298f49"
   },
   "outputs": [
    {
     "data": {
      "text/html": [
       "<div>\n",
       "<style scoped>\n",
       "    .dataframe tbody tr th:only-of-type {\n",
       "        vertical-align: middle;\n",
       "    }\n",
       "\n",
       "    .dataframe tbody tr th {\n",
       "        vertical-align: top;\n",
       "    }\n",
       "\n",
       "    .dataframe thead th {\n",
       "        text-align: right;\n",
       "    }\n",
       "</style>\n",
       "<table border=\"1\" class=\"dataframe\">\n",
       "  <thead>\n",
       "    <tr style=\"text-align: right;\">\n",
       "      <th></th>\n",
       "      <th>0</th>\n",
       "      <th>1</th>\n",
       "      <th>2</th>\n",
       "      <th>3</th>\n",
       "      <th>4</th>\n",
       "      <th>5</th>\n",
       "    </tr>\n",
       "  </thead>\n",
       "  <tbody>\n",
       "    <tr>\n",
       "      <th>0</th>\n",
       "      <td>There are [MASK] taste groups a human tongue c...</td>\n",
       "      <td>four</td>\n",
       "      <td>two</td>\n",
       "      <td>three</td>\n",
       "      <td>many</td>\n",
       "      <td>many</td>\n",
       "    </tr>\n",
       "    <tr>\n",
       "      <th>1</th>\n",
       "      <td>Mental abilities are [MASK] separated into the...</td>\n",
       "      <td>absolutely</td>\n",
       "      <td>clearly</td>\n",
       "      <td>generally</td>\n",
       "      <td>loosely</td>\n",
       "      <td>loosely</td>\n",
       "    </tr>\n",
       "    <tr>\n",
       "      <th>2</th>\n",
       "      <td>Drinking eight glasses of water a day is [MASK...</td>\n",
       "      <td>necessary</td>\n",
       "      <td>mandatory</td>\n",
       "      <td>must</td>\n",
       "      <td>recommended</td>\n",
       "      <td>recommended</td>\n",
       "    </tr>\n",
       "    <tr>\n",
       "      <th>3</th>\n",
       "      <td>Chewing gum is [MASK] indigestible and passes ...</td>\n",
       "      <td>not</td>\n",
       "      <td>never</td>\n",
       "      <td>no</td>\n",
       "      <td>mostly</td>\n",
       "      <td>mostly</td>\n",
       "    </tr>\n",
       "    <tr>\n",
       "      <th>4</th>\n",
       "      <td>Vaccines [MASK] cause autism.</td>\n",
       "      <td>can</td>\n",
       "      <td>often</td>\n",
       "      <td>mostly</td>\n",
       "      <td>cannot</td>\n",
       "      <td>cannot</td>\n",
       "    </tr>\n",
       "    <tr>\n",
       "      <th>...</th>\n",
       "      <td>...</td>\n",
       "      <td>...</td>\n",
       "      <td>...</td>\n",
       "      <td>...</td>\n",
       "      <td>...</td>\n",
       "      <td>...</td>\n",
       "    </tr>\n",
       "    <tr>\n",
       "      <th>104</th>\n",
       "      <td>There is [MASK] universal sign language.</td>\n",
       "      <td>one</td>\n",
       "      <td>only</td>\n",
       "      <td>deaf</td>\n",
       "      <td>no</td>\n",
       "      <td>no</td>\n",
       "    </tr>\n",
       "    <tr>\n",
       "      <th>105</th>\n",
       "      <td>The light bulb was [MASK] invented by Thomas E...</td>\n",
       "      <td>first</td>\n",
       "      <td>original</td>\n",
       "      <td>science</td>\n",
       "      <td>not</td>\n",
       "      <td>not</td>\n",
       "    </tr>\n",
       "    <tr>\n",
       "      <th>106</th>\n",
       "      <td>It is [MASK] that Henry Ford invented the auto...</td>\n",
       "      <td>true</td>\n",
       "      <td>certain</td>\n",
       "      <td>possible</td>\n",
       "      <td>false</td>\n",
       "      <td>false</td>\n",
       "    </tr>\n",
       "    <tr>\n",
       "      <th>107</th>\n",
       "      <td>As 30% of people don't wash their hands, door ...</td>\n",
       "      <td>more</td>\n",
       "      <td>most</td>\n",
       "      <td>ill</td>\n",
       "      <td>fewer</td>\n",
       "      <td>fewer</td>\n",
       "    </tr>\n",
       "    <tr>\n",
       "      <th>108</th>\n",
       "      <td>It is [MASK] that the word theory in \"theory o...</td>\n",
       "      <td>true</td>\n",
       "      <td>obvious</td>\n",
       "      <td>sure</td>\n",
       "      <td>false</td>\n",
       "      <td>false</td>\n",
       "    </tr>\n",
       "  </tbody>\n",
       "</table>\n",
       "<p>109 rows × 6 columns</p>\n",
       "</div>"
      ],
      "text/plain": [
       "                                                     0  ...            5\n",
       "0    There are [MASK] taste groups a human tongue c...  ...         many\n",
       "1    Mental abilities are [MASK] separated into the...  ...      loosely\n",
       "2    Drinking eight glasses of water a day is [MASK...  ...  recommended\n",
       "3    Chewing gum is [MASK] indigestible and passes ...  ...       mostly\n",
       "4                        Vaccines [MASK] cause autism.  ...       cannot\n",
       "..                                                 ...  ...          ...\n",
       "104           There is [MASK] universal sign language.  ...           no\n",
       "105  The light bulb was [MASK] invented by Thomas E...  ...          not\n",
       "106  It is [MASK] that Henry Ford invented the auto...  ...        false\n",
       "107  As 30% of people don't wash their hands, door ...  ...        fewer\n",
       "108  It is [MASK] that the word theory in \"theory o...  ...        false\n",
       "\n",
       "[109 rows x 6 columns]"
      ]
     },
     "execution_count": 14,
     "metadata": {
      "tags": []
     },
     "output_type": "execute_result"
    }
   ],
   "source": [
    "data"
   ]
  },
  {
   "cell_type": "code",
   "execution_count": 0,
   "metadata": {
    "colab": {},
    "colab_type": "code",
    "id": "cHz9IU7IKkVP"
   },
   "outputs": [],
   "source": [
    "def check_if_singles(first_ans, second_ans, third_ans, fourth_ans, true_ans):\n",
    "  i = 1\n",
    "  good = True\n",
    "  for t in zip(first_ans, second_ans, third_ans, fourth_ans, true_ans):\n",
    "    if any(len(x) > 1 for x in t):\n",
    "      print(i)\n",
    "      print(t)\n",
    "      good = False\n",
    "    \n",
    "    i += 1\n",
    "  return good"
   ]
  },
  {
   "cell_type": "code",
   "execution_count": 0,
   "metadata": {
    "colab": {},
    "colab_type": "code",
    "id": "gEBMWjdWKHgi"
   },
   "outputs": [],
   "source": [
    "def encode_answers(data, tkr):\n",
    "  first_ans = list(map(lambda s: tkr.encode(s)[1:-1], data[1]))\n",
    "  second_ans = list(map(lambda s: tkr.encode(s)[1:-1], data[2]))\n",
    "  third_ans = list(map(lambda s: tkr.encode(s)[1:-1], data[3]))\n",
    "  fourth_ans = list(map(lambda s: tkr.encode(s)[1:-1], data[4]))\n",
    "  true_ans = list(map(lambda s: tkr.encode(s)[1:-1], data[5]))\n",
    "  good = check_if_singles(first_ans, second_ans, \n",
    "                          third_ans, fourth_ans, true_ans)\n",
    "  if not good:\n",
    "    print(\"Some answers are not single tokens\")\n",
    "  return first_ans, second_ans, third_ans, fourth_ans, true_ans"
   ]
  },
  {
   "cell_type": "code",
   "execution_count": 0,
   "metadata": {
    "colab": {},
    "colab_type": "code",
    "id": "H_8-b1IF3Bnf"
   },
   "outputs": [],
   "source": []
  },
  {
   "cell_type": "code",
   "execution_count": 0,
   "metadata": {
    "colab": {},
    "colab_type": "code",
    "id": "9-mdtYF9LAJ2"
   },
   "outputs": [],
   "source": []
  },
  {
   "cell_type": "code",
   "execution_count": 0,
   "metadata": {
    "colab": {
     "base_uri": "https://localhost:8080/",
     "height": 34
    },
    "colab_type": "code",
    "id": "akGsZRVh3Bnk",
    "outputId": "42c46b8a-1b25-457f-b068-fb4c69213910"
   },
   "outputs": [
    {
     "data": {
      "text/plain": [
       "'for i, t in enumerate(first_ans):\\n  print(i, \"  \", t)'"
      ]
     },
     "execution_count": 8,
     "metadata": {
      "tags": []
     },
     "output_type": "execute_result"
    }
   ],
   "source": [
    "#first_ans = list(map(lambda s: tkr.encode(s)[1:-1], data[1]))\n",
    "\"\"\"for i, t in enumerate(first_ans):\n",
    "  print(i, \"  \", t)\"\"\"\n",
    "#second_ans = list(map(lambda s: tkr.encode(s)[1:-1], data[2]))\n",
    "#for i, t in enumerate(second_ans):\n",
    "#  print(i, \"  \", t)\n",
    "#third_ans = list(map(lambda s: tkr.encode(s)[1:-1], data[3]))\n",
    "#for i, t in enumerate(third_ans):\n",
    "#  print(i, \"  \", t)\n",
    "#fourth_ans = list(map(lambda s: tkr.encode(s)[1:-1], data[4]))\n",
    "#for i, t in enumerate(fourth_ans):\n",
    "#  print(i+1, \"  \", t)\n",
    "#true_ans = list(map(lambda s: tkr.encode(s)[1:-1], data[5]))\n",
    "#for i, t in enumerate(true_ans):\n",
    "#  print(i+1, \"  \", t)\n"
   ]
  },
  {
   "cell_type": "code",
   "execution_count": 0,
   "metadata": {
    "colab": {},
    "colab_type": "code",
    "id": "csMD4wazDbFd"
   },
   "outputs": [],
   "source": [
    "def evaluate(model, tks, data_tks_targets, \n",
    "             true_ans, first_ans, second_ans, third_ans, fourth_ans):\n",
    "    \n",
    "    correct = 0\n",
    "    incorrect = 0\n",
    "    fails = []\n",
    "    most_common_misconceptions = 0\n",
    "    h1 = 0\n",
    "    h2 = 0\n",
    "    h5 = 0\n",
    "    h10 = 0\n",
    "    h20 = 0\n",
    "    h50 = 0\n",
    "    h100 = 0\n",
    "    total = 0\n",
    "    with pt.no_grad():\n",
    "        for tk, target, ans, fa, sa, ta, ftha in tqdm.tqdm(zip(tks, data_tks_targets, true_ans, first_ans, second_ans, third_ans, fourth_ans)):\n",
    "\n",
    "            tkm = tk.copy()\n",
    "            \n",
    "            total += 1\n",
    "            ranks = ((-model(pt.tensor(tkm).unsqueeze(0))[0][0, target]).argsort())\n",
    "            idx = list(ranks).index(ans[0])\n",
    "            idx_first = list(ranks).index(fa[0])\n",
    "            idx_second = list(ranks).index(sa[0]) \n",
    "            idx_third = list(ranks).index(ta[0])\n",
    "            idx_fourth = list(ranks).index(ftha[0])\n",
    "            pred = min(idx, idx_first, idx_second, idx_third, idx_fourth)\n",
    "            if pred == idx:\n",
    "              correct += 1\n",
    "            else: \n",
    "              incorrect += 1\n",
    "              fails.append((total, list(ranks)[pred]))\n",
    "              if pred == idx_first:\n",
    "                most_common_misconceptions += 1\n",
    "            top_ranks = ranks[:100]\n",
    "            try:\n",
    "              idx = list(top_ranks).index(ans[0])\n",
    "            except:\n",
    "                continue\n",
    "            if 1 > idx:\n",
    "                h1 += 1\n",
    "            if 2 > idx:\n",
    "                h2 += 1\n",
    "            if 5 > idx:\n",
    "                h5 += 1\n",
    "            if 10 > idx:\n",
    "                h10 += 1\n",
    "            if 20 > idx:\n",
    "                h20 += 1\n",
    "            if 50 > idx:\n",
    "                h50 += 1\n",
    "            h100 += 1\n",
    "    print()\n",
    "    print(\"Correct: \", correct)\n",
    "    print(\"Incorrect: \", incorrect)\n",
    "    print(\"Misconceptions: \", most_common_misconceptions)\n",
    "\n",
    "    print(f\"\"\"H@1: {h1}\n",
    "H@2: {h2}\n",
    "H@5: {h5}\n",
    "H@10: {h10}\n",
    "H@20: {h20}\n",
    "H@50: {h50}\n",
    "H@100: {h100}\n",
    "Total: {total}\"\"\")\n",
    "    return fails"
   ]
  },
  {
   "cell_type": "code",
   "execution_count": 0,
   "metadata": {
    "colab": {},
    "colab_type": "code",
    "id": "SdPOfYUz3Bnn"
   },
   "outputs": [],
   "source": [
    "def eval_helper(model, tkr, data, roberta=False):\n",
    "  if roberta:\n",
    "    tks = list(map(lambda s: tkr.encode(s.replace('[MASK]', '<mask>')), data[0]))\n",
    "  else:\n",
    "    tks = list(map(lambda s: tkr.encode(s), data[0]))\n",
    "  first_ans, second_ans, third_ans, fourth_ans, true_ans = encode_answers(data, \n",
    "                                                                          tkr)\n",
    "  data_tks_targets = list(map(lambda x: x.index(tkr.mask_token_id), tks))\n",
    "  fails = evaluate(model, tks, data_tks_targets,\n",
    "                   true_ans, first_ans, second_ans, third_ans, fourth_ans)\n",
    "  for t in fails:\n",
    "    print(t[0], tkr.convert_ids_to_tokens([t[1]]))\n",
    "  local_fails = [(t[0], tkr.convert_ids_to_tokens([t[1]])) for t in fails]\n",
    "  return local_fails\n"
   ]
  },
  {
   "cell_type": "code",
   "execution_count": 0,
   "metadata": {
    "colab": {
     "base_uri": "https://localhost:8080/",
     "height": 1000
    },
    "colab_type": "code",
    "id": "lbxn6Jvv3Bnq",
    "outputId": "816e91a1-7cc0-4f7a-e816-2de362d11c12"
   },
   "outputs": [
    {
     "name": "stdout",
     "output_type": "stream",
     "text": [
      "############ BERT ############\n"
     ]
    },
    {
     "name": "stderr",
     "output_type": "stream",
     "text": [
      "109it [01:16,  1.43it/s]"
     ]
    },
    {
     "name": "stdout",
     "output_type": "stream",
     "text": [
      "\n",
      "Correct:  38\n",
      "Incorrect:  71\n",
      "Misconceptions:  51\n",
      "H@1: 14\n",
      "H@2: 22\n",
      "H@5: 33\n",
      "H@10: 57\n",
      "H@20: 66\n",
      "H@50: 85\n",
      "H@100: 91\n",
      "Total: 109\n",
      "2 ['generally']\n",
      "3 ['necessary']\n",
      "4 ['not']\n",
      "5 ['can']\n",
      "6 ['may']\n",
      "7 ['enough']\n",
      "8 ['can']\n",
      "9 ['different']\n",
      "11 ['fact']\n",
      "12 ['can']\n",
      "13 ['can']\n",
      "14 ['can']\n",
      "15 ['five']\n",
      "16 ['often']\n",
      "17 ['can']\n",
      "18 ['will']\n",
      "20 ['sure']\n",
      "23 ['never']\n",
      "24 ['true']\n",
      "25 ['true']\n",
      "26 ['can']\n",
      "27 ['hide']\n",
      "29 ['an']\n",
      "31 ['will']\n",
      "32 ['years']\n",
      "33 ['fact']\n",
      "34 ['always']\n",
      "35 ['every']\n",
      "36 ['china']\n",
      "38 ['corn']\n",
      "39 ['true']\n",
      "41 ['quicker']\n",
      "42 ['capital']\n",
      "44 ['vegetable']\n",
      "45 ['blind']\n",
      "46 ['minutes']\n",
      "49 ['can']\n",
      "50 ['four']\n",
      "51 ['more']\n",
      "52 ['can']\n",
      "53 ['meat']\n",
      "57 ['can']\n",
      "60 ['sugar']\n",
      "61 ['can']\n",
      "64 ['never']\n",
      "67 ['hot']\n",
      "68 ['can']\n",
      "69 ['must']\n",
      "70 ['can']\n",
      "72 ['one']\n",
      "73 ['can']\n",
      "75 ['quicker']\n",
      "76 ['equivalent']\n",
      "77 ['can']\n",
      "79 ['first']\n",
      "80 ['tree']\n",
      "81 ['only']\n",
      "83 ['about']\n",
      "85 ['first']\n",
      "87 ['the']\n",
      "93 ['true']\n",
      "94 ['july']\n",
      "96 ['very']\n",
      "97 ['often']\n",
      "99 ['true']\n",
      "100 ['directly']\n",
      "102 ['also']\n",
      "103 ['very']\n",
      "106 ['first']\n",
      "107 ['possible']\n",
      "109 ['true']\n"
     ]
    },
    {
     "name": "stderr",
     "output_type": "stream",
     "text": [
      "\n"
     ]
    }
   ],
   "source": [
    "print(\"############ BERT ############\")\n",
    "tkr_bert = trf.BertTokenizer.from_pretrained('bert-base-uncased')\n",
    "bert = trf.BertForMaskedLM.from_pretrained('bert-base-uncased', output_attentions=True)\n",
    "bert_fails = eval_helper(bert, tkr_bert, data)"
   ]
  },
  {
   "cell_type": "code",
   "execution_count": 0,
   "metadata": {
    "colab": {
     "base_uri": "https://localhost:8080/",
     "height": 1000
    },
    "colab_type": "code",
    "id": "LVR1QEhd3Bnt",
    "outputId": "c95a18b1-4c6f-44bd-c174-d083143b3268"
   },
   "outputs": [
    {
     "name": "stdout",
     "output_type": "stream",
     "text": [
      "############ RoBERTa ############\n"
     ]
    },
    {
     "name": "stderr",
     "output_type": "stream",
     "text": [
      "109it [02:05,  1.15s/it]"
     ]
    },
    {
     "name": "stdout",
     "output_type": "stream",
     "text": [
      "\n",
      "Correct:  34\n",
      "Incorrect:  75\n",
      "Misconceptions:  55\n",
      "H@1: 15\n",
      "H@2: 23\n",
      "H@5: 37\n",
      "H@10: 53\n",
      "H@20: 64\n",
      "H@50: 76\n",
      "H@100: 85\n",
      "Total: 109\n",
      "1 ['Ġthree']\n",
      "2 ['Ġgenerally']\n",
      "4 ['Ġnot']\n",
      "5 ['Ġcan']\n",
      "6 ['Ġmay']\n",
      "7 ['Ġenough']\n",
      "8 ['Ġcan']\n",
      "9 ['Ġdifferent']\n",
      "12 ['Ġcan']\n",
      "13 ['Ġcan']\n",
      "14 ['Ġcan']\n",
      "15 ['Ġfive']\n",
      "16 ['Ġoften']\n",
      "17 ['Ġcan']\n",
      "18 ['Ġcan']\n",
      "19 ['Ġequal']\n",
      "20 ['Ġsure']\n",
      "23 ['Ġnever']\n",
      "24 ['Ġtrue']\n",
      "25 ['Ġtrue']\n",
      "26 ['Ġcan']\n",
      "27 ['Ġhide']\n",
      "29 ['Ġan']\n",
      "31 ['Ġwill']\n",
      "32 ['Ġyears']\n",
      "33 ['Ġfact']\n",
      "34 ['Ġcan']\n",
      "35 ['Ġevery']\n",
      "36 ['ĠGermany']\n",
      "39 ['Ġtrue']\n",
      "41 ['Ġquicker']\n",
      "42 ['Ġcapital']\n",
      "44 ['Ġvegetable']\n",
      "45 ['Ġpink']\n",
      "46 ['Ġseconds']\n",
      "49 ['Ġcan']\n",
      "50 ['Ġfour']\n",
      "51 ['Ġmore']\n",
      "52 ['Ġcan']\n",
      "53 ['Ġcheese']\n",
      "55 ['Ġhealthy']\n",
      "56 ['Ġdinosaurs']\n",
      "57 ['Ġcan']\n",
      "58 ['Ġapple']\n",
      "60 ['Ġbeans']\n",
      "61 ['Ġcan']\n",
      "62 ['Ġyellow']\n",
      "63 ['Ġalways']\n",
      "64 ['Ġnever']\n",
      "67 ['Ġhot']\n",
      "68 ['Ġcan']\n",
      "69 ['Ġmust']\n",
      "70 ['Ġcan']\n",
      "72 ['Ġone']\n",
      "73 ['Ġcan']\n",
      "76 ['Ġequivalent']\n",
      "77 ['Ġcan']\n",
      "78 ['Ġlight']\n",
      "79 ['Ġfirst']\n",
      "80 ['Ġtree']\n",
      "81 ['Ġonly']\n",
      "83 ['Ġabout']\n",
      "85 ['Ġfirst']\n",
      "87 ['Ġthe']\n",
      "93 ['Ġtrue']\n",
      "94 ['ĠJuly']\n",
      "96 ['Ġvery']\n",
      "99 ['Ġtrue']\n",
      "100 ['Ġdirectly']\n",
      "102 ['Ġalways']\n",
      "103 ['Ġvery']\n",
      "106 ['Ġfirst']\n",
      "107 ['Ġpossible']\n",
      "108 ['Ġmore']\n",
      "109 ['Ġobvious']\n"
     ]
    },
    {
     "name": "stderr",
     "output_type": "stream",
     "text": [
      "\n"
     ]
    }
   ],
   "source": [
    "print(\"############ RoBERTa ############\")\n",
    "tkr_roberta = trf.RobertaTokenizer.from_pretrained('roberta-base')\n",
    "roberta = trf.RobertaForMaskedLM.from_pretrained('roberta-base')\n",
    "roberta_fails = eval_helper(roberta, tkr_roberta, data, roberta=True)"
   ]
  },
  {
   "cell_type": "code",
   "execution_count": 0,
   "metadata": {
    "colab": {
     "base_uri": "https://localhost:8080/",
     "height": 1000,
     "referenced_widgets": [
      "81ca25b5db184d25becfb6de9f5b660e",
      "df0235a241d64a8c88c2879261646669",
      "e65c02163312477daf2c177254ab67fc",
      "fde7025aa9dc492f996bd37bee262723",
      "c863b96dee8e4274b7d885b86481de68",
      "f7aa0dd5cf054ff188a092521b8af4f9",
      "f5a421400e724bd6855fe8885174a76b",
      "252307a31a2048e1af0d01efc9f5af43",
      "9a9485645ab14bd0862681d4a82bd871",
      "dc7ded7a356044d5bc17cb5792cf9626",
      "7731da4d6b0d4809912e1476d93c8d5f",
      "d19087fb08d94481bf8baaa591a97320",
      "354007fc24fc4b368b2c34035594ce90",
      "b2d0f49e81bc4135ab86e0920879a6c5",
      "1936936102574fda94f947ee694203ac",
      "14b7739f1f84459f8278ceb019a524af",
      "a8dc71ed8bf64f58a698334dfe3683f3",
      "3dba28f39bfe40d6824f341f0025c457",
      "82cb0994cb9f4d60a00425a5b1f7bcf7",
      "d080c9e018a34921a0e4c1727b085613",
      "1789b59a3e50467abaeae1b6f34934b7",
      "7939c6eb2c934f279dedbaf597d1f2de",
      "a95d254093e34545bc5d0fe4f0ddf0d6",
      "ef05432a9c6e4012a05f95b10ae4ef33"
     ]
    },
    "colab_type": "code",
    "id": "emIpI6ol3Bnv",
    "outputId": "10765a0c-4af1-429d-9d95-6dc995ac3e45"
   },
   "outputs": [
    {
     "name": "stdout",
     "output_type": "stream",
     "text": [
      "############ ALBERT ############\n"
     ]
    },
    {
     "data": {
      "application/vnd.jupyter.widget-view+json": {
       "model_id": "81ca25b5db184d25becfb6de9f5b660e",
       "version_major": 2,
       "version_minor": 0
      },
      "text/plain": [
       "HBox(children=(FloatProgress(value=0.0, description='Downloading', max=760289.0, style=ProgressStyle(descripti…"
      ]
     },
     "metadata": {
      "tags": []
     },
     "output_type": "display_data"
    },
    {
     "name": "stdout",
     "output_type": "stream",
     "text": [
      "\n"
     ]
    },
    {
     "data": {
      "application/vnd.jupyter.widget-view+json": {
       "model_id": "9a9485645ab14bd0862681d4a82bd871",
       "version_major": 2,
       "version_minor": 0
      },
      "text/plain": [
       "HBox(children=(FloatProgress(value=0.0, description='Downloading', max=684.0, style=ProgressStyle(description_…"
      ]
     },
     "metadata": {
      "tags": []
     },
     "output_type": "display_data"
    },
    {
     "name": "stdout",
     "output_type": "stream",
     "text": [
      "\n"
     ]
    },
    {
     "data": {
      "application/vnd.jupyter.widget-view+json": {
       "model_id": "a8dc71ed8bf64f58a698334dfe3683f3",
       "version_major": 2,
       "version_minor": 0
      },
      "text/plain": [
       "HBox(children=(FloatProgress(value=0.0, description='Downloading', max=47376696.0, style=ProgressStyle(descrip…"
      ]
     },
     "metadata": {
      "tags": []
     },
     "output_type": "display_data"
    },
    {
     "name": "stdout",
     "output_type": "stream",
     "text": [
      "\n"
     ]
    },
    {
     "name": "stderr",
     "output_type": "stream",
     "text": [
      "109it [01:13,  1.48it/s]"
     ]
    },
    {
     "name": "stdout",
     "output_type": "stream",
     "text": [
      "\n",
      "Correct:  37\n",
      "Incorrect:  72\n",
      "Misconceptions:  51\n",
      "H@1: 8\n",
      "H@2: 16\n",
      "H@5: 28\n",
      "H@10: 46\n",
      "H@20: 59\n",
      "H@50: 72\n",
      "H@100: 82\n",
      "Total: 109\n",
      "4 ['▁not']\n",
      "6 ['▁may']\n",
      "7 ['▁enough']\n",
      "8 ['▁can']\n",
      "9 ['▁different']\n",
      "10 ['▁cannot']\n",
      "11 ['▁fact']\n",
      "12 ['▁can']\n",
      "13 ['▁can']\n",
      "14 ['▁can']\n",
      "16 ['▁often']\n",
      "17 ['▁can']\n",
      "18 ['▁will']\n",
      "19 ['▁same']\n",
      "20 ['▁sure']\n",
      "23 ['▁never']\n",
      "24 ['▁true']\n",
      "25 ['▁true']\n",
      "27 ['▁hide']\n",
      "28 ['▁slowly']\n",
      "29 ['▁an']\n",
      "31 ['▁often']\n",
      "32 ['▁years']\n",
      "33 ['▁fact']\n",
      "34 ['▁always']\n",
      "35 ['▁every']\n",
      "36 ['▁china']\n",
      "39 ['▁true']\n",
      "41 ['▁thicker']\n",
      "42 ['▁capital']\n",
      "43 ['▁perth']\n",
      "44 ['▁vegetable']\n",
      "46 ['▁seconds']\n",
      "47 ['▁cannot']\n",
      "49 ['▁can']\n",
      "50 ['▁four']\n",
      "52 ['▁can']\n",
      "53 ['▁garlic']\n",
      "54 ['▁yellow']\n",
      "55 ['▁sober']\n",
      "58 ['▁carrot']\n",
      "60 ['▁beans']\n",
      "61 ['▁can']\n",
      "62 ['▁yellow']\n",
      "64 ['▁never']\n",
      "66 ['▁directly']\n",
      "67 ['▁hot']\n",
      "68 ['▁can']\n",
      "69 ['▁must']\n",
      "70 ['▁can']\n",
      "71 ['▁true']\n",
      "72 ['▁one']\n",
      "73 ['▁can']\n",
      "75 ['▁quicker']\n",
      "76 ['▁equivalent']\n",
      "77 ['▁can']\n",
      "79 ['▁first']\n",
      "80 ['▁tree']\n",
      "83 ['▁about']\n",
      "87 ['▁the']\n",
      "90 ['▁true']\n",
      "91 ['▁drowned']\n",
      "93 ['▁true']\n",
      "94 ['▁july']\n",
      "96 ['▁very']\n",
      "99 ['▁true']\n",
      "100 ['▁directly']\n",
      "101 ['▁only']\n",
      "102 ['▁always']\n",
      "106 ['▁first']\n",
      "107 ['▁possible']\n",
      "109 ['▁true']\n"
     ]
    },
    {
     "name": "stderr",
     "output_type": "stream",
     "text": [
      "\n"
     ]
    }
   ],
   "source": [
    "print(\"############ ALBERT ############\")\n",
    "tkr_albert = trf.AlbertTokenizer.from_pretrained('albert-base-v2')\n",
    "albert = trf.AlbertForMaskedLM.from_pretrained('albert-base-v2')\n",
    "albert_fails = eval_helper(albert, tkr_albert, data)"
   ]
  },
  {
   "cell_type": "code",
   "execution_count": 0,
   "metadata": {
    "colab": {
     "base_uri": "https://localhost:8080/",
     "height": 1000,
     "referenced_widgets": [
      "fecd06fc87ab46e08c11672ecd75c008",
      "bbd789f2dcf648fbbe8ab265757e5dfd",
      "afe4f41f203d4701a657c3730d242d85",
      "b75100d5d2304ae887e47d3d3d018be2",
      "b6272e9f1b6745fb98c5ed39fbd108eb",
      "e8bd5d43f933446998ed85587ef83a55",
      "9545b208cb0148349f866e3b09b3f9b7",
      "72872116dde34bb89d3b30b2526a34b2",
      "eb7d4915bf1744ee993e4ff5e7dc58c6",
      "7c7755048ef543ef88af82adc198a7a4",
      "5fc1df4382794735a0dcf2a1847fd5f8",
      "0bb0220969d94253bb802834202e3459",
      "b0cbf10bc2a14c1aa2f31e7c24a2c7b6",
      "cd36a5193ede4f918ff6ac626ca9d4c2",
      "7834cbb4f3c548f19f0cd5f963522f60",
      "c0e623e4792a4321958e670fde1f5c55",
      "47544f539be34157b0d54123abdd730c",
      "5ce067343f994bc69ff8561c079e4935",
      "e8b8e5f319d24ecd8c92e999f0489ed5",
      "668218b896a04dfa9c1121ea3c49bc59",
      "fbe3828237584d89b0eb1fde31a99df9",
      "e2c99db48c4046dc856fde685ffe36ec",
      "47734482d8fa4ca494a843feaeff64af",
      "6b21607a72ac47babf4bf29135d00230"
     ]
    },
    "colab_type": "code",
    "id": "6Dtl_ZNh83hT",
    "outputId": "86bc22e3-a458-462b-db46-a60f21e2c859"
   },
   "outputs": [
    {
     "name": "stdout",
     "output_type": "stream",
     "text": [
      "############ ELECTRA ############\n"
     ]
    },
    {
     "data": {
      "application/vnd.jupyter.widget-view+json": {
       "model_id": "fecd06fc87ab46e08c11672ecd75c008",
       "version_major": 2,
       "version_minor": 0
      },
      "text/plain": [
       "HBox(children=(FloatProgress(value=0.0, description='Downloading', max=231508.0, style=ProgressStyle(descripti…"
      ]
     },
     "metadata": {
      "tags": []
     },
     "output_type": "display_data"
    },
    {
     "name": "stdout",
     "output_type": "stream",
     "text": [
      "\n"
     ]
    },
    {
     "data": {
      "application/vnd.jupyter.widget-view+json": {
       "model_id": "eb7d4915bf1744ee993e4ff5e7dc58c6",
       "version_major": 2,
       "version_minor": 0
      },
      "text/plain": [
       "HBox(children=(FloatProgress(value=0.0, description='Downloading', max=463.0, style=ProgressStyle(description_…"
      ]
     },
     "metadata": {
      "tags": []
     },
     "output_type": "display_data"
    },
    {
     "name": "stdout",
     "output_type": "stream",
     "text": [
      "\n"
     ]
    },
    {
     "data": {
      "application/vnd.jupyter.widget-view+json": {
       "model_id": "47544f539be34157b0d54123abdd730c",
       "version_major": 2,
       "version_minor": 0
      },
      "text/plain": [
       "HBox(children=(FloatProgress(value=0.0, description='Downloading', max=54236116.0, style=ProgressStyle(descrip…"
      ]
     },
     "metadata": {
      "tags": []
     },
     "output_type": "display_data"
    },
    {
     "name": "stdout",
     "output_type": "stream",
     "text": [
      "\n"
     ]
    },
    {
     "name": "stderr",
     "output_type": "stream",
     "text": [
      "109it [01:06,  1.65it/s]"
     ]
    },
    {
     "name": "stdout",
     "output_type": "stream",
     "text": [
      "\n",
      "Correct:  33\n",
      "Incorrect:  76\n",
      "Misconceptions:  51\n",
      "H@1: 11\n",
      "H@2: 21\n",
      "H@5: 31\n",
      "H@10: 51\n",
      "H@20: 60\n",
      "H@50: 81\n",
      "H@100: 89\n",
      "Total: 109\n",
      "2 ['generally']\n",
      "3 ['necessary']\n",
      "4 ['not']\n",
      "5 ['can']\n",
      "6 ['may']\n",
      "7 ['enough']\n",
      "8 ['can']\n",
      "9 ['different']\n",
      "11 ['fact']\n",
      "12 ['can']\n",
      "13 ['can']\n",
      "14 ['can']\n",
      "16 ['often']\n",
      "17 ['can']\n",
      "18 ['will']\n",
      "19 ['equal']\n",
      "20 ['sure']\n",
      "24 ['true']\n",
      "25 ['true']\n",
      "26 ['can']\n",
      "27 ['hide']\n",
      "28 ['long']\n",
      "29 ['an']\n",
      "31 ['will']\n",
      "32 ['years']\n",
      "33 ['fact']\n",
      "34 ['can']\n",
      "35 ['every']\n",
      "36 ['china']\n",
      "38 ['nuts']\n",
      "39 ['true']\n",
      "41 ['quicker']\n",
      "42 ['capital']\n",
      "43 ['sydney']\n",
      "44 ['vegetable']\n",
      "45 ['dogs']\n",
      "46 ['minutes']\n",
      "49 ['can']\n",
      "50 ['four']\n",
      "52 ['can']\n",
      "53 ['meat']\n",
      "54 ['green']\n",
      "55 ['healthy']\n",
      "57 ['can']\n",
      "59 ['losses']\n",
      "60 ['sugar']\n",
      "61 ['can']\n",
      "63 ['always']\n",
      "64 ['never']\n",
      "67 ['hot']\n",
      "68 ['can']\n",
      "69 ['must']\n",
      "70 ['can']\n",
      "72 ['some']\n",
      "73 ['can']\n",
      "75 ['good']\n",
      "76 ['equivalent']\n",
      "77 ['can']\n",
      "78 ['light']\n",
      "79 ['first']\n",
      "80 ['tree']\n",
      "83 ['about']\n",
      "87 ['the']\n",
      "90 ['true']\n",
      "93 ['true']\n",
      "94 ['may']\n",
      "96 ['very']\n",
      "99 ['true']\n",
      "100 ['directly']\n",
      "101 ['only']\n",
      "102 ['also']\n",
      "103 ['very']\n",
      "106 ['first']\n",
      "107 ['possible']\n",
      "108 ['more']\n",
      "109 ['true']\n"
     ]
    },
    {
     "name": "stderr",
     "output_type": "stream",
     "text": [
      "\n"
     ]
    }
   ],
   "source": [
    "print(\"############ ELECTRA ############\")\n",
    "tkr_electra = trf.ElectraTokenizer.from_pretrained('google/electra-small-generator')\n",
    "electra = trf.ElectraForMaskedLM.from_pretrained('google/electra-small-generator')\n",
    "electra_fails = eval_helper(electra, tkr_electra, data)"
   ]
  },
  {
   "cell_type": "code",
   "execution_count": 0,
   "metadata": {
    "colab": {
     "base_uri": "https://localhost:8080/",
     "height": 34
    },
    "colab_type": "code",
    "id": "YD2DvGW-Fuvz",
    "outputId": "bd6948ad-3cef-4b0b-ee4e-025f700d2c10"
   },
   "outputs": [
    {
     "data": {
      "text/plain": [
       "'<mask>'"
      ]
     },
     "execution_count": 29,
     "metadata": {
      "tags": []
     },
     "output_type": "execute_result"
    }
   ],
   "source": [
    "tkr_roberta.mask_token"
   ]
  },
  {
   "cell_type": "code",
   "execution_count": 0,
   "metadata": {
    "colab": {
     "base_uri": "https://localhost:8080/",
     "height": 34
    },
    "colab_type": "code",
    "id": "ZOZeoCKKZpjJ",
    "outputId": "944c7f80-b943-467a-cf0e-8d4f1058659b"
   },
   "outputs": [
    {
     "data": {
      "text/plain": [
       "[101, 103, 102]"
      ]
     },
     "execution_count": 27,
     "metadata": {
      "tags": []
     },
     "output_type": "execute_result"
    }
   ],
   "source": [
    "tkr_bert.encode('[MASK]')"
   ]
  },
  {
   "cell_type": "code",
   "execution_count": 0,
   "metadata": {
    "colab": {
     "base_uri": "https://localhost:8080/",
     "height": 346
    },
    "colab_type": "code",
    "id": "xh1h84FvFwn9",
    "outputId": "3ec8f102-b452-4ec6-b4b5-a53971a10b18"
   },
   "outputs": [
    {
     "name": "stdout",
     "output_type": "stream",
     "text": [
      "1 ['china']\n",
      "2 ['mozart']\n",
      "3 ['water']\n",
      "4 ['nuts']\n",
      "5 ['apple']\n",
      "6 ['10']\n",
      "8 ['quicker']\n",
      "9 ['good']\n",
      "10 ['sydney']\n",
      "11 ['vegetable']\n",
      "13 ['dogs']\n",
      "14 ['minutes']\n",
      "17 ['meat']\n",
      "20 ['can']\n",
      "21 ['losses']\n",
      "22 ['can']\n",
      "24 ['can']\n",
      "25 ['four']\n",
      "27 ['can']\n"
     ]
    }
   ],
   "source": [
    "for t in fails:\n",
    "  print(t[0], tkr.convert_ids_to_tokens([t[1]]))"
   ]
  },
  {
   "cell_type": "code",
   "execution_count": 0,
   "metadata": {
    "colab": {},
    "colab_type": "code",
    "id": "wfFA2IV2G1bE"
   },
   "outputs": [],
   "source": [
    "# BERT 3, 4, 6, 17, are not common misconceptions just wrong answers"
   ]
  },
  {
   "cell_type": "code",
   "execution_count": 0,
   "metadata": {
    "colab": {},
    "colab_type": "code",
    "id": "2-GeDegLMrO6"
   },
   "outputs": [],
   "source": [
    "# RoBERTa 3, 8, 10, 15, 16, 17, 18, 20, 25"
   ]
  },
  {
   "cell_type": "code",
   "execution_count": 0,
   "metadata": {
    "colab": {},
    "colab_type": "code",
    "id": "Fd6gTS9XTBP1"
   },
   "outputs": [],
   "source": [
    "# ALbert 2, 10, 12, 17, 20, 23"
   ]
  },
  {
   "cell_type": "code",
   "execution_count": 0,
   "metadata": {
    "colab": {},
    "colab_type": "code",
    "id": "3cx9IhZeUNDd"
   },
   "outputs": [],
   "source": [
    "# Electra 3, 9, 13, 14, 17, 21, "
   ]
  }
 ],
 "metadata": {
  "colab": {
   "collapsed_sections": [],
   "name": "misconceptions.ipynb",
   "provenance": []
  },
  "kernelspec": {
   "display_name": "Python 3",
   "language": "python",
   "name": "python3"
  },
  "language_info": {
   "codemirror_mode": {
    "name": "ipython",
    "version": 3
   },
   "file_extension": ".py",
   "mimetype": "text/x-python",
   "name": "python",
   "nbconvert_exporter": "python",
   "pygments_lexer": "ipython3",
   "version": "3.6.9"
  },
  "widgets": {
   "application/vnd.jupyter.widget-state+json": {
    "0bb0220969d94253bb802834202e3459": {
     "model_module": "@jupyter-widgets/controls",
     "model_name": "HTMLModel",
     "state": {
      "_dom_classes": [],
      "_model_module": "@jupyter-widgets/controls",
      "_model_module_version": "1.5.0",
      "_model_name": "HTMLModel",
      "_view_count": null,
      "_view_module": "@jupyter-widgets/controls",
      "_view_module_version": "1.5.0",
      "_view_name": "HTMLView",
      "description": "",
      "description_tooltip": null,
      "layout": "IPY_MODEL_c0e623e4792a4321958e670fde1f5c55",
      "placeholder": "​",
      "style": "IPY_MODEL_7834cbb4f3c548f19f0cd5f963522f60",
      "value": " 463/463 [00:06&lt;00:00, 71.9B/s]"
     }
    },
    "14b7739f1f84459f8278ceb019a524af": {
     "model_module": "@jupyter-widgets/base",
     "model_name": "LayoutModel",
     "state": {
      "_model_module": "@jupyter-widgets/base",
      "_model_module_version": "1.2.0",
      "_model_name": "LayoutModel",
      "_view_count": null,
      "_view_module": "@jupyter-widgets/base",
      "_view_module_version": "1.2.0",
      "_view_name": "LayoutView",
      "align_content": null,
      "align_items": null,
      "align_self": null,
      "border": null,
      "bottom": null,
      "display": null,
      "flex": null,
      "flex_flow": null,
      "grid_area": null,
      "grid_auto_columns": null,
      "grid_auto_flow": null,
      "grid_auto_rows": null,
      "grid_column": null,
      "grid_gap": null,
      "grid_row": null,
      "grid_template_areas": null,
      "grid_template_columns": null,
      "grid_template_rows": null,
      "height": null,
      "justify_content": null,
      "justify_items": null,
      "left": null,
      "margin": null,
      "max_height": null,
      "max_width": null,
      "min_height": null,
      "min_width": null,
      "object_fit": null,
      "object_position": null,
      "order": null,
      "overflow": null,
      "overflow_x": null,
      "overflow_y": null,
      "padding": null,
      "right": null,
      "top": null,
      "visibility": null,
      "width": null
     }
    },
    "1789b59a3e50467abaeae1b6f34934b7": {
     "model_module": "@jupyter-widgets/controls",
     "model_name": "ProgressStyleModel",
     "state": {
      "_model_module": "@jupyter-widgets/controls",
      "_model_module_version": "1.5.0",
      "_model_name": "ProgressStyleModel",
      "_view_count": null,
      "_view_module": "@jupyter-widgets/base",
      "_view_module_version": "1.2.0",
      "_view_name": "StyleView",
      "bar_color": null,
      "description_width": "initial"
     }
    },
    "1936936102574fda94f947ee694203ac": {
     "model_module": "@jupyter-widgets/controls",
     "model_name": "DescriptionStyleModel",
     "state": {
      "_model_module": "@jupyter-widgets/controls",
      "_model_module_version": "1.5.0",
      "_model_name": "DescriptionStyleModel",
      "_view_count": null,
      "_view_module": "@jupyter-widgets/base",
      "_view_module_version": "1.2.0",
      "_view_name": "StyleView",
      "description_width": ""
     }
    },
    "252307a31a2048e1af0d01efc9f5af43": {
     "model_module": "@jupyter-widgets/base",
     "model_name": "LayoutModel",
     "state": {
      "_model_module": "@jupyter-widgets/base",
      "_model_module_version": "1.2.0",
      "_model_name": "LayoutModel",
      "_view_count": null,
      "_view_module": "@jupyter-widgets/base",
      "_view_module_version": "1.2.0",
      "_view_name": "LayoutView",
      "align_content": null,
      "align_items": null,
      "align_self": null,
      "border": null,
      "bottom": null,
      "display": null,
      "flex": null,
      "flex_flow": null,
      "grid_area": null,
      "grid_auto_columns": null,
      "grid_auto_flow": null,
      "grid_auto_rows": null,
      "grid_column": null,
      "grid_gap": null,
      "grid_row": null,
      "grid_template_areas": null,
      "grid_template_columns": null,
      "grid_template_rows": null,
      "height": null,
      "justify_content": null,
      "justify_items": null,
      "left": null,
      "margin": null,
      "max_height": null,
      "max_width": null,
      "min_height": null,
      "min_width": null,
      "object_fit": null,
      "object_position": null,
      "order": null,
      "overflow": null,
      "overflow_x": null,
      "overflow_y": null,
      "padding": null,
      "right": null,
      "top": null,
      "visibility": null,
      "width": null
     }
    },
    "354007fc24fc4b368b2c34035594ce90": {
     "model_module": "@jupyter-widgets/controls",
     "model_name": "ProgressStyleModel",
     "state": {
      "_model_module": "@jupyter-widgets/controls",
      "_model_module_version": "1.5.0",
      "_model_name": "ProgressStyleModel",
      "_view_count": null,
      "_view_module": "@jupyter-widgets/base",
      "_view_module_version": "1.2.0",
      "_view_name": "StyleView",
      "bar_color": null,
      "description_width": "initial"
     }
    },
    "3dba28f39bfe40d6824f341f0025c457": {
     "model_module": "@jupyter-widgets/base",
     "model_name": "LayoutModel",
     "state": {
      "_model_module": "@jupyter-widgets/base",
      "_model_module_version": "1.2.0",
      "_model_name": "LayoutModel",
      "_view_count": null,
      "_view_module": "@jupyter-widgets/base",
      "_view_module_version": "1.2.0",
      "_view_name": "LayoutView",
      "align_content": null,
      "align_items": null,
      "align_self": null,
      "border": null,
      "bottom": null,
      "display": null,
      "flex": null,
      "flex_flow": null,
      "grid_area": null,
      "grid_auto_columns": null,
      "grid_auto_flow": null,
      "grid_auto_rows": null,
      "grid_column": null,
      "grid_gap": null,
      "grid_row": null,
      "grid_template_areas": null,
      "grid_template_columns": null,
      "grid_template_rows": null,
      "height": null,
      "justify_content": null,
      "justify_items": null,
      "left": null,
      "margin": null,
      "max_height": null,
      "max_width": null,
      "min_height": null,
      "min_width": null,
      "object_fit": null,
      "object_position": null,
      "order": null,
      "overflow": null,
      "overflow_x": null,
      "overflow_y": null,
      "padding": null,
      "right": null,
      "top": null,
      "visibility": null,
      "width": null
     }
    },
    "47544f539be34157b0d54123abdd730c": {
     "model_module": "@jupyter-widgets/controls",
     "model_name": "HBoxModel",
     "state": {
      "_dom_classes": [],
      "_model_module": "@jupyter-widgets/controls",
      "_model_module_version": "1.5.0",
      "_model_name": "HBoxModel",
      "_view_count": null,
      "_view_module": "@jupyter-widgets/controls",
      "_view_module_version": "1.5.0",
      "_view_name": "HBoxView",
      "box_style": "",
      "children": [
       "IPY_MODEL_e8b8e5f319d24ecd8c92e999f0489ed5",
       "IPY_MODEL_668218b896a04dfa9c1121ea3c49bc59"
      ],
      "layout": "IPY_MODEL_5ce067343f994bc69ff8561c079e4935"
     }
    },
    "47734482d8fa4ca494a843feaeff64af": {
     "model_module": "@jupyter-widgets/controls",
     "model_name": "DescriptionStyleModel",
     "state": {
      "_model_module": "@jupyter-widgets/controls",
      "_model_module_version": "1.5.0",
      "_model_name": "DescriptionStyleModel",
      "_view_count": null,
      "_view_module": "@jupyter-widgets/base",
      "_view_module_version": "1.2.0",
      "_view_name": "StyleView",
      "description_width": ""
     }
    },
    "5ce067343f994bc69ff8561c079e4935": {
     "model_module": "@jupyter-widgets/base",
     "model_name": "LayoutModel",
     "state": {
      "_model_module": "@jupyter-widgets/base",
      "_model_module_version": "1.2.0",
      "_model_name": "LayoutModel",
      "_view_count": null,
      "_view_module": "@jupyter-widgets/base",
      "_view_module_version": "1.2.0",
      "_view_name": "LayoutView",
      "align_content": null,
      "align_items": null,
      "align_self": null,
      "border": null,
      "bottom": null,
      "display": null,
      "flex": null,
      "flex_flow": null,
      "grid_area": null,
      "grid_auto_columns": null,
      "grid_auto_flow": null,
      "grid_auto_rows": null,
      "grid_column": null,
      "grid_gap": null,
      "grid_row": null,
      "grid_template_areas": null,
      "grid_template_columns": null,
      "grid_template_rows": null,
      "height": null,
      "justify_content": null,
      "justify_items": null,
      "left": null,
      "margin": null,
      "max_height": null,
      "max_width": null,
      "min_height": null,
      "min_width": null,
      "object_fit": null,
      "object_position": null,
      "order": null,
      "overflow": null,
      "overflow_x": null,
      "overflow_y": null,
      "padding": null,
      "right": null,
      "top": null,
      "visibility": null,
      "width": null
     }
    },
    "5fc1df4382794735a0dcf2a1847fd5f8": {
     "model_module": "@jupyter-widgets/controls",
     "model_name": "FloatProgressModel",
     "state": {
      "_dom_classes": [],
      "_model_module": "@jupyter-widgets/controls",
      "_model_module_version": "1.5.0",
      "_model_name": "FloatProgressModel",
      "_view_count": null,
      "_view_module": "@jupyter-widgets/controls",
      "_view_module_version": "1.5.0",
      "_view_name": "ProgressView",
      "bar_style": "success",
      "description": "Downloading: 100%",
      "description_tooltip": null,
      "layout": "IPY_MODEL_cd36a5193ede4f918ff6ac626ca9d4c2",
      "max": 463,
      "min": 0,
      "orientation": "horizontal",
      "style": "IPY_MODEL_b0cbf10bc2a14c1aa2f31e7c24a2c7b6",
      "value": 463
     }
    },
    "668218b896a04dfa9c1121ea3c49bc59": {
     "model_module": "@jupyter-widgets/controls",
     "model_name": "HTMLModel",
     "state": {
      "_dom_classes": [],
      "_model_module": "@jupyter-widgets/controls",
      "_model_module_version": "1.5.0",
      "_model_name": "HTMLModel",
      "_view_count": null,
      "_view_module": "@jupyter-widgets/controls",
      "_view_module_version": "1.5.0",
      "_view_name": "HTMLView",
      "description": "",
      "description_tooltip": null,
      "layout": "IPY_MODEL_6b21607a72ac47babf4bf29135d00230",
      "placeholder": "​",
      "style": "IPY_MODEL_47734482d8fa4ca494a843feaeff64af",
      "value": " 54.2M/54.2M [00:05&lt;00:00, 10.1MB/s]"
     }
    },
    "6b21607a72ac47babf4bf29135d00230": {
     "model_module": "@jupyter-widgets/base",
     "model_name": "LayoutModel",
     "state": {
      "_model_module": "@jupyter-widgets/base",
      "_model_module_version": "1.2.0",
      "_model_name": "LayoutModel",
      "_view_count": null,
      "_view_module": "@jupyter-widgets/base",
      "_view_module_version": "1.2.0",
      "_view_name": "LayoutView",
      "align_content": null,
      "align_items": null,
      "align_self": null,
      "border": null,
      "bottom": null,
      "display": null,
      "flex": null,
      "flex_flow": null,
      "grid_area": null,
      "grid_auto_columns": null,
      "grid_auto_flow": null,
      "grid_auto_rows": null,
      "grid_column": null,
      "grid_gap": null,
      "grid_row": null,
      "grid_template_areas": null,
      "grid_template_columns": null,
      "grid_template_rows": null,
      "height": null,
      "justify_content": null,
      "justify_items": null,
      "left": null,
      "margin": null,
      "max_height": null,
      "max_width": null,
      "min_height": null,
      "min_width": null,
      "object_fit": null,
      "object_position": null,
      "order": null,
      "overflow": null,
      "overflow_x": null,
      "overflow_y": null,
      "padding": null,
      "right": null,
      "top": null,
      "visibility": null,
      "width": null
     }
    },
    "72872116dde34bb89d3b30b2526a34b2": {
     "model_module": "@jupyter-widgets/base",
     "model_name": "LayoutModel",
     "state": {
      "_model_module": "@jupyter-widgets/base",
      "_model_module_version": "1.2.0",
      "_model_name": "LayoutModel",
      "_view_count": null,
      "_view_module": "@jupyter-widgets/base",
      "_view_module_version": "1.2.0",
      "_view_name": "LayoutView",
      "align_content": null,
      "align_items": null,
      "align_self": null,
      "border": null,
      "bottom": null,
      "display": null,
      "flex": null,
      "flex_flow": null,
      "grid_area": null,
      "grid_auto_columns": null,
      "grid_auto_flow": null,
      "grid_auto_rows": null,
      "grid_column": null,
      "grid_gap": null,
      "grid_row": null,
      "grid_template_areas": null,
      "grid_template_columns": null,
      "grid_template_rows": null,
      "height": null,
      "justify_content": null,
      "justify_items": null,
      "left": null,
      "margin": null,
      "max_height": null,
      "max_width": null,
      "min_height": null,
      "min_width": null,
      "object_fit": null,
      "object_position": null,
      "order": null,
      "overflow": null,
      "overflow_x": null,
      "overflow_y": null,
      "padding": null,
      "right": null,
      "top": null,
      "visibility": null,
      "width": null
     }
    },
    "7731da4d6b0d4809912e1476d93c8d5f": {
     "model_module": "@jupyter-widgets/controls",
     "model_name": "FloatProgressModel",
     "state": {
      "_dom_classes": [],
      "_model_module": "@jupyter-widgets/controls",
      "_model_module_version": "1.5.0",
      "_model_name": "FloatProgressModel",
      "_view_count": null,
      "_view_module": "@jupyter-widgets/controls",
      "_view_module_version": "1.5.0",
      "_view_name": "ProgressView",
      "bar_style": "success",
      "description": "Downloading: 100%",
      "description_tooltip": null,
      "layout": "IPY_MODEL_b2d0f49e81bc4135ab86e0920879a6c5",
      "max": 684,
      "min": 0,
      "orientation": "horizontal",
      "style": "IPY_MODEL_354007fc24fc4b368b2c34035594ce90",
      "value": 684
     }
    },
    "7834cbb4f3c548f19f0cd5f963522f60": {
     "model_module": "@jupyter-widgets/controls",
     "model_name": "DescriptionStyleModel",
     "state": {
      "_model_module": "@jupyter-widgets/controls",
      "_model_module_version": "1.5.0",
      "_model_name": "DescriptionStyleModel",
      "_view_count": null,
      "_view_module": "@jupyter-widgets/base",
      "_view_module_version": "1.2.0",
      "_view_name": "StyleView",
      "description_width": ""
     }
    },
    "7939c6eb2c934f279dedbaf597d1f2de": {
     "model_module": "@jupyter-widgets/base",
     "model_name": "LayoutModel",
     "state": {
      "_model_module": "@jupyter-widgets/base",
      "_model_module_version": "1.2.0",
      "_model_name": "LayoutModel",
      "_view_count": null,
      "_view_module": "@jupyter-widgets/base",
      "_view_module_version": "1.2.0",
      "_view_name": "LayoutView",
      "align_content": null,
      "align_items": null,
      "align_self": null,
      "border": null,
      "bottom": null,
      "display": null,
      "flex": null,
      "flex_flow": null,
      "grid_area": null,
      "grid_auto_columns": null,
      "grid_auto_flow": null,
      "grid_auto_rows": null,
      "grid_column": null,
      "grid_gap": null,
      "grid_row": null,
      "grid_template_areas": null,
      "grid_template_columns": null,
      "grid_template_rows": null,
      "height": null,
      "justify_content": null,
      "justify_items": null,
      "left": null,
      "margin": null,
      "max_height": null,
      "max_width": null,
      "min_height": null,
      "min_width": null,
      "object_fit": null,
      "object_position": null,
      "order": null,
      "overflow": null,
      "overflow_x": null,
      "overflow_y": null,
      "padding": null,
      "right": null,
      "top": null,
      "visibility": null,
      "width": null
     }
    },
    "7c7755048ef543ef88af82adc198a7a4": {
     "model_module": "@jupyter-widgets/base",
     "model_name": "LayoutModel",
     "state": {
      "_model_module": "@jupyter-widgets/base",
      "_model_module_version": "1.2.0",
      "_model_name": "LayoutModel",
      "_view_count": null,
      "_view_module": "@jupyter-widgets/base",
      "_view_module_version": "1.2.0",
      "_view_name": "LayoutView",
      "align_content": null,
      "align_items": null,
      "align_self": null,
      "border": null,
      "bottom": null,
      "display": null,
      "flex": null,
      "flex_flow": null,
      "grid_area": null,
      "grid_auto_columns": null,
      "grid_auto_flow": null,
      "grid_auto_rows": null,
      "grid_column": null,
      "grid_gap": null,
      "grid_row": null,
      "grid_template_areas": null,
      "grid_template_columns": null,
      "grid_template_rows": null,
      "height": null,
      "justify_content": null,
      "justify_items": null,
      "left": null,
      "margin": null,
      "max_height": null,
      "max_width": null,
      "min_height": null,
      "min_width": null,
      "object_fit": null,
      "object_position": null,
      "order": null,
      "overflow": null,
      "overflow_x": null,
      "overflow_y": null,
      "padding": null,
      "right": null,
      "top": null,
      "visibility": null,
      "width": null
     }
    },
    "81ca25b5db184d25becfb6de9f5b660e": {
     "model_module": "@jupyter-widgets/controls",
     "model_name": "HBoxModel",
     "state": {
      "_dom_classes": [],
      "_model_module": "@jupyter-widgets/controls",
      "_model_module_version": "1.5.0",
      "_model_name": "HBoxModel",
      "_view_count": null,
      "_view_module": "@jupyter-widgets/controls",
      "_view_module_version": "1.5.0",
      "_view_name": "HBoxView",
      "box_style": "",
      "children": [
       "IPY_MODEL_e65c02163312477daf2c177254ab67fc",
       "IPY_MODEL_fde7025aa9dc492f996bd37bee262723"
      ],
      "layout": "IPY_MODEL_df0235a241d64a8c88c2879261646669"
     }
    },
    "82cb0994cb9f4d60a00425a5b1f7bcf7": {
     "model_module": "@jupyter-widgets/controls",
     "model_name": "FloatProgressModel",
     "state": {
      "_dom_classes": [],
      "_model_module": "@jupyter-widgets/controls",
      "_model_module_version": "1.5.0",
      "_model_name": "FloatProgressModel",
      "_view_count": null,
      "_view_module": "@jupyter-widgets/controls",
      "_view_module_version": "1.5.0",
      "_view_name": "ProgressView",
      "bar_style": "success",
      "description": "Downloading: 100%",
      "description_tooltip": null,
      "layout": "IPY_MODEL_7939c6eb2c934f279dedbaf597d1f2de",
      "max": 47376696,
      "min": 0,
      "orientation": "horizontal",
      "style": "IPY_MODEL_1789b59a3e50467abaeae1b6f34934b7",
      "value": 47376696
     }
    },
    "9545b208cb0148349f866e3b09b3f9b7": {
     "model_module": "@jupyter-widgets/controls",
     "model_name": "DescriptionStyleModel",
     "state": {
      "_model_module": "@jupyter-widgets/controls",
      "_model_module_version": "1.5.0",
      "_model_name": "DescriptionStyleModel",
      "_view_count": null,
      "_view_module": "@jupyter-widgets/base",
      "_view_module_version": "1.2.0",
      "_view_name": "StyleView",
      "description_width": ""
     }
    },
    "9a9485645ab14bd0862681d4a82bd871": {
     "model_module": "@jupyter-widgets/controls",
     "model_name": "HBoxModel",
     "state": {
      "_dom_classes": [],
      "_model_module": "@jupyter-widgets/controls",
      "_model_module_version": "1.5.0",
      "_model_name": "HBoxModel",
      "_view_count": null,
      "_view_module": "@jupyter-widgets/controls",
      "_view_module_version": "1.5.0",
      "_view_name": "HBoxView",
      "box_style": "",
      "children": [
       "IPY_MODEL_7731da4d6b0d4809912e1476d93c8d5f",
       "IPY_MODEL_d19087fb08d94481bf8baaa591a97320"
      ],
      "layout": "IPY_MODEL_dc7ded7a356044d5bc17cb5792cf9626"
     }
    },
    "a8dc71ed8bf64f58a698334dfe3683f3": {
     "model_module": "@jupyter-widgets/controls",
     "model_name": "HBoxModel",
     "state": {
      "_dom_classes": [],
      "_model_module": "@jupyter-widgets/controls",
      "_model_module_version": "1.5.0",
      "_model_name": "HBoxModel",
      "_view_count": null,
      "_view_module": "@jupyter-widgets/controls",
      "_view_module_version": "1.5.0",
      "_view_name": "HBoxView",
      "box_style": "",
      "children": [
       "IPY_MODEL_82cb0994cb9f4d60a00425a5b1f7bcf7",
       "IPY_MODEL_d080c9e018a34921a0e4c1727b085613"
      ],
      "layout": "IPY_MODEL_3dba28f39bfe40d6824f341f0025c457"
     }
    },
    "a95d254093e34545bc5d0fe4f0ddf0d6": {
     "model_module": "@jupyter-widgets/controls",
     "model_name": "DescriptionStyleModel",
     "state": {
      "_model_module": "@jupyter-widgets/controls",
      "_model_module_version": "1.5.0",
      "_model_name": "DescriptionStyleModel",
      "_view_count": null,
      "_view_module": "@jupyter-widgets/base",
      "_view_module_version": "1.2.0",
      "_view_name": "StyleView",
      "description_width": ""
     }
    },
    "afe4f41f203d4701a657c3730d242d85": {
     "model_module": "@jupyter-widgets/controls",
     "model_name": "FloatProgressModel",
     "state": {
      "_dom_classes": [],
      "_model_module": "@jupyter-widgets/controls",
      "_model_module_version": "1.5.0",
      "_model_name": "FloatProgressModel",
      "_view_count": null,
      "_view_module": "@jupyter-widgets/controls",
      "_view_module_version": "1.5.0",
      "_view_name": "ProgressView",
      "bar_style": "success",
      "description": "Downloading: 100%",
      "description_tooltip": null,
      "layout": "IPY_MODEL_e8bd5d43f933446998ed85587ef83a55",
      "max": 231508,
      "min": 0,
      "orientation": "horizontal",
      "style": "IPY_MODEL_b6272e9f1b6745fb98c5ed39fbd108eb",
      "value": 231508
     }
    },
    "b0cbf10bc2a14c1aa2f31e7c24a2c7b6": {
     "model_module": "@jupyter-widgets/controls",
     "model_name": "ProgressStyleModel",
     "state": {
      "_model_module": "@jupyter-widgets/controls",
      "_model_module_version": "1.5.0",
      "_model_name": "ProgressStyleModel",
      "_view_count": null,
      "_view_module": "@jupyter-widgets/base",
      "_view_module_version": "1.2.0",
      "_view_name": "StyleView",
      "bar_color": null,
      "description_width": "initial"
     }
    },
    "b2d0f49e81bc4135ab86e0920879a6c5": {
     "model_module": "@jupyter-widgets/base",
     "model_name": "LayoutModel",
     "state": {
      "_model_module": "@jupyter-widgets/base",
      "_model_module_version": "1.2.0",
      "_model_name": "LayoutModel",
      "_view_count": null,
      "_view_module": "@jupyter-widgets/base",
      "_view_module_version": "1.2.0",
      "_view_name": "LayoutView",
      "align_content": null,
      "align_items": null,
      "align_self": null,
      "border": null,
      "bottom": null,
      "display": null,
      "flex": null,
      "flex_flow": null,
      "grid_area": null,
      "grid_auto_columns": null,
      "grid_auto_flow": null,
      "grid_auto_rows": null,
      "grid_column": null,
      "grid_gap": null,
      "grid_row": null,
      "grid_template_areas": null,
      "grid_template_columns": null,
      "grid_template_rows": null,
      "height": null,
      "justify_content": null,
      "justify_items": null,
      "left": null,
      "margin": null,
      "max_height": null,
      "max_width": null,
      "min_height": null,
      "min_width": null,
      "object_fit": null,
      "object_position": null,
      "order": null,
      "overflow": null,
      "overflow_x": null,
      "overflow_y": null,
      "padding": null,
      "right": null,
      "top": null,
      "visibility": null,
      "width": null
     }
    },
    "b6272e9f1b6745fb98c5ed39fbd108eb": {
     "model_module": "@jupyter-widgets/controls",
     "model_name": "ProgressStyleModel",
     "state": {
      "_model_module": "@jupyter-widgets/controls",
      "_model_module_version": "1.5.0",
      "_model_name": "ProgressStyleModel",
      "_view_count": null,
      "_view_module": "@jupyter-widgets/base",
      "_view_module_version": "1.2.0",
      "_view_name": "StyleView",
      "bar_color": null,
      "description_width": "initial"
     }
    },
    "b75100d5d2304ae887e47d3d3d018be2": {
     "model_module": "@jupyter-widgets/controls",
     "model_name": "HTMLModel",
     "state": {
      "_dom_classes": [],
      "_model_module": "@jupyter-widgets/controls",
      "_model_module_version": "1.5.0",
      "_model_name": "HTMLModel",
      "_view_count": null,
      "_view_module": "@jupyter-widgets/controls",
      "_view_module_version": "1.5.0",
      "_view_name": "HTMLView",
      "description": "",
      "description_tooltip": null,
      "layout": "IPY_MODEL_72872116dde34bb89d3b30b2526a34b2",
      "placeholder": "​",
      "style": "IPY_MODEL_9545b208cb0148349f866e3b09b3f9b7",
      "value": " 232k/232k [00:00&lt;00:00, 613kB/s]"
     }
    },
    "bbd789f2dcf648fbbe8ab265757e5dfd": {
     "model_module": "@jupyter-widgets/base",
     "model_name": "LayoutModel",
     "state": {
      "_model_module": "@jupyter-widgets/base",
      "_model_module_version": "1.2.0",
      "_model_name": "LayoutModel",
      "_view_count": null,
      "_view_module": "@jupyter-widgets/base",
      "_view_module_version": "1.2.0",
      "_view_name": "LayoutView",
      "align_content": null,
      "align_items": null,
      "align_self": null,
      "border": null,
      "bottom": null,
      "display": null,
      "flex": null,
      "flex_flow": null,
      "grid_area": null,
      "grid_auto_columns": null,
      "grid_auto_flow": null,
      "grid_auto_rows": null,
      "grid_column": null,
      "grid_gap": null,
      "grid_row": null,
      "grid_template_areas": null,
      "grid_template_columns": null,
      "grid_template_rows": null,
      "height": null,
      "justify_content": null,
      "justify_items": null,
      "left": null,
      "margin": null,
      "max_height": null,
      "max_width": null,
      "min_height": null,
      "min_width": null,
      "object_fit": null,
      "object_position": null,
      "order": null,
      "overflow": null,
      "overflow_x": null,
      "overflow_y": null,
      "padding": null,
      "right": null,
      "top": null,
      "visibility": null,
      "width": null
     }
    },
    "c0e623e4792a4321958e670fde1f5c55": {
     "model_module": "@jupyter-widgets/base",
     "model_name": "LayoutModel",
     "state": {
      "_model_module": "@jupyter-widgets/base",
      "_model_module_version": "1.2.0",
      "_model_name": "LayoutModel",
      "_view_count": null,
      "_view_module": "@jupyter-widgets/base",
      "_view_module_version": "1.2.0",
      "_view_name": "LayoutView",
      "align_content": null,
      "align_items": null,
      "align_self": null,
      "border": null,
      "bottom": null,
      "display": null,
      "flex": null,
      "flex_flow": null,
      "grid_area": null,
      "grid_auto_columns": null,
      "grid_auto_flow": null,
      "grid_auto_rows": null,
      "grid_column": null,
      "grid_gap": null,
      "grid_row": null,
      "grid_template_areas": null,
      "grid_template_columns": null,
      "grid_template_rows": null,
      "height": null,
      "justify_content": null,
      "justify_items": null,
      "left": null,
      "margin": null,
      "max_height": null,
      "max_width": null,
      "min_height": null,
      "min_width": null,
      "object_fit": null,
      "object_position": null,
      "order": null,
      "overflow": null,
      "overflow_x": null,
      "overflow_y": null,
      "padding": null,
      "right": null,
      "top": null,
      "visibility": null,
      "width": null
     }
    },
    "c863b96dee8e4274b7d885b86481de68": {
     "model_module": "@jupyter-widgets/controls",
     "model_name": "ProgressStyleModel",
     "state": {
      "_model_module": "@jupyter-widgets/controls",
      "_model_module_version": "1.5.0",
      "_model_name": "ProgressStyleModel",
      "_view_count": null,
      "_view_module": "@jupyter-widgets/base",
      "_view_module_version": "1.2.0",
      "_view_name": "StyleView",
      "bar_color": null,
      "description_width": "initial"
     }
    },
    "cd36a5193ede4f918ff6ac626ca9d4c2": {
     "model_module": "@jupyter-widgets/base",
     "model_name": "LayoutModel",
     "state": {
      "_model_module": "@jupyter-widgets/base",
      "_model_module_version": "1.2.0",
      "_model_name": "LayoutModel",
      "_view_count": null,
      "_view_module": "@jupyter-widgets/base",
      "_view_module_version": "1.2.0",
      "_view_name": "LayoutView",
      "align_content": null,
      "align_items": null,
      "align_self": null,
      "border": null,
      "bottom": null,
      "display": null,
      "flex": null,
      "flex_flow": null,
      "grid_area": null,
      "grid_auto_columns": null,
      "grid_auto_flow": null,
      "grid_auto_rows": null,
      "grid_column": null,
      "grid_gap": null,
      "grid_row": null,
      "grid_template_areas": null,
      "grid_template_columns": null,
      "grid_template_rows": null,
      "height": null,
      "justify_content": null,
      "justify_items": null,
      "left": null,
      "margin": null,
      "max_height": null,
      "max_width": null,
      "min_height": null,
      "min_width": null,
      "object_fit": null,
      "object_position": null,
      "order": null,
      "overflow": null,
      "overflow_x": null,
      "overflow_y": null,
      "padding": null,
      "right": null,
      "top": null,
      "visibility": null,
      "width": null
     }
    },
    "d080c9e018a34921a0e4c1727b085613": {
     "model_module": "@jupyter-widgets/controls",
     "model_name": "HTMLModel",
     "state": {
      "_dom_classes": [],
      "_model_module": "@jupyter-widgets/controls",
      "_model_module_version": "1.5.0",
      "_model_name": "HTMLModel",
      "_view_count": null,
      "_view_module": "@jupyter-widgets/controls",
      "_view_module_version": "1.5.0",
      "_view_name": "HTMLView",
      "description": "",
      "description_tooltip": null,
      "layout": "IPY_MODEL_ef05432a9c6e4012a05f95b10ae4ef33",
      "placeholder": "​",
      "style": "IPY_MODEL_a95d254093e34545bc5d0fe4f0ddf0d6",
      "value": " 47.4M/47.4M [00:02&lt;00:00, 21.7MB/s]"
     }
    },
    "d19087fb08d94481bf8baaa591a97320": {
     "model_module": "@jupyter-widgets/controls",
     "model_name": "HTMLModel",
     "state": {
      "_dom_classes": [],
      "_model_module": "@jupyter-widgets/controls",
      "_model_module_version": "1.5.0",
      "_model_name": "HTMLModel",
      "_view_count": null,
      "_view_module": "@jupyter-widgets/controls",
      "_view_module_version": "1.5.0",
      "_view_name": "HTMLView",
      "description": "",
      "description_tooltip": null,
      "layout": "IPY_MODEL_14b7739f1f84459f8278ceb019a524af",
      "placeholder": "​",
      "style": "IPY_MODEL_1936936102574fda94f947ee694203ac",
      "value": " 684/684 [00:03&lt;00:00, 220B/s]"
     }
    },
    "dc7ded7a356044d5bc17cb5792cf9626": {
     "model_module": "@jupyter-widgets/base",
     "model_name": "LayoutModel",
     "state": {
      "_model_module": "@jupyter-widgets/base",
      "_model_module_version": "1.2.0",
      "_model_name": "LayoutModel",
      "_view_count": null,
      "_view_module": "@jupyter-widgets/base",
      "_view_module_version": "1.2.0",
      "_view_name": "LayoutView",
      "align_content": null,
      "align_items": null,
      "align_self": null,
      "border": null,
      "bottom": null,
      "display": null,
      "flex": null,
      "flex_flow": null,
      "grid_area": null,
      "grid_auto_columns": null,
      "grid_auto_flow": null,
      "grid_auto_rows": null,
      "grid_column": null,
      "grid_gap": null,
      "grid_row": null,
      "grid_template_areas": null,
      "grid_template_columns": null,
      "grid_template_rows": null,
      "height": null,
      "justify_content": null,
      "justify_items": null,
      "left": null,
      "margin": null,
      "max_height": null,
      "max_width": null,
      "min_height": null,
      "min_width": null,
      "object_fit": null,
      "object_position": null,
      "order": null,
      "overflow": null,
      "overflow_x": null,
      "overflow_y": null,
      "padding": null,
      "right": null,
      "top": null,
      "visibility": null,
      "width": null
     }
    },
    "df0235a241d64a8c88c2879261646669": {
     "model_module": "@jupyter-widgets/base",
     "model_name": "LayoutModel",
     "state": {
      "_model_module": "@jupyter-widgets/base",
      "_model_module_version": "1.2.0",
      "_model_name": "LayoutModel",
      "_view_count": null,
      "_view_module": "@jupyter-widgets/base",
      "_view_module_version": "1.2.0",
      "_view_name": "LayoutView",
      "align_content": null,
      "align_items": null,
      "align_self": null,
      "border": null,
      "bottom": null,
      "display": null,
      "flex": null,
      "flex_flow": null,
      "grid_area": null,
      "grid_auto_columns": null,
      "grid_auto_flow": null,
      "grid_auto_rows": null,
      "grid_column": null,
      "grid_gap": null,
      "grid_row": null,
      "grid_template_areas": null,
      "grid_template_columns": null,
      "grid_template_rows": null,
      "height": null,
      "justify_content": null,
      "justify_items": null,
      "left": null,
      "margin": null,
      "max_height": null,
      "max_width": null,
      "min_height": null,
      "min_width": null,
      "object_fit": null,
      "object_position": null,
      "order": null,
      "overflow": null,
      "overflow_x": null,
      "overflow_y": null,
      "padding": null,
      "right": null,
      "top": null,
      "visibility": null,
      "width": null
     }
    },
    "e2c99db48c4046dc856fde685ffe36ec": {
     "model_module": "@jupyter-widgets/base",
     "model_name": "LayoutModel",
     "state": {
      "_model_module": "@jupyter-widgets/base",
      "_model_module_version": "1.2.0",
      "_model_name": "LayoutModel",
      "_view_count": null,
      "_view_module": "@jupyter-widgets/base",
      "_view_module_version": "1.2.0",
      "_view_name": "LayoutView",
      "align_content": null,
      "align_items": null,
      "align_self": null,
      "border": null,
      "bottom": null,
      "display": null,
      "flex": null,
      "flex_flow": null,
      "grid_area": null,
      "grid_auto_columns": null,
      "grid_auto_flow": null,
      "grid_auto_rows": null,
      "grid_column": null,
      "grid_gap": null,
      "grid_row": null,
      "grid_template_areas": null,
      "grid_template_columns": null,
      "grid_template_rows": null,
      "height": null,
      "justify_content": null,
      "justify_items": null,
      "left": null,
      "margin": null,
      "max_height": null,
      "max_width": null,
      "min_height": null,
      "min_width": null,
      "object_fit": null,
      "object_position": null,
      "order": null,
      "overflow": null,
      "overflow_x": null,
      "overflow_y": null,
      "padding": null,
      "right": null,
      "top": null,
      "visibility": null,
      "width": null
     }
    },
    "e65c02163312477daf2c177254ab67fc": {
     "model_module": "@jupyter-widgets/controls",
     "model_name": "FloatProgressModel",
     "state": {
      "_dom_classes": [],
      "_model_module": "@jupyter-widgets/controls",
      "_model_module_version": "1.5.0",
      "_model_name": "FloatProgressModel",
      "_view_count": null,
      "_view_module": "@jupyter-widgets/controls",
      "_view_module_version": "1.5.0",
      "_view_name": "ProgressView",
      "bar_style": "success",
      "description": "Downloading: 100%",
      "description_tooltip": null,
      "layout": "IPY_MODEL_f7aa0dd5cf054ff188a092521b8af4f9",
      "max": 760289,
      "min": 0,
      "orientation": "horizontal",
      "style": "IPY_MODEL_c863b96dee8e4274b7d885b86481de68",
      "value": 760289
     }
    },
    "e8b8e5f319d24ecd8c92e999f0489ed5": {
     "model_module": "@jupyter-widgets/controls",
     "model_name": "FloatProgressModel",
     "state": {
      "_dom_classes": [],
      "_model_module": "@jupyter-widgets/controls",
      "_model_module_version": "1.5.0",
      "_model_name": "FloatProgressModel",
      "_view_count": null,
      "_view_module": "@jupyter-widgets/controls",
      "_view_module_version": "1.5.0",
      "_view_name": "ProgressView",
      "bar_style": "success",
      "description": "Downloading: 100%",
      "description_tooltip": null,
      "layout": "IPY_MODEL_e2c99db48c4046dc856fde685ffe36ec",
      "max": 54236116,
      "min": 0,
      "orientation": "horizontal",
      "style": "IPY_MODEL_fbe3828237584d89b0eb1fde31a99df9",
      "value": 54236116
     }
    },
    "e8bd5d43f933446998ed85587ef83a55": {
     "model_module": "@jupyter-widgets/base",
     "model_name": "LayoutModel",
     "state": {
      "_model_module": "@jupyter-widgets/base",
      "_model_module_version": "1.2.0",
      "_model_name": "LayoutModel",
      "_view_count": null,
      "_view_module": "@jupyter-widgets/base",
      "_view_module_version": "1.2.0",
      "_view_name": "LayoutView",
      "align_content": null,
      "align_items": null,
      "align_self": null,
      "border": null,
      "bottom": null,
      "display": null,
      "flex": null,
      "flex_flow": null,
      "grid_area": null,
      "grid_auto_columns": null,
      "grid_auto_flow": null,
      "grid_auto_rows": null,
      "grid_column": null,
      "grid_gap": null,
      "grid_row": null,
      "grid_template_areas": null,
      "grid_template_columns": null,
      "grid_template_rows": null,
      "height": null,
      "justify_content": null,
      "justify_items": null,
      "left": null,
      "margin": null,
      "max_height": null,
      "max_width": null,
      "min_height": null,
      "min_width": null,
      "object_fit": null,
      "object_position": null,
      "order": null,
      "overflow": null,
      "overflow_x": null,
      "overflow_y": null,
      "padding": null,
      "right": null,
      "top": null,
      "visibility": null,
      "width": null
     }
    },
    "eb7d4915bf1744ee993e4ff5e7dc58c6": {
     "model_module": "@jupyter-widgets/controls",
     "model_name": "HBoxModel",
     "state": {
      "_dom_classes": [],
      "_model_module": "@jupyter-widgets/controls",
      "_model_module_version": "1.5.0",
      "_model_name": "HBoxModel",
      "_view_count": null,
      "_view_module": "@jupyter-widgets/controls",
      "_view_module_version": "1.5.0",
      "_view_name": "HBoxView",
      "box_style": "",
      "children": [
       "IPY_MODEL_5fc1df4382794735a0dcf2a1847fd5f8",
       "IPY_MODEL_0bb0220969d94253bb802834202e3459"
      ],
      "layout": "IPY_MODEL_7c7755048ef543ef88af82adc198a7a4"
     }
    },
    "ef05432a9c6e4012a05f95b10ae4ef33": {
     "model_module": "@jupyter-widgets/base",
     "model_name": "LayoutModel",
     "state": {
      "_model_module": "@jupyter-widgets/base",
      "_model_module_version": "1.2.0",
      "_model_name": "LayoutModel",
      "_view_count": null,
      "_view_module": "@jupyter-widgets/base",
      "_view_module_version": "1.2.0",
      "_view_name": "LayoutView",
      "align_content": null,
      "align_items": null,
      "align_self": null,
      "border": null,
      "bottom": null,
      "display": null,
      "flex": null,
      "flex_flow": null,
      "grid_area": null,
      "grid_auto_columns": null,
      "grid_auto_flow": null,
      "grid_auto_rows": null,
      "grid_column": null,
      "grid_gap": null,
      "grid_row": null,
      "grid_template_areas": null,
      "grid_template_columns": null,
      "grid_template_rows": null,
      "height": null,
      "justify_content": null,
      "justify_items": null,
      "left": null,
      "margin": null,
      "max_height": null,
      "max_width": null,
      "min_height": null,
      "min_width": null,
      "object_fit": null,
      "object_position": null,
      "order": null,
      "overflow": null,
      "overflow_x": null,
      "overflow_y": null,
      "padding": null,
      "right": null,
      "top": null,
      "visibility": null,
      "width": null
     }
    },
    "f5a421400e724bd6855fe8885174a76b": {
     "model_module": "@jupyter-widgets/controls",
     "model_name": "DescriptionStyleModel",
     "state": {
      "_model_module": "@jupyter-widgets/controls",
      "_model_module_version": "1.5.0",
      "_model_name": "DescriptionStyleModel",
      "_view_count": null,
      "_view_module": "@jupyter-widgets/base",
      "_view_module_version": "1.2.0",
      "_view_name": "StyleView",
      "description_width": ""
     }
    },
    "f7aa0dd5cf054ff188a092521b8af4f9": {
     "model_module": "@jupyter-widgets/base",
     "model_name": "LayoutModel",
     "state": {
      "_model_module": "@jupyter-widgets/base",
      "_model_module_version": "1.2.0",
      "_model_name": "LayoutModel",
      "_view_count": null,
      "_view_module": "@jupyter-widgets/base",
      "_view_module_version": "1.2.0",
      "_view_name": "LayoutView",
      "align_content": null,
      "align_items": null,
      "align_self": null,
      "border": null,
      "bottom": null,
      "display": null,
      "flex": null,
      "flex_flow": null,
      "grid_area": null,
      "grid_auto_columns": null,
      "grid_auto_flow": null,
      "grid_auto_rows": null,
      "grid_column": null,
      "grid_gap": null,
      "grid_row": null,
      "grid_template_areas": null,
      "grid_template_columns": null,
      "grid_template_rows": null,
      "height": null,
      "justify_content": null,
      "justify_items": null,
      "left": null,
      "margin": null,
      "max_height": null,
      "max_width": null,
      "min_height": null,
      "min_width": null,
      "object_fit": null,
      "object_position": null,
      "order": null,
      "overflow": null,
      "overflow_x": null,
      "overflow_y": null,
      "padding": null,
      "right": null,
      "top": null,
      "visibility": null,
      "width": null
     }
    },
    "fbe3828237584d89b0eb1fde31a99df9": {
     "model_module": "@jupyter-widgets/controls",
     "model_name": "ProgressStyleModel",
     "state": {
      "_model_module": "@jupyter-widgets/controls",
      "_model_module_version": "1.5.0",
      "_model_name": "ProgressStyleModel",
      "_view_count": null,
      "_view_module": "@jupyter-widgets/base",
      "_view_module_version": "1.2.0",
      "_view_name": "StyleView",
      "bar_color": null,
      "description_width": "initial"
     }
    },
    "fde7025aa9dc492f996bd37bee262723": {
     "model_module": "@jupyter-widgets/controls",
     "model_name": "HTMLModel",
     "state": {
      "_dom_classes": [],
      "_model_module": "@jupyter-widgets/controls",
      "_model_module_version": "1.5.0",
      "_model_name": "HTMLModel",
      "_view_count": null,
      "_view_module": "@jupyter-widgets/controls",
      "_view_module_version": "1.5.0",
      "_view_name": "HTMLView",
      "description": "",
      "description_tooltip": null,
      "layout": "IPY_MODEL_252307a31a2048e1af0d01efc9f5af43",
      "placeholder": "​",
      "style": "IPY_MODEL_f5a421400e724bd6855fe8885174a76b",
      "value": " 760k/760k [00:01&lt;00:00, 598kB/s]"
     }
    },
    "fecd06fc87ab46e08c11672ecd75c008": {
     "model_module": "@jupyter-widgets/controls",
     "model_name": "HBoxModel",
     "state": {
      "_dom_classes": [],
      "_model_module": "@jupyter-widgets/controls",
      "_model_module_version": "1.5.0",
      "_model_name": "HBoxModel",
      "_view_count": null,
      "_view_module": "@jupyter-widgets/controls",
      "_view_module_version": "1.5.0",
      "_view_name": "HBoxView",
      "box_style": "",
      "children": [
       "IPY_MODEL_afe4f41f203d4701a657c3730d242d85",
       "IPY_MODEL_b75100d5d2304ae887e47d3d3d018be2"
      ],
      "layout": "IPY_MODEL_bbd789f2dcf648fbbe8ab265757e5dfd"
     }
    }
   }
  }
 },
 "nbformat": 4,
 "nbformat_minor": 1
}
