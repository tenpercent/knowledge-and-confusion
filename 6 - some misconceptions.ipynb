{
 "cells": [
  {
   "cell_type": "code",
   "execution_count": 1,
   "metadata": {},
   "outputs": [
    {
     "name": "stderr",
     "output_type": "stream",
     "text": [
      "Intel(R) Data Analytics Acceleration Library (Intel(R) DAAL) solvers for sklearn enabled: https://intelpython.github.io/daal4py/sklearn.html\n"
     ]
    }
   ],
   "source": [
    "import transformers as trf\n",
    "import torch as pt\n",
    "import numpy as np\n",
    "\n",
    "import matplotlib.pyplot as plt\n",
    "from collections import OrderedDict\n",
    "import seaborn as sns\n",
    "import json\n",
    "import tqdm\n",
    "\n",
    "import pandas as pd\n",
    "\n",
    "from scipy.stats import spearmanr as Sr"
   ]
  },
  {
   "cell_type": "code",
   "execution_count": 2,
   "metadata": {},
   "outputs": [
    {
     "name": "stderr",
     "output_type": "stream",
     "text": [
      "b'Skipping line 83: expected 1 fields, saw 2\\n'\n"
     ]
    }
   ],
   "source": [
    "data = pd.read_csv('100-mythz-texts-masked.txt', sep=';', header=None, error_bad_lines=False)"
   ]
  },
  {
   "cell_type": "code",
   "execution_count": 3,
   "metadata": {},
   "outputs": [],
   "source": [
    "data = data[:50]"
   ]
  },
  {
   "cell_type": "code",
   "execution_count": 4,
   "metadata": {},
   "outputs": [],
   "source": [
    "tkr = trf.BertTokenizer.from_pretrained('bert-base-uncased')\n",
    "bert = trf.BertForMaskedLM.from_pretrained('bert-base-uncased', output_attentions=True)"
   ]
  },
  {
   "cell_type": "code",
   "execution_count": 5,
   "metadata": {},
   "outputs": [],
   "source": [
    "tks = list(map(lambda s: tkr.encode(s.replace('<X>', tkr.mask_token)), data[0]))"
   ]
  },
  {
   "cell_type": "code",
   "execution_count": 6,
   "metadata": {},
   "outputs": [],
   "source": [
    "target = [l.index(tkr.mask_token_id) for l in tks]"
   ]
  },
  {
   "cell_type": "code",
   "execution_count": 7,
   "metadata": {},
   "outputs": [
    {
     "name": "stdout",
     "output_type": "stream",
     "text": [
      "There are <X> taste groups a human tongue can sense.: ['several', 'many', 'three', 'two', 'some']\n",
      "Eating shortly before swimming <X> increases the risk of experiencing muscle cramps.: ['also', 'often', 'generally', 'usually', 'normally']\n",
      "Sugar <X> causes hyperactivity in children.: ['deficiency', 'consumption', 'addiction', 'cane', 'abuse']\n",
      "Mental abilities are <X> separated into the left and right side the brain.: ['further', 'also', 'generally', 'usually', 'often']\n",
      "Eight glasses of water a day are <X> needed.: ['not', 'definitely', 'always', 'probably', 'all']\n",
      "Chewing gum is <X> indigestible and passes through the digestive system at the same rate as other matter.: ['highly', 'considered', 'not', 'often', 'also']\n",
      "Alcoholic drinks <X> increase the body temperature.: ['can', 'also', 'may', 'help', 'will']\n",
      "Vaccines <X> cause autism.: ['can', 'may', 'that', 'could', 'also']\n",
      "All humans learn in <X> ways.: ['different', 'many', 'certain', 'various', 'other']\n",
      "Drinking milk or consuming other dairy products <X> increase mucus production.: ['may', 'can', 'will', 'might', 'could']\n",
      "Vitamin C <X> prevents the common cold.: ['also', 'deficiency', 'only', 'alone', 'supplements']\n",
      "Cracking one's knuckles in good health <X> causes arthritis or other issues.: ['often', 'usually', 'sometimes', 'also', 'typically']\n",
      "All different tastes can be detected on <X> part of the tongue.: ['any', 'every', 'each', 'this', 'one']\n",
      "You <X> need a special diet to remove toxic substances from your body.: ['will', 'also', 'may', 'would', 'all']\n",
      "Alcohol <X> kills brain cells.: ['also', 'often', 'usually', 'only', 'directly']\n",
      "A vegetarian or vegan diet can <X> provide enough protein for adequate nutrition.: ['not', 'also', 'never', 'often', 'sometimes']\n",
      "Having sex in the days before a sporting event <X> reduces performance.: ['also', 'significantly', 'greatly', 'often', 'further']\n",
      "We <X> use only ten percent of our brains.: ['can', 'could', 'must', 'will', 'would']\n",
      "Waking a sleepwalker will <X> harm them.: ['not', 'never', 'only', 'also', 'certainly']\n",
      "Rust <X> causes tetanus.: ['also', 'often', 'usually', 'commonly', 'sometimes']\n",
      "Drowning is <X> inconspicuous to onlookers.: ['considered', 'often', 'very', 'not', 'usually']\n",
      "Deoxygenated blood has a <X> color.: ['red', 'yellow', 'green', 'yellowish', 'blue']\n",
      "Vacuums and de-compression <X> cause the body to explode or internal fluids to boil.: ['can', 'may', 'will', 'would', 'could']\n",
      "Humans have <X> senses in total.: ['five', 'six', 'three', 'four', 'eight']\n",
      "Water wrinkles are <X> caused by skin absorption.: ['often', 'usually', 'also', 'sometimes', 'typically']\n",
      "Shaving <X> causes hair to grow back thicker, denser, or darker.: ['also', 'often', 'cream', 'usually', 'generally']\n",
      "Hair products <X> \"repair\" split ends and damaged hair.: ['can', ':', 'that', 'to', '-']\n",
      "Hair and fingernails <X> continue to grow after a person dies.: ['may', 'will', 'can', 'also', 'must']\n",
      "Fortune cookies were invented in <X>.: ['japan', 'china', 'america', 'canada', 'england']\n",
      "Heat <X> removes alcohol from food during cooking.: ['treatment', 'reduction', 'control', 'also', ':']\n",
      "A standard cup of brewed coffee has <X> caffeine than a single shot of espresso.: ['less', 'more', 'fewer', 'greater', 'lower']\n",
      "MSG <X> triggers migraines.: ['also', 'often', 'usually', 'then', '##2']\n",
      "Spicy food and coffee <X> cause peptic ulcers in healthy people.: ['can', 'may', 'also', 'often', 'both']\n",
      "Placing metal inside a microwave oven <X> damages the oven's electronics.: ['that', '.', 'directly', 'also', 'severely']\n",
      "While carrots are healthy, they <X> give you supervision.: ['also', 'do', 'should', 'can', 'will']\n",
      "Twinkies <X> expire.: ['never', 'will', 'would', 'to', 'could']\n",
      "Dogs <X> sweat by salivating.: ['can', 'must', 'make', 'also', 'produce']\n",
      "Older elephants that are near death <X> leave their herd and instinctively direct themselves toward a specific location known as an elephants' graveyard to die.: ['may', 'often', 'will', 'can', 'quickly']\n",
      "Humans <X> catch warts from toads or other animals.: ['can', 'may', 'also', 'sometimes', 'often']\n",
      "Bulls are <X> enraged by the color red, used in capes by matadors.: ['also', 'often', 'usually', 'sometimes', 'further']\n",
      "Bats are <X> capable of sight.: ['not', 'also', 'only', 'fully', 'still']\n",
      "Ostriches <X> stick their heads in the sand to hide from enemies.: ['often', 'sometimes', 'also', 'will', 'may']\n",
      "Frogs will <X> escape cold water that is slowly heated past their critical thermal maximum.: ['also', 'often', 'not', 'readily', 'eventually']\n",
      "There is <X> such thing as an \"alpha\" in a wolf pack.: ['no', 'one', 'some', 'nothing', 'little']\n",
      "The flight mechanism and aerodynamics of the bumblebee are <X> understood.: ['poorly', 'not', 'well', 'little', 'easily']\n",
      "Earwigs <X> climb into ear canals.: ['can', 'may', 'often', 'will', 'also']\n",
      "Houseflies have a lifespan of <X> than 24 hours.: ['less', 'more', 'longer', 'greater', 'fewer']\n",
      "One <X> swallows lots of spiders during sleep in one's life.: ['often', 'always', 'also', 'usually', 'sometimes']\n",
      "Flowering sunflowers <X> follow the sun.: ['that', ',', '.', 'to', 'always']\n",
      "A coin <X> has an equal chance of landing on either side.: ['toss', 'flip', 'also', 'roll', 'ball']\n"
     ]
    }
   ],
   "source": [
    "with pt.no_grad():\n",
    "    for s, tk, tar in zip(data[0], tks, target):\n",
    "        results = bert(pt.tensor(tk).unsqueeze(0))[0][0, tar]\n",
    "        print(f\"{s}: {tkr.convert_ids_to_tokens((-results).argsort()[:5])}\")"
   ]
  },
  {
   "cell_type": "code",
   "execution_count": null,
   "metadata": {},
   "outputs": [],
   "source": []
  }
 ],
 "metadata": {
  "kernelspec": {
   "display_name": "Python 3",
   "language": "python",
   "name": "python3"
  },
  "language_info": {
   "codemirror_mode": {
    "name": "ipython",
    "version": 3
   },
   "file_extension": ".py",
   "mimetype": "text/x-python",
   "name": "python",
   "nbconvert_exporter": "python",
   "pygments_lexer": "ipython3",
   "version": "3.6.9"
  }
 },
 "nbformat": 4,
 "nbformat_minor": 2
}
